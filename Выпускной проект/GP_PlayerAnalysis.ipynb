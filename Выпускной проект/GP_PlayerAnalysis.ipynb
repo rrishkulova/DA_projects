{
 "cells": [
  {
   "cell_type": "markdown",
   "metadata": {},
   "source": [
    "# Анализ рекламных источников мобильной игры \"Космические братья\""
   ]
  },
  {
   "cell_type": "markdown",
   "metadata": {},
   "source": [
    "Основной датасет содержит данные о событиях, совершенных в мобильной игре «Космические братья». В ней пользователи строят свою космическую программу и пытаются преуспеть в нелёгком деле колонизации галактики.  \n",
    "В датасете представлены данные по игре пользователей на первом уровне. Завершение первого уровня требует от игрока выполнения одного из двух условий:\n",
    "\n",
    "- Победа над первым врагом\n",
    "- Реализация проекта - разработка орбитальной сборки спутников\n",
    "\n",
    "В датасете содержатся данные первых пользователей приложения — когорты пользователей, которые начали пользоваться приложением в период с 4 по 10 мая включительно.  \n",
    "\n",
    "Помимо основного датасета есть два датасета с информацией о рекламных активностях: источниках перехода и стоимости кликов."
   ]
  },
  {
   "cell_type": "markdown",
   "metadata": {},
   "source": [
    "**Целью исследования** является анализ поведения игроков в зависимости от рекламного источника перехода.  "
   ]
  },
  {
   "attachments": {},
   "cell_type": "markdown",
   "metadata": {},
   "source": [
    "**Этапы исследования:**\n",
    "\n",
    "1. Обзор данных   \n",
    "2. Предобработка данных   \n",
    "3. Исследовательский анализ данных   \n",
    "4. Проверка гипотез   \n",
    "5. Вывод"
   ]
  },
  {
   "cell_type": "markdown",
   "metadata": {},
   "source": [
    "<a name=\"h1\"></a>\n",
    "### 1. Обзор данных"
   ]
  },
  {
   "cell_type": "markdown",
   "metadata": {},
   "source": [
    "#### Импорт библиотек"
   ]
  },
  {
   "cell_type": "code",
   "execution_count": 1,
   "metadata": {},
   "outputs": [],
   "source": [
    "import pandas as pd\n",
    "\n",
    "import matplotlib.pyplot as plt\n",
    "from matplotlib import rc\n",
    "import seaborn as sns\n",
    "\n",
    "import numpy as np\n",
    "import math as mth\n",
    "import scipy.stats as stats\n",
    "from scipy import stats as st\n",
    "\n",
    "from pandas.plotting import register_matplotlib_converters\n",
    "register_matplotlib_converters()"
   ]
  },
  {
   "cell_type": "markdown",
   "metadata": {},
   "source": [
    "#### Настройка"
   ]
  },
  {
   "cell_type": "code",
   "execution_count": 2,
   "metadata": {},
   "outputs": [],
   "source": [
    "#отображение данных до двух знаков после запятой\n",
    "pd.set_option('display.precision', 2)\n",
    "\n",
    "#вывод всех значений ячейки\n",
    "from IPython.core.interactiveshell import InteractiveShell\n",
    "InteractiveShell.ast_node_interactivity = \"all\"\n",
    "\n",
    "import warnings\n",
    "warnings.simplefilter(action='ignore', category=FutureWarning)"
   ]
  },
  {
   "cell_type": "markdown",
   "metadata": {},
   "source": [
    "#### Анализ файлов"
   ]
  },
  {
   "cell_type": "code",
   "execution_count": 3,
   "metadata": {},
   "outputs": [],
   "source": [
    "game_actions = pd.read_csv('/datasets/game_actions.csv')\n",
    "user_source = pd.read_csv('/datasets/user_source.csv')\n",
    "ad_costs = pd.read_csv('/datasets/ad_costs.csv')"
   ]
  },
  {
   "cell_type": "code",
   "execution_count": 4,
   "metadata": {
    "scrolled": true
   },
   "outputs": [
    {
     "data": {
      "text/html": [
       "<div>\n",
       "<style scoped>\n",
       "    .dataframe tbody tr th:only-of-type {\n",
       "        vertical-align: middle;\n",
       "    }\n",
       "\n",
       "    .dataframe tbody tr th {\n",
       "        vertical-align: top;\n",
       "    }\n",
       "\n",
       "    .dataframe thead th {\n",
       "        text-align: right;\n",
       "    }\n",
       "</style>\n",
       "<table border=\"1\" class=\"dataframe\">\n",
       "  <thead>\n",
       "    <tr style=\"text-align: right;\">\n",
       "      <th></th>\n",
       "      <th>event_datetime</th>\n",
       "      <th>event</th>\n",
       "      <th>building_type</th>\n",
       "      <th>user_id</th>\n",
       "      <th>project_type</th>\n",
       "    </tr>\n",
       "  </thead>\n",
       "  <tbody>\n",
       "    <tr>\n",
       "      <td>0</td>\n",
       "      <td>2020-05-04 00:00:01</td>\n",
       "      <td>building</td>\n",
       "      <td>assembly_shop</td>\n",
       "      <td>55e92310-cb8e-4754-b622-597e124b03de</td>\n",
       "      <td>NaN</td>\n",
       "    </tr>\n",
       "    <tr>\n",
       "      <td>1</td>\n",
       "      <td>2020-05-04 00:00:03</td>\n",
       "      <td>building</td>\n",
       "      <td>assembly_shop</td>\n",
       "      <td>c07b1c10-f477-44dc-81dc-ec82254b1347</td>\n",
       "      <td>NaN</td>\n",
       "    </tr>\n",
       "    <tr>\n",
       "      <td>2</td>\n",
       "      <td>2020-05-04 00:00:16</td>\n",
       "      <td>building</td>\n",
       "      <td>assembly_shop</td>\n",
       "      <td>6edd42cc-e753-4ff6-a947-2107cd560710</td>\n",
       "      <td>NaN</td>\n",
       "    </tr>\n",
       "  </tbody>\n",
       "</table>\n",
       "</div>"
      ],
      "text/plain": [
       "        event_datetime     event  building_type  \\\n",
       "0  2020-05-04 00:00:01  building  assembly_shop   \n",
       "1  2020-05-04 00:00:03  building  assembly_shop   \n",
       "2  2020-05-04 00:00:16  building  assembly_shop   \n",
       "\n",
       "                                user_id project_type  \n",
       "0  55e92310-cb8e-4754-b622-597e124b03de          NaN  \n",
       "1  c07b1c10-f477-44dc-81dc-ec82254b1347          NaN  \n",
       "2  6edd42cc-e753-4ff6-a947-2107cd560710          NaN  "
      ]
     },
     "execution_count": 4,
     "metadata": {},
     "output_type": "execute_result"
    }
   ],
   "source": [
    "game_actions.head(3)"
   ]
  },
  {
   "cell_type": "code",
   "execution_count": 5,
   "metadata": {},
   "outputs": [
    {
     "name": "stdout",
     "output_type": "stream",
     "text": [
      "<class 'pandas.core.frame.DataFrame'>\n",
      "RangeIndex: 135640 entries, 0 to 135639\n",
      "Data columns (total 5 columns):\n",
      "event_datetime    135640 non-null object\n",
      "event             135640 non-null object\n",
      "building_type     127957 non-null object\n",
      "user_id           135640 non-null object\n",
      "project_type      1866 non-null object\n",
      "dtypes: object(5)\n",
      "memory usage: 5.2+ MB\n"
     ]
    }
   ],
   "source": [
    "game_actions.info()"
   ]
  },
  {
   "cell_type": "markdown",
   "metadata": {},
   "source": [
    "Представлены данные о 135 640 о событиях, совершенных в мобильной игре «Космические братья». Необходимо исправить тип данных в столбце `event_datetime`, проверить и устранить при необходимости пропуски в столбцах `building_type` и `project_type`"
   ]
  },
  {
   "cell_type": "code",
   "execution_count": 6,
   "metadata": {
    "scrolled": false
   },
   "outputs": [
    {
     "data": {
      "text/html": [
       "<div>\n",
       "<style scoped>\n",
       "    .dataframe tbody tr th:only-of-type {\n",
       "        vertical-align: middle;\n",
       "    }\n",
       "\n",
       "    .dataframe tbody tr th {\n",
       "        vertical-align: top;\n",
       "    }\n",
       "\n",
       "    .dataframe thead th {\n",
       "        text-align: right;\n",
       "    }\n",
       "</style>\n",
       "<table border=\"1\" class=\"dataframe\">\n",
       "  <thead>\n",
       "    <tr style=\"text-align: right;\">\n",
       "      <th></th>\n",
       "      <th>source</th>\n",
       "      <th>day</th>\n",
       "      <th>cost</th>\n",
       "    </tr>\n",
       "  </thead>\n",
       "  <tbody>\n",
       "    <tr>\n",
       "      <td>0</td>\n",
       "      <td>facebook_ads</td>\n",
       "      <td>2020-05-03</td>\n",
       "      <td>935.88</td>\n",
       "    </tr>\n",
       "    <tr>\n",
       "      <td>1</td>\n",
       "      <td>facebook_ads</td>\n",
       "      <td>2020-05-04</td>\n",
       "      <td>548.35</td>\n",
       "    </tr>\n",
       "    <tr>\n",
       "      <td>2</td>\n",
       "      <td>facebook_ads</td>\n",
       "      <td>2020-05-05</td>\n",
       "      <td>260.19</td>\n",
       "    </tr>\n",
       "  </tbody>\n",
       "</table>\n",
       "</div>"
      ],
      "text/plain": [
       "         source         day    cost\n",
       "0  facebook_ads  2020-05-03  935.88\n",
       "1  facebook_ads  2020-05-04  548.35\n",
       "2  facebook_ads  2020-05-05  260.19"
      ]
     },
     "execution_count": 6,
     "metadata": {},
     "output_type": "execute_result"
    }
   ],
   "source": [
    "ad_costs.head(3)"
   ]
  },
  {
   "cell_type": "code",
   "execution_count": 7,
   "metadata": {
    "scrolled": false
   },
   "outputs": [
    {
     "name": "stdout",
     "output_type": "stream",
     "text": [
      "<class 'pandas.core.frame.DataFrame'>\n",
      "RangeIndex: 28 entries, 0 to 27\n",
      "Data columns (total 3 columns):\n",
      "source    28 non-null object\n",
      "day       28 non-null object\n",
      "cost      28 non-null float64\n",
      "dtypes: float64(1), object(2)\n",
      "memory usage: 800.0+ bytes\n"
     ]
    }
   ],
   "source": [
    "ad_costs.info()"
   ]
  },
  {
   "cell_type": "markdown",
   "metadata": {},
   "source": [
    "Датасет `ad_cost.csv` содержит информацию о дате клика, источнике трафика и стомости клика. Пропусков нет, однако необходимо исправить тип данных в столбце `day`"
   ]
  },
  {
   "cell_type": "code",
   "execution_count": 8,
   "metadata": {
    "scrolled": true
   },
   "outputs": [
    {
     "data": {
      "text/html": [
       "<div>\n",
       "<style scoped>\n",
       "    .dataframe tbody tr th:only-of-type {\n",
       "        vertical-align: middle;\n",
       "    }\n",
       "\n",
       "    .dataframe tbody tr th {\n",
       "        vertical-align: top;\n",
       "    }\n",
       "\n",
       "    .dataframe thead th {\n",
       "        text-align: right;\n",
       "    }\n",
       "</style>\n",
       "<table border=\"1\" class=\"dataframe\">\n",
       "  <thead>\n",
       "    <tr style=\"text-align: right;\">\n",
       "      <th></th>\n",
       "      <th>user_id</th>\n",
       "      <th>source</th>\n",
       "    </tr>\n",
       "  </thead>\n",
       "  <tbody>\n",
       "    <tr>\n",
       "      <td>0</td>\n",
       "      <td>0001f83c-c6ac-4621-b7f0-8a28b283ac30</td>\n",
       "      <td>facebook_ads</td>\n",
       "    </tr>\n",
       "    <tr>\n",
       "      <td>1</td>\n",
       "      <td>00151b4f-ba38-44a8-a650-d7cf130a0105</td>\n",
       "      <td>yandex_direct</td>\n",
       "    </tr>\n",
       "    <tr>\n",
       "      <td>2</td>\n",
       "      <td>001aaea6-3d14-43f1-8ca8-7f48820f17aa</td>\n",
       "      <td>youtube_channel_reklama</td>\n",
       "    </tr>\n",
       "  </tbody>\n",
       "</table>\n",
       "</div>"
      ],
      "text/plain": [
       "                                user_id                   source\n",
       "0  0001f83c-c6ac-4621-b7f0-8a28b283ac30             facebook_ads\n",
       "1  00151b4f-ba38-44a8-a650-d7cf130a0105            yandex_direct\n",
       "2  001aaea6-3d14-43f1-8ca8-7f48820f17aa  youtube_channel_reklama"
      ]
     },
     "execution_count": 8,
     "metadata": {},
     "output_type": "execute_result"
    }
   ],
   "source": [
    "user_source.head(3)"
   ]
  },
  {
   "cell_type": "code",
   "execution_count": 9,
   "metadata": {},
   "outputs": [
    {
     "name": "stdout",
     "output_type": "stream",
     "text": [
      "<class 'pandas.core.frame.DataFrame'>\n",
      "RangeIndex: 13576 entries, 0 to 13575\n",
      "Data columns (total 2 columns):\n",
      "user_id    13576 non-null object\n",
      "source     13576 non-null object\n",
      "dtypes: object(2)\n",
      "memory usage: 212.2+ KB\n"
     ]
    }
   ],
   "source": [
    "user_source.info()"
   ]
  },
  {
   "cell_type": "markdown",
   "metadata": {},
   "source": [
    "Доступна информация о рекламных источниках с которых пришли 13 576 пользователей, установивших приложение. Типы данных корректны, пропусков нет."
   ]
  },
  {
   "cell_type": "markdown",
   "metadata": {},
   "source": [
    "<a name=\"h2\"></a>\n",
    "### 2. Предобработка данных"
   ]
  },
  {
   "cell_type": "markdown",
   "metadata": {},
   "source": [
    "- Проверим данные на наличие пропусков"
   ]
  },
  {
   "cell_type": "code",
   "execution_count": 10,
   "metadata": {},
   "outputs": [
    {
     "data": {
      "text/plain": [
       "source    0\n",
       "day       0\n",
       "cost      0\n",
       "dtype: int64"
      ]
     },
     "execution_count": 10,
     "metadata": {},
     "output_type": "execute_result"
    }
   ],
   "source": [
    "ad_costs.isnull().sum()"
   ]
  },
  {
   "cell_type": "code",
   "execution_count": 11,
   "metadata": {},
   "outputs": [
    {
     "data": {
      "text/plain": [
       "user_id    0\n",
       "source     0\n",
       "dtype: int64"
      ]
     },
     "execution_count": 11,
     "metadata": {},
     "output_type": "execute_result"
    }
   ],
   "source": [
    "user_source.isnull().sum()"
   ]
  },
  {
   "cell_type": "code",
   "execution_count": 12,
   "metadata": {},
   "outputs": [
    {
     "data": {
      "text/plain": [
       "event_datetime         0\n",
       "event                  0\n",
       "building_type       7683\n",
       "user_id                0\n",
       "project_type      133774\n",
       "dtype: int64"
      ]
     },
     "execution_count": 12,
     "metadata": {},
     "output_type": "execute_result"
    }
   ],
   "source": [
    "game_actions.isnull().sum()"
   ]
  },
  {
   "cell_type": "markdown",
   "metadata": {},
   "source": [
    "Проверим, не зависят ли пропуски от типа события (*'event'*)"
   ]
  },
  {
   "cell_type": "code",
   "execution_count": 13,
   "metadata": {},
   "outputs": [
    {
     "data": {
      "text/plain": [
       "building            127957\n",
       "finished_stage_1      5817\n",
       "project               1866\n",
       "Name: event, dtype: int64"
      ]
     },
     "execution_count": 13,
     "metadata": {},
     "output_type": "execute_result"
    },
    {
     "data": {
      "text/plain": [
       "finished_stage_1    5817\n",
       "project             1866\n",
       "Name: event, dtype: int64"
      ]
     },
     "execution_count": 13,
     "metadata": {},
     "output_type": "execute_result"
    },
    {
     "data": {
      "text/plain": [
       "building            127957\n",
       "finished_stage_1      5817\n",
       "Name: event, dtype: int64"
      ]
     },
     "execution_count": 13,
     "metadata": {},
     "output_type": "execute_result"
    }
   ],
   "source": [
    "game_actions['event'].value_counts()\n",
    "game_actions[game_actions['building_type'].isnull()]['event'].value_counts()\n",
    "game_actions[game_actions['project_type'].isnull()]['event'].value_counts()"
   ]
  },
  {
   "cell_type": "markdown",
   "metadata": {},
   "source": [
    "**Результат**   \n",
    "Пропущены данные обнаружены только в `game_actions['building_type']` и `game_actions['project_type']`. Пропуски логичны (зависят от типа события) и не требует устранения."
   ]
  },
  {
   "cell_type": "markdown",
   "metadata": {},
   "source": [
    "- Проверим, что в данных нет дубликатов"
   ]
  },
  {
   "cell_type": "code",
   "execution_count": 14,
   "metadata": {},
   "outputs": [
    {
     "data": {
      "text/plain": [
       "0"
      ]
     },
     "execution_count": 14,
     "metadata": {},
     "output_type": "execute_result"
    }
   ],
   "source": [
    "ad_costs.duplicated().sum()"
   ]
  },
  {
   "cell_type": "code",
   "execution_count": 15,
   "metadata": {},
   "outputs": [
    {
     "data": {
      "text/plain": [
       "0"
      ]
     },
     "execution_count": 15,
     "metadata": {},
     "output_type": "execute_result"
    }
   ],
   "source": [
    "user_source.duplicated().sum()"
   ]
  },
  {
   "cell_type": "code",
   "execution_count": 16,
   "metadata": {},
   "outputs": [
    {
     "data": {
      "text/plain": [
       "1"
      ]
     },
     "execution_count": 16,
     "metadata": {},
     "output_type": "execute_result"
    }
   ],
   "source": [
    "game_actions.duplicated().sum()"
   ]
  },
  {
   "cell_type": "code",
   "execution_count": 17,
   "metadata": {},
   "outputs": [],
   "source": [
    "game_actions = game_actions.drop_duplicates()"
   ]
  },
  {
   "cell_type": "markdown",
   "metadata": {},
   "source": [
    "**Результат**   \n",
    "Удалили единственный дубликат в таблице `game_actions`."
   ]
  },
  {
   "cell_type": "markdown",
   "metadata": {},
   "source": [
    "- Исправим некорректные типы данных"
   ]
  },
  {
   "cell_type": "code",
   "execution_count": 18,
   "metadata": {},
   "outputs": [],
   "source": [
    "ad_costs['day'] = pd.to_datetime(ad_costs['day']).dt.strftime('%Y-%m-%d')"
   ]
  },
  {
   "cell_type": "code",
   "execution_count": 19,
   "metadata": {},
   "outputs": [
    {
     "data": {
      "text/plain": [
       "source     object\n",
       "day        object\n",
       "cost      float64\n",
       "dtype: object"
      ]
     },
     "execution_count": 19,
     "metadata": {},
     "output_type": "execute_result"
    }
   ],
   "source": [
    "ad_costs.dtypes"
   ]
  },
  {
   "cell_type": "code",
   "execution_count": 20,
   "metadata": {},
   "outputs": [],
   "source": [
    "game_actions['event_datetime'] = pd.to_datetime(game_actions['event_datetime'])"
   ]
  },
  {
   "cell_type": "code",
   "execution_count": 21,
   "metadata": {},
   "outputs": [
    {
     "data": {
      "text/plain": [
       "event_datetime    datetime64[ns]\n",
       "event                     object\n",
       "building_type             object\n",
       "user_id                   object\n",
       "project_type              object\n",
       "dtype: object"
      ]
     },
     "execution_count": 21,
     "metadata": {},
     "output_type": "execute_result"
    }
   ],
   "source": [
    "game_actions.dtypes"
   ]
  },
  {
   "cell_type": "markdown",
   "metadata": {},
   "source": [
    "**Результат**   \n",
    "Типы данных исправлены."
   ]
  },
  {
   "cell_type": "markdown",
   "metadata": {},
   "source": [
    "<a name=\"h3\"></a>\n",
    "### 3. Исследовательский анализ данных"
   ]
  },
  {
   "cell_type": "markdown",
   "metadata": {},
   "source": [
    "#### Анализ представленных датасетов"
   ]
  },
  {
   "cell_type": "markdown",
   "metadata": {},
   "source": [
    "- Изучим основные статистически показатели по датасету `game_actions`"
   ]
  },
  {
   "cell_type": "code",
   "execution_count": 22,
   "metadata": {},
   "outputs": [
    {
     "data": {
      "text/html": [
       "<div>\n",
       "<style scoped>\n",
       "    .dataframe tbody tr th:only-of-type {\n",
       "        vertical-align: middle;\n",
       "    }\n",
       "\n",
       "    .dataframe tbody tr th {\n",
       "        vertical-align: top;\n",
       "    }\n",
       "\n",
       "    .dataframe thead th {\n",
       "        text-align: right;\n",
       "    }\n",
       "</style>\n",
       "<table border=\"1\" class=\"dataframe\">\n",
       "  <thead>\n",
       "    <tr style=\"text-align: right;\">\n",
       "      <th></th>\n",
       "      <th>count</th>\n",
       "      <th>unique</th>\n",
       "      <th>top</th>\n",
       "      <th>freq</th>\n",
       "      <th>first</th>\n",
       "      <th>last</th>\n",
       "    </tr>\n",
       "  </thead>\n",
       "  <tbody>\n",
       "    <tr>\n",
       "      <td>event_datetime</td>\n",
       "      <td>135639</td>\n",
       "      <td>128790</td>\n",
       "      <td>2020-05-09 12:35:56</td>\n",
       "      <td>4</td>\n",
       "      <td>2020-05-04 00:00:01</td>\n",
       "      <td>2020-06-05 12:32:49</td>\n",
       "    </tr>\n",
       "    <tr>\n",
       "      <td>event</td>\n",
       "      <td>135639</td>\n",
       "      <td>3</td>\n",
       "      <td>building</td>\n",
       "      <td>127956</td>\n",
       "      <td>NaT</td>\n",
       "      <td>NaT</td>\n",
       "    </tr>\n",
       "    <tr>\n",
       "      <td>building_type</td>\n",
       "      <td>127956</td>\n",
       "      <td>3</td>\n",
       "      <td>spaceport</td>\n",
       "      <td>59325</td>\n",
       "      <td>NaT</td>\n",
       "      <td>NaT</td>\n",
       "    </tr>\n",
       "    <tr>\n",
       "      <td>user_id</td>\n",
       "      <td>135639</td>\n",
       "      <td>13576</td>\n",
       "      <td>d6aca06a-cd75-4cd8-b8cd-240a3c163884</td>\n",
       "      <td>22</td>\n",
       "      <td>NaT</td>\n",
       "      <td>NaT</td>\n",
       "    </tr>\n",
       "    <tr>\n",
       "      <td>project_type</td>\n",
       "      <td>1866</td>\n",
       "      <td>1</td>\n",
       "      <td>satellite_orbital_assembly</td>\n",
       "      <td>1866</td>\n",
       "      <td>NaT</td>\n",
       "      <td>NaT</td>\n",
       "    </tr>\n",
       "  </tbody>\n",
       "</table>\n",
       "</div>"
      ],
      "text/plain": [
       "                 count  unique                                   top    freq  \\\n",
       "event_datetime  135639  128790                   2020-05-09 12:35:56       4   \n",
       "event           135639       3                              building  127956   \n",
       "building_type   127956       3                             spaceport   59325   \n",
       "user_id         135639   13576  d6aca06a-cd75-4cd8-b8cd-240a3c163884      22   \n",
       "project_type      1866       1            satellite_orbital_assembly    1866   \n",
       "\n",
       "                             first                last  \n",
       "event_datetime 2020-05-04 00:00:01 2020-06-05 12:32:49  \n",
       "event                          NaT                 NaT  \n",
       "building_type                  NaT                 NaT  \n",
       "user_id                        NaT                 NaT  \n",
       "project_type                   NaT                 NaT  "
      ]
     },
     "execution_count": 22,
     "metadata": {},
     "output_type": "execute_result"
    }
   ],
   "source": [
    "game_actions.describe().T"
   ]
  },
  {
   "cell_type": "code",
   "execution_count": 23,
   "metadata": {},
   "outputs": [
    {
     "name": "stdout",
     "output_type": "stream",
     "text": [
      "Доля игроков, хотя бы раз совершивших событие типа 'building': 100.0 %\n"
     ]
    }
   ],
   "source": [
    "print(\"Доля игроков, хотя бы раз совершивших событие типа 'building':\", \n",
    "      len(game_actions[game_actions['event'] == 'building']['user_id'].unique()) / len(user_source) *100, \"%\")"
   ]
  },
  {
   "cell_type": "markdown",
   "metadata": {},
   "source": [
    "Представлены данные о событиях 13 576 пользователей в игре в период с 4 мая 2020 по 5 июня 2020. Самым распространенным событием  (в 94% случаев) является постройка одного из трех доступных типов объектов, чаще всего космодромов (46% всех построек). Исходя из полученных результатов можно сделать вывод, что либо по правилам игры пользователь должен построить хотя бы одно здание, либо постройка зданий приносит игрокам дополнительные бонусы, либо действуют оба фактора одновременно. Также можно отметить, что в игре, как минимум до первого уровня, доступен только один тип проекта - *satellite_orbital_assembly*."
   ]
  },
  {
   "cell_type": "markdown",
   "metadata": {},
   "source": [
    "Напишем функцию для создания графиков типа *barplot*. В качестве параметров будем указывать:  \n",
    "    - датасет;\n",
    "    - значения для оси Х;\n",
    "    - значения для оси У;\n",
    "    - название графика;\n",
    "    - название оси Х;\n",
    "    - название оси У;\n",
    "    - количество значений Х."
   ]
  },
  {
   "cell_type": "code",
   "execution_count": 24,
   "metadata": {},
   "outputs": [],
   "source": [
    "def sns_barplot(data, x, y, title, xlabel, ylabel, colors):\n",
    "    plt.figure(figsize=(16,7))\n",
    "    ax = sns.barplot(x=x, y=y, data=data, palette=sns.color_palette(\"GnBu\", colors), ci=None)\n",
    "\n",
    "    for p in ax.patches:\n",
    "        height = p.get_height()\n",
    "        if np.isnan(height):\n",
    "            height = 0\n",
    "        ax.text(p.get_x() + p.get_width()/2., height, '%d' % int(height), \n",
    "            fontsize=11, ha='center', va='bottom')\n",
    "        \n",
    "    plt.title(title, fontsize = 15, color='darkgreen')\n",
    "    plt.xlabel(xlabel, fontsize = 12, fontweight=500, color='darkgreen')\n",
    "    plt.ylabel(ylabel, fontsize = 12, fontweight=500, color='darkgreen');"
   ]
  },
  {
   "cell_type": "markdown",
   "metadata": {},
   "source": [
    "- Изучим расходы на рекламу"
   ]
  },
  {
   "cell_type": "code",
   "execution_count": 25,
   "metadata": {},
   "outputs": [
    {
     "data": {
      "image/png": "[encoded data removed]",
      "text/plain": [
       "<Figure size 1152x504 with 1 Axes>"
      ]
     },
     "metadata": {
      "needs_background": "light"
     },
     "output_type": "display_data"
    }
   ],
   "source": [
    "sns_barplot(ad_costs, 'source', 'cost', 'Расходы на рекламу по видам источников', \n",
    "            'Рекламный источник', 'Сумма расходов', 4)"
   ]
  },
  {
   "cell_type": "code",
   "execution_count": 26,
   "metadata": {},
   "outputs": [
    {
     "data": {
      "image/png": "[encoded data removed]",
      "text/plain": [
       "<Figure size 1152x504 with 1 Axes>"
      ]
     },
     "metadata": {
      "needs_background": "light"
     },
     "output_type": "display_data"
    }
   ],
   "source": [
    "sns_barplot(ad_costs, 'day', 'cost', 'Расходы на рекламу по дням', 'Дата', 'Сумма расходов', 7)"
   ]
  },
  {
   "cell_type": "markdown",
   "metadata": {},
   "source": [
    "На рекламу в Яндексе, Фейсбуке и Инстраграме расходуется примерно одинаковое количество денег, в то время как реклама на Ютубе обходится в 2 раза дешевле, чем любой другой рекламный источник. Больше всего денег было потрачено 3 мая. В дальнейшем расходы снижались примерно на 40-45% ежедневно относительно прошлого дня.  "
   ]
  },
  {
   "cell_type": "markdown",
   "metadata": {},
   "source": [
    "- Определим эффективность работы рекламных источников"
   ]
  },
  {
   "cell_type": "code",
   "execution_count": 27,
   "metadata": {},
   "outputs": [
    {
     "data": {
      "image/png": "[encoded data removed]",
      "text/plain": [
       "<Figure size 1152x504 with 1 Axes>"
      ]
     },
     "metadata": {
      "needs_background": "light"
     },
     "output_type": "display_data"
    }
   ],
   "source": [
    "users_by_source = user_source.groupby('source')['user_id'].count().reset_index()\n",
    "sns_barplot(users_by_source, 'source', 'user_id', 'Количество привлеченных пользователей по источникам', \n",
    "            'Рекламный источник с которого пришел пользователь', 'Количество привлеченных пользователей', 4)"
   ]
  },
  {
   "cell_type": "markdown",
   "metadata": {},
   "source": [
    "Наиболее эффективно сработала реклама в Яндекс.Директ. Проверим стоимость привлечения одного игрока из каждого рекламного источника. Для этого:  \n",
    "- рассчитаем общую величину расходов на рекламу по каждому источнику;\n",
    "- объединим полученную информацию с датасетом `users_by_source`;\n",
    "- рассчитаем показатель **САС** и отразим его на графике."
   ]
  },
  {
   "cell_type": "code",
   "execution_count": 28,
   "metadata": {},
   "outputs": [],
   "source": [
    "ad_by_soures = pd.DataFrame(ad_costs.groupby('source')['cost'].agg('sum')).reset_index()"
   ]
  },
  {
   "cell_type": "code",
   "execution_count": 29,
   "metadata": {},
   "outputs": [],
   "source": [
    "CAC = pd.merge(ad_by_soures,users_by_source, on='source')"
   ]
  },
  {
   "cell_type": "code",
   "execution_count": 30,
   "metadata": {},
   "outputs": [],
   "source": [
    "CAC['CAC'] = CAC['cost'] / CAC['user_id']"
   ]
  },
  {
   "cell_type": "code",
   "execution_count": 31,
   "metadata": {},
   "outputs": [
    {
     "data": {
      "image/png": "[encoded data removed]",
      "text/plain": [
       "<Figure size 1152x504 with 1 Axes>"
      ]
     },
     "metadata": {
      "needs_background": "light"
     },
     "output_type": "display_data"
    }
   ],
   "source": [
    "plt.figure(figsize=(16,7))\n",
    "ax = sns.barplot(x='source', y='CAC', data=CAC, palette=sns.color_palette(\"GnBu\", 4), ci=None)\n",
    "\n",
    "for p in ax.patches:\n",
    "    height = p.get_height()\n",
    "    if np.isnan(height):\n",
    "        height = 0\n",
    "    ax.text(p.get_x() + p.get_width()/2., height, \"{:.2f}\".format(height), \n",
    "            fontsize=11, ha='center', va='bottom')\n",
    "        \n",
    "plt.title('Показатель САС по рекламным источникам', fontsize = 15, color='darkgreen')\n",
    "plt.xlabel('Рекламный источник', fontsize = 12, fontweight=500, color='darkgreen')\n",
    "plt.ylabel('CAC', fontsize = 12, fontweight=500, color='darkgreen');"
   ]
  },
  {
   "cell_type": "markdown",
   "metadata": {},
   "source": [
    "Реклама в Яндекс.Директ не только самая эффективная, но и достаточно выгодная, относительно других рекламных источников. Однако самым экономичным вариантом является Ютуб - он почти на 15% дешевле Яндекса и на 50% дешевле, чем Фейсбук."
   ]
  },
  {
   "cell_type": "markdown",
   "metadata": {},
   "source": [
    "#### Анализ взаимосвязи между рекламным источником и поведением игрока"
   ]
  },
  {
   "cell_type": "markdown",
   "metadata": {},
   "source": [
    "На данном этапе мы рассмотрим поведение игроков и оценим:\n",
    "- как источник перехода влияет на факт завершения первого уровня;\n",
    "- как источник перехода влияет на выбор способа прохождения первого уровня."
   ]
  },
  {
   "cell_type": "markdown",
   "metadata": {},
   "source": [
    "Создадим один сводный датасет в котором будет содержаться следующая информация по каждому игроку:\n",
    "    - идентификатор пользователя;\n",
    "    - рекламный источник;\n",
    "    - дата и время первого события;\n",
    "    - дата и время завершения 1 уровня;\n",
    "    - способ завершения первого уровня."
   ]
  },
  {
   "cell_type": "markdown",
   "metadata": {},
   "source": [
    "Создадим датасет с первыми действиями каждого игрока"
   ]
  },
  {
   "cell_type": "code",
   "execution_count": 32,
   "metadata": {},
   "outputs": [],
   "source": [
    "first_action = game_actions.sort_values(by='event_datetime').drop_duplicates('user_id')\n",
    "first_action = first_action[['user_id', 'event_datetime', 'event', 'building_type']]\n",
    "first_action.columns = ['user_id', 'first_datetime','first_event', 'building_type']"
   ]
  },
  {
   "cell_type": "code",
   "execution_count": 33,
   "metadata": {},
   "outputs": [
    {
     "data": {
      "text/html": [
       "<div>\n",
       "<style scoped>\n",
       "    .dataframe tbody tr th:only-of-type {\n",
       "        vertical-align: middle;\n",
       "    }\n",
       "\n",
       "    .dataframe tbody tr th {\n",
       "        vertical-align: top;\n",
       "    }\n",
       "\n",
       "    .dataframe thead th {\n",
       "        text-align: right;\n",
       "    }\n",
       "</style>\n",
       "<table border=\"1\" class=\"dataframe\">\n",
       "  <thead>\n",
       "    <tr style=\"text-align: right;\">\n",
       "      <th></th>\n",
       "      <th>count</th>\n",
       "      <th>unique</th>\n",
       "      <th>top</th>\n",
       "      <th>freq</th>\n",
       "      <th>first</th>\n",
       "      <th>last</th>\n",
       "    </tr>\n",
       "  </thead>\n",
       "  <tbody>\n",
       "    <tr>\n",
       "      <td>user_id</td>\n",
       "      <td>13576</td>\n",
       "      <td>13576</td>\n",
       "      <td>403b194a-2a2a-4bfd-87ee-c8207d74bec8</td>\n",
       "      <td>1</td>\n",
       "      <td>NaT</td>\n",
       "      <td>NaT</td>\n",
       "    </tr>\n",
       "    <tr>\n",
       "      <td>first_datetime</td>\n",
       "      <td>13576</td>\n",
       "      <td>13304</td>\n",
       "      <td>2020-05-04 04:02:30</td>\n",
       "      <td>4</td>\n",
       "      <td>2020-05-04 00:00:01</td>\n",
       "      <td>2020-05-10 23:59:52</td>\n",
       "    </tr>\n",
       "    <tr>\n",
       "      <td>first_event</td>\n",
       "      <td>13576</td>\n",
       "      <td>1</td>\n",
       "      <td>building</td>\n",
       "      <td>13576</td>\n",
       "      <td>NaT</td>\n",
       "      <td>NaT</td>\n",
       "    </tr>\n",
       "    <tr>\n",
       "      <td>building_type</td>\n",
       "      <td>13576</td>\n",
       "      <td>1</td>\n",
       "      <td>assembly_shop</td>\n",
       "      <td>13576</td>\n",
       "      <td>NaT</td>\n",
       "      <td>NaT</td>\n",
       "    </tr>\n",
       "  </tbody>\n",
       "</table>\n",
       "</div>"
      ],
      "text/plain": [
       "                count unique                                   top   freq  \\\n",
       "user_id         13576  13576  403b194a-2a2a-4bfd-87ee-c8207d74bec8      1   \n",
       "first_datetime  13576  13304                   2020-05-04 04:02:30      4   \n",
       "first_event     13576      1                              building  13576   \n",
       "building_type   13576      1                         assembly_shop  13576   \n",
       "\n",
       "                             first                last  \n",
       "user_id                        NaT                 NaT  \n",
       "first_datetime 2020-05-04 00:00:01 2020-05-10 23:59:52  \n",
       "first_event                    NaT                 NaT  \n",
       "building_type                  NaT                 NaT  "
      ]
     },
     "execution_count": 33,
     "metadata": {},
     "output_type": "execute_result"
    }
   ],
   "source": [
    "first_action.describe().T"
   ]
  },
  {
   "cell_type": "markdown",
   "metadata": {},
   "source": [
    "Первое событие в игре у каждого игрока это строительство здания типа *assembly_shop*, что говорит нам о том, что данное действие является обязательным этапом в игре. Чтобы не загружать датасет, удалим из него столбцы `first_event` и `building_type`."
   ]
  },
  {
   "cell_type": "code",
   "execution_count": 34,
   "metadata": {},
   "outputs": [],
   "source": [
    "first_action = first_action.drop(['first_event', 'building_type'], axis=1)"
   ]
  },
  {
   "cell_type": "markdown",
   "metadata": {},
   "source": [
    "Создадим датасет с датой и временем прохождения 1 уровня"
   ]
  },
  {
   "cell_type": "code",
   "execution_count": 35,
   "metadata": {},
   "outputs": [],
   "source": [
    "lvl1 = game_actions[game_actions['event'] == 'finished_stage_1']\n",
    "lvl1 = lvl1[['user_id', 'event_datetime']]\n",
    "lvl1.columns = ['user_id', 'lvl1_datetime']"
   ]
  },
  {
   "cell_type": "markdown",
   "metadata": {},
   "source": [
    "Создадим датасет с датой и временем завершения проекта"
   ]
  },
  {
   "cell_type": "code",
   "execution_count": 36,
   "metadata": {},
   "outputs": [],
   "source": [
    "project = game_actions[game_actions['event'] == 'project']\n",
    "project = project[['user_id', 'event']]\n",
    "project.columns = ['user_id', 'event']"
   ]
  },
  {
   "cell_type": "markdown",
   "metadata": {},
   "source": [
    "Добавим новые датасеты к уже существующему `user_source`"
   ]
  },
  {
   "cell_type": "code",
   "execution_count": 37,
   "metadata": {},
   "outputs": [],
   "source": [
    "summary = user_source.merge(first_action, on='user_id', how='left')\\\n",
    ".merge(lvl1, on='user_id', how='left').merge(project, on='user_id', how='left')"
   ]
  },
  {
   "cell_type": "markdown",
   "metadata": {},
   "source": [
    "Рассчитаем сколько времени потребовалось игрокам для достижения 1 уровня (в часах)"
   ]
  },
  {
   "cell_type": "code",
   "execution_count": 38,
   "metadata": {},
   "outputs": [],
   "source": [
    "summary['lvl1_duration'] = (summary['lvl1_datetime'] - summary['first_datetime']).astype('timedelta64[h]')"
   ]
  },
  {
   "cell_type": "markdown",
   "metadata": {},
   "source": [
    "Заполним пропуски в столбце `event`:\n",
    "- значением *lvl0* для игроков, которые так и не достигли 1 уровня;\n",
    "- значением *battle* для игроков, которые получили 1 уровень не завершая проект."
   ]
  },
  {
   "cell_type": "code",
   "execution_count": 39,
   "metadata": {},
   "outputs": [],
   "source": [
    "summary.loc[summary['lvl1_datetime'].isnull(), 'event'] = 'lvl0'\n",
    "summary.loc[summary['event'].isnull(), 'event'] = 'battle'"
   ]
  },
  {
   "cell_type": "code",
   "execution_count": 40,
   "metadata": {},
   "outputs": [
    {
     "data": {
      "text/html": [
       "<div>\n",
       "<style scoped>\n",
       "    .dataframe tbody tr th:only-of-type {\n",
       "        vertical-align: middle;\n",
       "    }\n",
       "\n",
       "    .dataframe tbody tr th {\n",
       "        vertical-align: top;\n",
       "    }\n",
       "\n",
       "    .dataframe thead th {\n",
       "        text-align: right;\n",
       "    }\n",
       "</style>\n",
       "<table border=\"1\" class=\"dataframe\">\n",
       "  <thead>\n",
       "    <tr style=\"text-align: right;\">\n",
       "      <th></th>\n",
       "      <th>user_id</th>\n",
       "      <th>source</th>\n",
       "      <th>first_datetime</th>\n",
       "      <th>lvl1_datetime</th>\n",
       "      <th>event</th>\n",
       "      <th>lvl1_duration</th>\n",
       "    </tr>\n",
       "  </thead>\n",
       "  <tbody>\n",
       "    <tr>\n",
       "      <td>0</td>\n",
       "      <td>0001f83c-c6ac-4621-b7f0-8a28b283ac30</td>\n",
       "      <td>facebook_ads</td>\n",
       "      <td>2020-05-06 01:07:37</td>\n",
       "      <td>NaT</td>\n",
       "      <td>lvl0</td>\n",
       "      <td>NaN</td>\n",
       "    </tr>\n",
       "    <tr>\n",
       "      <td>1</td>\n",
       "      <td>00151b4f-ba38-44a8-a650-d7cf130a0105</td>\n",
       "      <td>yandex_direct</td>\n",
       "      <td>2020-05-06 03:09:12</td>\n",
       "      <td>NaT</td>\n",
       "      <td>lvl0</td>\n",
       "      <td>NaN</td>\n",
       "    </tr>\n",
       "    <tr>\n",
       "      <td>2</td>\n",
       "      <td>001aaea6-3d14-43f1-8ca8-7f48820f17aa</td>\n",
       "      <td>youtube_channel_reklama</td>\n",
       "      <td>2020-05-05 18:08:52</td>\n",
       "      <td>NaT</td>\n",
       "      <td>lvl0</td>\n",
       "      <td>NaN</td>\n",
       "    </tr>\n",
       "  </tbody>\n",
       "</table>\n",
       "</div>"
      ],
      "text/plain": [
       "                                user_id                   source  \\\n",
       "0  0001f83c-c6ac-4621-b7f0-8a28b283ac30             facebook_ads   \n",
       "1  00151b4f-ba38-44a8-a650-d7cf130a0105            yandex_direct   \n",
       "2  001aaea6-3d14-43f1-8ca8-7f48820f17aa  youtube_channel_reklama   \n",
       "\n",
       "       first_datetime lvl1_datetime event  lvl1_duration  \n",
       "0 2020-05-06 01:07:37           NaT  lvl0            NaN  \n",
       "1 2020-05-06 03:09:12           NaT  lvl0            NaN  \n",
       "2 2020-05-05 18:08:52           NaT  lvl0            NaN  "
      ]
     },
     "execution_count": 40,
     "metadata": {},
     "output_type": "execute_result"
    }
   ],
   "source": [
    "summary.head(3)"
   ]
  },
  {
   "cell_type": "code",
   "execution_count": 41,
   "metadata": {},
   "outputs": [
    {
     "data": {
      "text/plain": [
       "user_id              0\n",
       "source               0\n",
       "first_datetime       0\n",
       "lvl1_datetime     7759\n",
       "event                0\n",
       "lvl1_duration     7759\n",
       "dtype: int64"
      ]
     },
     "execution_count": 41,
     "metadata": {},
     "output_type": "execute_result"
    }
   ],
   "source": [
    "summary.isnull().sum()"
   ]
  },
  {
   "cell_type": "markdown",
   "metadata": {},
   "source": [
    "По каждому пользователю мы получили необходимую для дальнейшего анализа информацию. Пропуски есть только в столбцах `lvl1_datetime` и `lvl1_duration`, поскольку не все игроки достигли 1 уровня.  \n",
    "Построим сводную таблицу по рекламным источникам и событиям для построения столбчатых диаграмм."
   ]
  },
  {
   "cell_type": "code",
   "execution_count": 42,
   "metadata": {},
   "outputs": [],
   "source": [
    "df = summary.pivot_table(index='source', columns='event', values='user_id', aggfunc='nunique').reset_index()"
   ]
  },
  {
   "cell_type": "code",
   "execution_count": 43,
   "metadata": {},
   "outputs": [],
   "source": [
    "df['battle_%'] = df['battle'] *100 / (df['battle']+df['project'])\n",
    "df['project_%'] = df['project'] *100 / (df['battle']+df['project'])\n",
    "df['lvl0_%'] = df['lvl0'] *100 / (df['battle']+df['project']+df['lvl0'])\n",
    "df['lvl1_%'] = 100 - df['lvl0_%']"
   ]
  },
  {
   "cell_type": "markdown",
   "metadata": {},
   "source": [
    "Пропишем функцию для создания столбчатых диаграмм, отражающих структуру игроков внутри рекламных источников. На вход функция будет принимать следующие параметры:  \n",
    "    - датасет;\n",
    "    - значения для оси Х;\n",
    "    - значения для оси У по первому параметру;\n",
    "    - значения для оси У по второму параметру;\n",
    "    - название графика;\n",
    "    - название оси Х;\n",
    "    - название оси У;\n",
    "    - значения для оси У по первому признаку (вспомогательный параметр)."
   ]
  },
  {
   "cell_type": "code",
   "execution_count": 44,
   "metadata": {},
   "outputs": [],
   "source": [
    "def sns_barplot_pct (data, x, y1, y2, title, xlabel, ylabel, df):\n",
    "    plt.figure(figsize=(16,7))\n",
    "\n",
    "    ax = sns.barplot(x=x, y=y1, data=data, \n",
    "                 color='green', label=y1)    \n",
    "    \n",
    "    for p in ax.patches:\n",
    "        height = p.get_height()\n",
    "        if np.isnan(height):\n",
    "            height = 0\n",
    "        ax.text(p.get_x() + p.get_width()/2., height, \"{:.1f}%\".format(height), \n",
    "            fontsize=11, ha='center', va='bottom')\n",
    "    \n",
    "    ax1 = sns.barplot(x=x, y=y2, data=data, \n",
    "                 bottom=[i for i in df], palette=sns.light_palette(\"grey\", 1), \n",
    "                  label=y2)\n",
    "\n",
    "    plt.title(title, fontsize = 15, fontweight=\"bold\", color='green')\n",
    "    plt.xlabel(xlabel, fontsize = 13, fontweight=500, color='green')\n",
    "    plt.ylabel(ylabel, fontsize = 13, fontweight=500, color='green')\n",
    "    plt.legend()\n",
    "    plt.show();"
   ]
  },
  {
   "cell_type": "code",
   "execution_count": 45,
   "metadata": {},
   "outputs": [
    {
     "data": {
      "image/png": "[encoded data removed]",
      "text/plain": [
       "<Figure size 1152x504 with 1 Axes>"
      ]
     },
     "metadata": {
      "needs_background": "light"
     },
     "output_type": "display_data"
    }
   ],
   "source": [
    "sns_barplot_pct(df,'source', 'lvl1_%', 'lvl0_%', 'Доля игроков, завершивших 1 уровень, по рекламным источникам', \n",
    "                'Рекламный источник', 'Стуктура, %', df['lvl1_%'])"
   ]
  },
  {
   "cell_type": "code",
   "execution_count": 46,
   "metadata": {},
   "outputs": [
    {
     "data": {
      "image/png": "[encoded data removed]",
      "text/plain": [
       "<Figure size 1152x504 with 1 Axes>"
      ]
     },
     "metadata": {
      "needs_background": "light"
     },
     "output_type": "display_data"
    }
   ],
   "source": [
    "sns_barplot_pct(df,'source', 'battle_%', 'project_%', \n",
    "                'Доля игроков, выбравших сражение для прохождения 1 уровня по рекламным источникам', \n",
    "                'Рекламный источник', 'Стуктура, %', df['battle_%'])"
   ]
  },
  {
   "cell_type": "markdown",
   "metadata": {},
   "source": [
    "**Вывод**  \n",
    "Полученные графики не демонстрируют явных различий в поведении игроков в зависимости от рекламных источников. В среднем около 43% игроков достигли 1 уровня в течение первого месяца, при этом две трети пользователей предпочитают сражения строительству. Однако можно отметить, что пользователи Яндекс.Директ чуть чаще предпочитают сражаться, чем строить, по сравнению с остальными игроками, особенно при сопоставлении с пользователями Фейсбука. Проверим на следующем этапе исследования, является ли разница статистически значимой."
   ]
  },
  {
   "cell_type": "markdown",
   "metadata": {},
   "source": [
    "<a name=\"h4\"></a>\n",
    "### 4. Проверка гипотез"
   ]
  },
  {
   "cell_type": "markdown",
   "metadata": {},
   "source": [
    "#### Гипотеза 1: существует статистическая значимость различий во времени завершения 1 уровня в зависимости от способа прохождения"
   ]
  },
  {
   "cell_type": "markdown",
   "metadata": {},
   "source": [
    "*Нулевая гипотеза H₀:* среднее время прохождения 1 уровня через *реализацию проекта* и через *победу над первым игроком* равно.  \n",
    "*Альтернативная гипотеза H₁:* среднее время прохождения 1 уровня через *реализацию проекта* и через *победу над первым игроком* различается."
   ]
  },
  {
   "cell_type": "markdown",
   "metadata": {},
   "source": [
    "Прежде чем мы приступим к тестированию необходимо убедиться, что данные распределены нормально"
   ]
  },
  {
   "cell_type": "code",
   "execution_count": 47,
   "metadata": {},
   "outputs": [],
   "source": [
    "project = summary[summary['event'] == 'project']\n",
    "battle = summary[summary['event'] == 'battle']"
   ]
  },
  {
   "cell_type": "code",
   "execution_count": 48,
   "metadata": {
    "scrolled": true
   },
   "outputs": [
    {
     "data": {
      "image/png": "[encoded data removed]",
      "text/plain": [
       "<Figure size 1152x360 with 1 Axes>"
      ]
     },
     "metadata": {
      "needs_background": "light"
     },
     "output_type": "display_data"
    }
   ],
   "source": [
    "fig, ax = plt.subplots(figsize=(16,5))\n",
    "sns.distplot(project['lvl1_duration'], hist=True, kde=True, label='project', color = 'green')\n",
    "sns.distplot(battle['lvl1_duration'], hist=True, kde=True, label='battle', color = 'red')\n",
    "plt.title('Гистограмма продолжительности прохождения 1 уровня', fontsize = 15, fontweight=\"bold\", color='green')\n",
    "plt.xlabel(\"Продолжительность, час.\", fontsize = 13, fontweight=500, color='green')\n",
    "plt.legend();"
   ]
  },
  {
   "cell_type": "markdown",
   "metadata": {},
   "source": [
    "На гистограме мы видим нормальное распределение, поэтому для тестирования гиоптезы о равенстве средних двух генеральных совокупностей, применим метод scipy.stats.ttest_ind"
   ]
  },
  {
   "cell_type": "code",
   "execution_count": 49,
   "metadata": {},
   "outputs": [
    {
     "name": "stdout",
     "output_type": "stream",
     "text": [
      "p-значение:  0.000\n",
      "Отвергаем нулевую гипотезу: разница статистически значима\n"
     ]
    }
   ],
   "source": [
    "project_duration = project['lvl1_duration']\n",
    "battle_duration = battle['lvl1_duration']\n",
    "\n",
    "alpha = .05\n",
    "\n",
    "results = st.ttest_ind(project_duration, battle_duration)\n",
    "\n",
    "print('p-значение: ', \"{0:.3f}\".format(results.pvalue))\n",
    "\n",
    "if (results.pvalue < alpha):\n",
    "    print(\"Отвергаем нулевую гипотезу: разница статистически значима\")\n",
    "else:\n",
    "    print(\"Не получилось отвергнуть нулевую гипотезу, вывод о различии сделать нельзя\") "
   ]
  },
  {
   "cell_type": "code",
   "execution_count": 50,
   "metadata": {},
   "outputs": [
    {
     "name": "stdout",
     "output_type": "stream",
     "text": [
      "Продолжительность прохождения 1 уровня через реализацию проекта: 322.5 ч.\n",
      "Продолжительность прохождения 1 уровня через победу над первым игроком: 266.0 ч.\n"
     ]
    }
   ],
   "source": [
    "print('Продолжительность прохождения 1 уровня через реализацию проекта:', \n",
    "      '{0:.1f}'.format(project['lvl1_duration'].mean()),'ч.')\n",
    "print('Продолжительность прохождения 1 уровня через победу над первым игроком:', \n",
    "      '{0:.1f}'.format(battle['lvl1_duration'].mean()),'ч.') "
   ]
  },
  {
   "cell_type": "markdown",
   "metadata": {},
   "source": [
    "**Вывод**  \n",
    "Результаты теста Стьюдента говорят о статистической значимости различий во времени прохождения 1 уровня в зависимости от выбранного пути: реализация проекта занимает больше времени, чем победа над игроком (в среднем на 56,5 часов)."
   ]
  },
  {
   "cell_type": "markdown",
   "metadata": {},
   "source": [
    "#### Гипотеза 2: игроки с Яндекс.Директ чаще предпочитают сражения стройке, чем игроки с Фейсбука"
   ]
  },
  {
   "cell_type": "markdown",
   "metadata": {},
   "source": [
    "*Нулевая гипотеза H₀:* доли игроков из *Яндекс.Директ* и *Фейсбука*, предпочитающих сражения равны.  \n",
    "*Альтернативная гипотеза H₁:* доли игроков из *Яндекс.Директ* и *Фейсбука*, предпочитающих сражения различаются."
   ]
  },
  {
   "cell_type": "markdown",
   "metadata": {},
   "source": [
    "Воспользуемся z-тестом, который обычно применяют для проверки гипотезы о равенстве долей двух генеральных совокупностей."
   ]
  },
  {
   "cell_type": "markdown",
   "metadata": {},
   "source": [
    "В датасет `df` добавим столбец `total_lvl1` с общим количеством игроков, достигнувших 1 уровня по каждому рекламному источнику"
   ]
  },
  {
   "cell_type": "code",
   "execution_count": 51,
   "metadata": {},
   "outputs": [
    {
     "data": {
      "text/html": [
       "<div>\n",
       "<style scoped>\n",
       "    .dataframe tbody tr th:only-of-type {\n",
       "        vertical-align: middle;\n",
       "    }\n",
       "\n",
       "    .dataframe tbody tr th {\n",
       "        vertical-align: top;\n",
       "    }\n",
       "\n",
       "    .dataframe thead th {\n",
       "        text-align: right;\n",
       "    }\n",
       "</style>\n",
       "<table border=\"1\" class=\"dataframe\">\n",
       "  <thead>\n",
       "    <tr style=\"text-align: right;\">\n",
       "      <th>event</th>\n",
       "      <th>source</th>\n",
       "      <th>battle</th>\n",
       "      <th>lvl0</th>\n",
       "      <th>project</th>\n",
       "      <th>battle_%</th>\n",
       "      <th>project_%</th>\n",
       "      <th>lvl0_%</th>\n",
       "      <th>lvl1_%</th>\n",
       "      <th>total_lvl1</th>\n",
       "    </tr>\n",
       "  </thead>\n",
       "  <tbody>\n",
       "    <tr>\n",
       "      <td>0</td>\n",
       "      <td>facebook_ads</td>\n",
       "      <td>759</td>\n",
       "      <td>1576</td>\n",
       "      <td>391</td>\n",
       "      <td>66.00</td>\n",
       "      <td>34.00</td>\n",
       "      <td>57.81</td>\n",
       "      <td>42.19</td>\n",
       "      <td>1150</td>\n",
       "    </tr>\n",
       "    <tr>\n",
       "      <td>1</td>\n",
       "      <td>instagram_new_adverts</td>\n",
       "      <td>990</td>\n",
       "      <td>1881</td>\n",
       "      <td>476</td>\n",
       "      <td>67.53</td>\n",
       "      <td>32.47</td>\n",
       "      <td>56.20</td>\n",
       "      <td>43.80</td>\n",
       "      <td>1466</td>\n",
       "    </tr>\n",
       "    <tr>\n",
       "      <td>2</td>\n",
       "      <td>yandex_direct</td>\n",
       "      <td>1422</td>\n",
       "      <td>2775</td>\n",
       "      <td>620</td>\n",
       "      <td>69.64</td>\n",
       "      <td>30.36</td>\n",
       "      <td>57.61</td>\n",
       "      <td>42.39</td>\n",
       "      <td>2042</td>\n",
       "    </tr>\n",
       "    <tr>\n",
       "      <td>3</td>\n",
       "      <td>youtube_channel_reklama</td>\n",
       "      <td>780</td>\n",
       "      <td>1527</td>\n",
       "      <td>379</td>\n",
       "      <td>67.30</td>\n",
       "      <td>32.70</td>\n",
       "      <td>56.85</td>\n",
       "      <td>43.15</td>\n",
       "      <td>1159</td>\n",
       "    </tr>\n",
       "  </tbody>\n",
       "</table>\n",
       "</div>"
      ],
      "text/plain": [
       "event                   source  battle  lvl0  project  battle_%  project_%  \\\n",
       "0                 facebook_ads     759  1576      391     66.00      34.00   \n",
       "1        instagram_new_adverts     990  1881      476     67.53      32.47   \n",
       "2                yandex_direct    1422  2775      620     69.64      30.36   \n",
       "3      youtube_channel_reklama     780  1527      379     67.30      32.70   \n",
       "\n",
       "event  lvl0_%  lvl1_%  total_lvl1  \n",
       "0       57.81   42.19        1150  \n",
       "1       56.20   43.80        1466  \n",
       "2       57.61   42.39        2042  \n",
       "3       56.85   43.15        1159  "
      ]
     },
     "execution_count": 51,
     "metadata": {},
     "output_type": "execute_result"
    }
   ],
   "source": [
    "df['total_lvl1'] = df['battle']+df['project']\n",
    "df"
   ]
  },
  {
   "cell_type": "code",
   "execution_count": 52,
   "metadata": {},
   "outputs": [
    {
     "name": "stdout",
     "output_type": "stream",
     "text": [
      "p-значение:  0.034\n",
      "Отвергаем нулевую гипотезу: между долями есть значимая разница\n"
     ]
    }
   ],
   "source": [
    "alpha = .05\n",
    "\n",
    "successes = np.array([1422, 759])\n",
    "trials = np.array([2042, 1150])\n",
    "\n",
    "# доля \"бойцов\" из Яндекс.Директ:\n",
    "p1 = successes[0]/trials[0]\n",
    "\n",
    "# доля \"бойцов\" из Фейсбука:\n",
    "p2 = successes[1]/trials[1]\n",
    "\n",
    "# доля в комбинированном датасете:\n",
    "p_combined = (successes[0] + successes[1]) / (trials[0] + trials[1])\n",
    "\n",
    "# разница пропорций в датасетах\n",
    "difference = p1 - p2 \n",
    "\n",
    "z_value = difference / mth.sqrt(p_combined * (1 - p_combined) * (1/trials[0] + 1/trials[1]))\n",
    "\n",
    "# задаем стандартное нормальное распределение (среднее 0, ст.отклонение 1)\n",
    "distr = st.norm(0, 1) \n",
    "\n",
    "p_value = (1 - distr.cdf(abs(z_value))) * 2\n",
    "\n",
    "print('p-значение: ', \"{0:.3f}\".format(p_value))\n",
    "\n",
    "if (p_value < alpha):\n",
    "    print(\"Отвергаем нулевую гипотезу: между долями есть значимая разница\")\n",
    "else:\n",
    "    print(\"Не получилось отвергнуть нулевую гипотезу, нет оснований считать доли разными\") "
   ]
  },
  {
   "cell_type": "markdown",
   "metadata": {},
   "source": [
    "**Вывод**  \n",
    "При 5% уровне значимости z-тест подтверждает разницу между предпочтениями игроков с Фейсбука и Яндекса: пользователи из Фейсбука чуть реже выбирают сражения (66% от общего числа пользователей из Фейсбука), чем пользователи Яндекса (70% от общего числа пользователей из Яндекс.Директа). Однако стоит отметить, что при 1% уровне значимости оснований отвергать нулевую гипотезу уже нет (значение p-value составляет 0,034)."
   ]
  },
  {
   "cell_type": "markdown",
   "metadata": {},
   "source": [
    "<a name=\"h5\"></a>\n",
    "### 5. Вывод"
   ]
  },
  {
   "cell_type": "markdown",
   "metadata": {},
   "source": [
    "Мы проанализировали данные о событиях, совершенных в мобильной игре «Космические братья», и получили следующие результаты:\n",
    "\n",
    "- на рекламу в Яндексе, Фейсбуке и Инстраграме расходуется примерно одинаковое количество денег, в то время как Ютуб обходится в 2 раза дешевле, чем любой другой рекламный источник;\n",
    "- больше всего денег на рекламу было потрачено 3 мая. В дальнейшем расходы снижались примерно на 40-45% ежедневно относительно прошлого дня;\n",
    "- самый эффективный рекламный источник - Яндекс.Директ - привлек 35% всех игроков;\n",
    "- самый дешевый рекламный источник - Ютуб - стоит на 15% дешевле Яндекс.Директа и на на 50% дешевле Фейсбука в пересчете на одного привлеченного игрока;\n",
    "- в среднем около 43% всех зарегистрированных пользователей завершают 1 уровень. Данный показатель не зависит от вида рекламного источника;\n",
    "- результаты теста Стьюдента говорят о статистической значимости различий во времени прохождения 1 уровня в зависимости от выбранного пути: реализация проекта занимает больше времени, чем победа над игроком;\n",
    "- в целом двое из трех игроков предпочитают сражения строительству, однако этот показатель незначительно варьируется в зависимости от источника. Так, при 5% уровне значимости есть основания говорить о значимой разнице по данному показателю между пользователями Фейсбука и Яндекс.Директ, однако уже при 1% уровне, такие основания отсутсвуют (p-value равно 0,034).\n",
    "\n",
    "Представленной информации недостаточно, чтобы с уверенностью говорить о наличии сильной зависимости поведения игроков от рекламного источника, однако и оснований отвергать такую гипотезу нет. Результаты z-теста при 5% уровне значимости выявляют различия в поведении пользователей. Возможно, анализ более длительного временного промежутка, большего количества событий и действий, совершаемых игроками, позволит выявить новые и более устойчивые закономерности. Чем больше опциональных действий игроков будет предоставлено для анализа, тем эффективнее и надежнее может быть проведено исследование."
   ]
  }
 ],
 "metadata": {
  "kernelspec": {
   "display_name": "Python 3 (ipykernel)",
   "language": "python",
   "name": "python3"
  },
  "language_info": {
   "codemirror_mode": {
    "name": "ipython",
    "version": 3
   },
   "file_extension": ".py",
   "mimetype": "text/x-python",
   "name": "python",
   "nbconvert_exporter": "python",
   "pygments_lexer": "ipython3",
   "version": "3.9.5"
  },
  "toc": {
   "base_numbering": 1,
   "nav_menu": {},
   "number_sections": true,
   "sideBar": true,
   "skip_h1_title": true,
   "title_cell": "Table of Contents",
   "title_sidebar": "Contents",
   "toc_cell": false,
   "toc_position": {},
   "toc_section_display": true,
   "toc_window_display": false
  }
 },
 "nbformat": 4,
 "nbformat_minor": 2
}
