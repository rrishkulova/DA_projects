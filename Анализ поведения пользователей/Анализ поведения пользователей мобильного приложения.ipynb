{
 "cells": [
  {
   "cell_type": "markdown",
   "metadata": {},
   "source": [
    "# Анализ поведения пользователей мобильного приложения"
   ]
  },
  {
   "cell_type": "markdown",
   "metadata": {},
   "source": [
    "**Целью исследования** является изучение поведения пользователей мобильного приложения.  \n",
    "Мы изучим воронку продаж и определим ее слабые места, а исследование результатов А/А/В-эксперимента позволит нам определить, оказывает ли изменение шрифта в приложении значимое влияние на показатели конверсии."
   ]
  },
  {
   "attachments": {},
   "cell_type": "markdown",
   "metadata": {},
   "source": [
    "**Этапы исследования:**\n",
    "\n",
    "1. Обзор данных\n",
    "2. Предобработка данных\n",
    "3. Анализ и проверка данных  \n",
    "4. Анализ воронки событий\n",
    "5. Анализ результатов эксперимента"
   ]
  },
  {
   "cell_type": "markdown",
   "metadata": {},
   "source": [
    "<a name=\"h1\"></a>\n",
    "### 1. Обзор данных"
   ]
  },
  {
   "cell_type": "markdown",
   "metadata": {},
   "source": [
    "#### Импорт библиотек"
   ]
  },
  {
   "cell_type": "code",
   "execution_count": 1,
   "metadata": {},
   "outputs": [],
   "source": [
    "import pandas as pd\n",
    "\n",
    "import matplotlib.pyplot as plt\n",
    "import matplotlib.ticker as ticker\n",
    "import pandas.plotting as pdplt\n",
    "pdplt.register_matplotlib_converters()\n",
    "\n",
    "import seaborn as sns\n",
    "\n",
    "import numpy as np\n",
    "import math as mth\n",
    "from scipy import stats as st"
   ]
  },
  {
   "cell_type": "markdown",
   "metadata": {},
   "source": [
    "#### Настройка"
   ]
  },
  {
   "cell_type": "code",
   "execution_count": 2,
   "metadata": {},
   "outputs": [],
   "source": [
    "#отображение данных до двух знаков после запятой\n",
    "pd.set_option('display.precision', 2)\n",
    "\n",
    "#вывод всех значений ячейки\n",
    "from IPython.core.interactiveshell import InteractiveShell\n",
    "InteractiveShell.ast_node_interactivity = \"all\"\n",
    "\n",
    "#pd.options.display.max_colwidth = 100"
   ]
  },
  {
   "cell_type": "markdown",
   "metadata": {},
   "source": [
    "#### Анализ файла"
   ]
  },
  {
   "cell_type": "code",
   "execution_count": 3,
   "metadata": {},
   "outputs": [],
   "source": [
    "df = pd.read_csv('/datasets/logs_exp.csv', sep='\\s+')"
   ]
  },
  {
   "cell_type": "code",
   "execution_count": 4,
   "metadata": {},
   "outputs": [
    {
     "data": {
      "text/html": [
       "<div>\n",
       "<style scoped>\n",
       "    .dataframe tbody tr th:only-of-type {\n",
       "        vertical-align: middle;\n",
       "    }\n",
       "\n",
       "    .dataframe tbody tr th {\n",
       "        vertical-align: top;\n",
       "    }\n",
       "\n",
       "    .dataframe thead th {\n",
       "        text-align: right;\n",
       "    }\n",
       "</style>\n",
       "<table border=\"1\" class=\"dataframe\">\n",
       "  <thead>\n",
       "    <tr style=\"text-align: right;\">\n",
       "      <th></th>\n",
       "      <th>EventName</th>\n",
       "      <th>DeviceIDHash</th>\n",
       "      <th>EventTimestamp</th>\n",
       "      <th>ExpId</th>\n",
       "    </tr>\n",
       "  </thead>\n",
       "  <tbody>\n",
       "    <tr>\n",
       "      <td>0</td>\n",
       "      <td>MainScreenAppear</td>\n",
       "      <td>4575588528974610257</td>\n",
       "      <td>1564029816</td>\n",
       "      <td>246</td>\n",
       "    </tr>\n",
       "    <tr>\n",
       "      <td>1</td>\n",
       "      <td>MainScreenAppear</td>\n",
       "      <td>7416695313311560658</td>\n",
       "      <td>1564053102</td>\n",
       "      <td>246</td>\n",
       "    </tr>\n",
       "    <tr>\n",
       "      <td>2</td>\n",
       "      <td>PaymentScreenSuccessful</td>\n",
       "      <td>3518123091307005509</td>\n",
       "      <td>1564054127</td>\n",
       "      <td>248</td>\n",
       "    </tr>\n",
       "    <tr>\n",
       "      <td>3</td>\n",
       "      <td>CartScreenAppear</td>\n",
       "      <td>3518123091307005509</td>\n",
       "      <td>1564054127</td>\n",
       "      <td>248</td>\n",
       "    </tr>\n",
       "    <tr>\n",
       "      <td>4</td>\n",
       "      <td>PaymentScreenSuccessful</td>\n",
       "      <td>6217807653094995999</td>\n",
       "      <td>1564055322</td>\n",
       "      <td>248</td>\n",
       "    </tr>\n",
       "  </tbody>\n",
       "</table>\n",
       "</div>"
      ],
      "text/plain": [
       "                 EventName         DeviceIDHash  EventTimestamp  ExpId\n",
       "0         MainScreenAppear  4575588528974610257      1564029816    246\n",
       "1         MainScreenAppear  7416695313311560658      1564053102    246\n",
       "2  PaymentScreenSuccessful  3518123091307005509      1564054127    248\n",
       "3         CartScreenAppear  3518123091307005509      1564054127    248\n",
       "4  PaymentScreenSuccessful  6217807653094995999      1564055322    248"
      ]
     },
     "execution_count": 4,
     "metadata": {},
     "output_type": "execute_result"
    }
   ],
   "source": [
    "df.head()"
   ]
  },
  {
   "cell_type": "code",
   "execution_count": 5,
   "metadata": {},
   "outputs": [
    {
     "name": "stdout",
     "output_type": "stream",
     "text": [
      "<class 'pandas.core.frame.DataFrame'>\n",
      "RangeIndex: 244126 entries, 0 to 244125\n",
      "Data columns (total 4 columns):\n",
      "EventName         244126 non-null object\n",
      "DeviceIDHash      244126 non-null int64\n",
      "EventTimestamp    244126 non-null int64\n",
      "ExpId             244126 non-null int64\n",
      "dtypes: int64(3), object(1)\n",
      "memory usage: 7.5+ MB\n"
     ]
    }
   ],
   "source": [
    "df.info()"
   ]
  },
  {
   "cell_type": "markdown",
   "metadata": {},
   "source": [
    "**Вывод**  \n",
    "Представлена информация о 244 126 действиях пользователей. Для каждого события указано его название, уникальный идентификатор пользователя, время события и один из трех возможных номеров группы.  \n",
    "Пропущенных данных нет, однако необходимо изменить тип данных в столбце `EventTimestamp` и переименовать столбцы. Также стоит проверить данные на наличие дубликатов."
   ]
  },
  {
   "cell_type": "markdown",
   "metadata": {},
   "source": [
    "<a name=\"h2\"></a>\n",
    "### 2. Предобработка данных"
   ]
  },
  {
   "cell_type": "markdown",
   "metadata": {},
   "source": [
    "- Переименуем столбцы."
   ]
  },
  {
   "cell_type": "code",
   "execution_count": 6,
   "metadata": {},
   "outputs": [
    {
     "data": {
      "text/plain": [
       "Index(['EventName', 'DeviceIDHash', 'EventTimestamp', 'ExpId'], dtype='object')"
      ]
     },
     "execution_count": 6,
     "metadata": {},
     "output_type": "execute_result"
    }
   ],
   "source": [
    "df.columns"
   ]
  },
  {
   "cell_type": "code",
   "execution_count": 7,
   "metadata": {},
   "outputs": [],
   "source": [
    "df.columns = ['event_name', 'device_id_hash', 'event_timestamp', 'exp_id']"
   ]
  },
  {
   "cell_type": "markdown",
   "metadata": {},
   "source": [
    "- Проверим данные на наличие пропусков"
   ]
  },
  {
   "cell_type": "code",
   "execution_count": 8,
   "metadata": {},
   "outputs": [
    {
     "data": {
      "text/plain": [
       "event_name         0\n",
       "device_id_hash     0\n",
       "event_timestamp    0\n",
       "exp_id             0\n",
       "dtype: int64"
      ]
     },
     "execution_count": 8,
     "metadata": {},
     "output_type": "execute_result"
    }
   ],
   "source": [
    "df.isnull().sum()"
   ]
  },
  {
   "cell_type": "markdown",
   "metadata": {},
   "source": [
    "- Проверим данные на наличие дубликатов."
   ]
  },
  {
   "cell_type": "code",
   "execution_count": 9,
   "metadata": {},
   "outputs": [
    {
     "data": {
      "text/plain": [
       "413"
      ]
     },
     "execution_count": 9,
     "metadata": {},
     "output_type": "execute_result"
    },
    {
     "data": {
      "text/plain": [
       "0.002"
      ]
     },
     "execution_count": 9,
     "metadata": {},
     "output_type": "execute_result"
    }
   ],
   "source": [
    "df.duplicated().sum()\n",
    "np.round(df.duplicated().sum() / len(df), 3)"
   ]
  },
  {
   "cell_type": "markdown",
   "metadata": {},
   "source": [
    "Дубликаты составляют менее 0,2% от всей выборки. Удалим их."
   ]
  },
  {
   "cell_type": "code",
   "execution_count": 10,
   "metadata": {},
   "outputs": [],
   "source": [
    "df = df.drop_duplicates()"
   ]
  },
  {
   "cell_type": "markdown",
   "metadata": {},
   "source": [
    "- На основании столбца `event_timestamp` добавим новые столбцы: только с датой, с датой и временем.  "
   ]
  },
  {
   "cell_type": "code",
   "execution_count": 11,
   "metadata": {},
   "outputs": [],
   "source": [
    "df['datetime'] = pd.to_datetime(df['event_timestamp'], unit='s')"
   ]
  },
  {
   "cell_type": "code",
   "execution_count": 12,
   "metadata": {},
   "outputs": [],
   "source": [
    "df['date'] = pd.to_datetime(df['datetime'], format='%Y%m%d').dt.floor('D')"
   ]
  },
  {
   "cell_type": "markdown",
   "metadata": {},
   "source": [
    "- Удалим столбец `event_timestamp`."
   ]
  },
  {
   "cell_type": "code",
   "execution_count": 13,
   "metadata": {},
   "outputs": [],
   "source": [
    "del df['event_timestamp']"
   ]
  },
  {
   "cell_type": "markdown",
   "metadata": {},
   "source": [
    "Посмотрим, что получилось."
   ]
  },
  {
   "cell_type": "code",
   "execution_count": 14,
   "metadata": {},
   "outputs": [
    {
     "data": {
      "text/html": [
       "<div>\n",
       "<style scoped>\n",
       "    .dataframe tbody tr th:only-of-type {\n",
       "        vertical-align: middle;\n",
       "    }\n",
       "\n",
       "    .dataframe tbody tr th {\n",
       "        vertical-align: top;\n",
       "    }\n",
       "\n",
       "    .dataframe thead th {\n",
       "        text-align: right;\n",
       "    }\n",
       "</style>\n",
       "<table border=\"1\" class=\"dataframe\">\n",
       "  <thead>\n",
       "    <tr style=\"text-align: right;\">\n",
       "      <th></th>\n",
       "      <th>event_name</th>\n",
       "      <th>device_id_hash</th>\n",
       "      <th>exp_id</th>\n",
       "      <th>datetime</th>\n",
       "      <th>date</th>\n",
       "    </tr>\n",
       "  </thead>\n",
       "  <tbody>\n",
       "    <tr>\n",
       "      <td>0</td>\n",
       "      <td>MainScreenAppear</td>\n",
       "      <td>4575588528974610257</td>\n",
       "      <td>246</td>\n",
       "      <td>2019-07-25 04:43:36</td>\n",
       "      <td>2019-07-25</td>\n",
       "    </tr>\n",
       "    <tr>\n",
       "      <td>1</td>\n",
       "      <td>MainScreenAppear</td>\n",
       "      <td>7416695313311560658</td>\n",
       "      <td>246</td>\n",
       "      <td>2019-07-25 11:11:42</td>\n",
       "      <td>2019-07-25</td>\n",
       "    </tr>\n",
       "    <tr>\n",
       "      <td>2</td>\n",
       "      <td>PaymentScreenSuccessful</td>\n",
       "      <td>3518123091307005509</td>\n",
       "      <td>248</td>\n",
       "      <td>2019-07-25 11:28:47</td>\n",
       "      <td>2019-07-25</td>\n",
       "    </tr>\n",
       "    <tr>\n",
       "      <td>3</td>\n",
       "      <td>CartScreenAppear</td>\n",
       "      <td>3518123091307005509</td>\n",
       "      <td>248</td>\n",
       "      <td>2019-07-25 11:28:47</td>\n",
       "      <td>2019-07-25</td>\n",
       "    </tr>\n",
       "    <tr>\n",
       "      <td>4</td>\n",
       "      <td>PaymentScreenSuccessful</td>\n",
       "      <td>6217807653094995999</td>\n",
       "      <td>248</td>\n",
       "      <td>2019-07-25 11:48:42</td>\n",
       "      <td>2019-07-25</td>\n",
       "    </tr>\n",
       "  </tbody>\n",
       "</table>\n",
       "</div>"
      ],
      "text/plain": [
       "                event_name       device_id_hash  exp_id            datetime  \\\n",
       "0         MainScreenAppear  4575588528974610257     246 2019-07-25 04:43:36   \n",
       "1         MainScreenAppear  7416695313311560658     246 2019-07-25 11:11:42   \n",
       "2  PaymentScreenSuccessful  3518123091307005509     248 2019-07-25 11:28:47   \n",
       "3         CartScreenAppear  3518123091307005509     248 2019-07-25 11:28:47   \n",
       "4  PaymentScreenSuccessful  6217807653094995999     248 2019-07-25 11:48:42   \n",
       "\n",
       "        date  \n",
       "0 2019-07-25  \n",
       "1 2019-07-25  \n",
       "2 2019-07-25  \n",
       "3 2019-07-25  \n",
       "4 2019-07-25  "
      ]
     },
     "execution_count": 14,
     "metadata": {},
     "output_type": "execute_result"
    }
   ],
   "source": [
    "df.head()"
   ]
  },
  {
   "cell_type": "code",
   "execution_count": 15,
   "metadata": {},
   "outputs": [
    {
     "name": "stdout",
     "output_type": "stream",
     "text": [
      "<class 'pandas.core.frame.DataFrame'>\n",
      "Int64Index: 243713 entries, 0 to 244125\n",
      "Data columns (total 5 columns):\n",
      "event_name        243713 non-null object\n",
      "device_id_hash    243713 non-null int64\n",
      "exp_id            243713 non-null int64\n",
      "datetime          243713 non-null datetime64[ns]\n",
      "date              243713 non-null datetime64[ns]\n",
      "dtypes: datetime64[ns](2), int64(2), object(1)\n",
      "memory usage: 11.2+ MB\n"
     ]
    }
   ],
   "source": [
    "df.info()"
   ]
  },
  {
   "cell_type": "markdown",
   "metadata": {},
   "source": [
    "**Результат**  \n",
    "1. Столбцы переименованы.\n",
    "2. Подтверждено отсутствие пропусков.\n",
    "3. Исключены дубликаты.\n",
    "3. Добавлены столбцы: только с датой события и с датой и временем события."
   ]
  },
  {
   "cell_type": "markdown",
   "metadata": {},
   "source": [
    "<a name=\"h3\"></a>\n",
    "### 3. Анализ и проверка данных"
   ]
  },
  {
   "cell_type": "code",
   "execution_count": 16,
   "metadata": {},
   "outputs": [
    {
     "name": "stdout",
     "output_type": "stream",
     "text": [
      "Всего событий в логе: 243713\n"
     ]
    }
   ],
   "source": [
    "print('Всего событий в логе:', len(df))"
   ]
  },
  {
   "cell_type": "code",
   "execution_count": 17,
   "metadata": {},
   "outputs": [
    {
     "name": "stdout",
     "output_type": "stream",
     "text": [
      "Всего уникальных пользователей в логе: 7551\n"
     ]
    }
   ],
   "source": [
    "print('Всего уникальных пользователей в логе:', df['device_id_hash'].nunique())"
   ]
  },
  {
   "cell_type": "code",
   "execution_count": 18,
   "metadata": {},
   "outputs": [
    {
     "name": "stdout",
     "output_type": "stream",
     "text": [
      "На одного пользователя в среднем приходится 32 события\n"
     ]
    }
   ],
   "source": [
    "print('На одного пользователя в среднем приходится', round(len(df) / df['device_id_hash'].nunique()), 'события')"
   ]
  },
  {
   "cell_type": "code",
   "execution_count": 19,
   "metadata": {},
   "outputs": [
    {
     "name": "stdout",
     "output_type": "stream",
     "text": [
      "Представлены данные за 13 дней, в период с 25.07.2019 по 07.08.2019\n"
     ]
    }
   ],
   "source": [
    "print('Представлены данные за', \n",
    "      str(df['date'].max() - df['date'].min()).split()[0], 'дней, в период с', \n",
    "      df['date'].min().strftime(\"%d.%m.%Y\"), 'по', \n",
    "      df['date'].max().strftime(\"%d.%m.%Y\"))"
   ]
  },
  {
   "cell_type": "markdown",
   "metadata": {},
   "source": [
    "- Построим гистограмму по дате и времени"
   ]
  },
  {
   "cell_type": "code",
   "execution_count": 20,
   "metadata": {},
   "outputs": [
    {
     "data": {
      "image/png": "[encoded data removed]",
      "text/plain": [
       "<Figure size 1152x648 with 1 Axes>"
      ]
     },
     "metadata": {
      "needs_background": "light"
     },
     "output_type": "display_data"
    }
   ],
   "source": [
    "ax = df['datetime'].hist(bins = 200, figsize = (16,9), color='green')\n",
    "plt.xticks(rotation=45)\n",
    "ax.xaxis.set_major_locator(ticker.MultipleLocator(1))\n",
    "ax.xaxis.set_minor_locator(ticker.MultipleLocator(0.5))\n",
    "\n",
    "ax.grid(which='major',\n",
    "        color = 'k')\n",
    "ax.minorticks_on()\n",
    "ax.grid(which='minor',\n",
    "        color = 'gray',\n",
    "        linestyle = ':')\n",
    "\n",
    "plt.title(\"Гистограмма количества событий по дате и времени\", fontsize=15, color='green')\n",
    "plt.xlabel(\"Дата\", fontsize=13, color='green')\n",
    "plt.ylabel(\"Количество событий\", fontsize=13, color='green')\n",
    "\n",
    "plt.show();"
   ]
  },
  {
   "cell_type": "markdown",
   "metadata": {},
   "source": [
    "На графике видно, что в нашем распоряжении есть полные данные только за последние 7 дней: с 01-08-2019 по 07-08-2019. Исключим дни с неполными данными.  \n",
    "Одновременно можно отметить, что гистограммы в рамках одних суток по оставшимся дням указывают на нормальное распределение данных, что необходимо учитывать при дальнейшем тестировании."
   ]
  },
  {
   "cell_type": "code",
   "execution_count": 21,
   "metadata": {},
   "outputs": [],
   "source": [
    "df_net = df[(df['datetime'] >= '2019-08-01 00:00:00')]"
   ]
  },
  {
   "cell_type": "code",
   "execution_count": 22,
   "metadata": {},
   "outputs": [
    {
     "name": "stdout",
     "output_type": "stream",
     "text": [
      "Количество событий, исключенных из лога: 2826 или 1 %\n"
     ]
    }
   ],
   "source": [
    "print('Количество событий, исключенных из лога:', \n",
    "      (len(df) - len(df_net)), 'или', \n",
    "      round((len(df) - len(df_net)) * 100 / len(df)), '%')"
   ]
  },
  {
   "cell_type": "code",
   "execution_count": 23,
   "metadata": {},
   "outputs": [
    {
     "name": "stdout",
     "output_type": "stream",
     "text": [
      "Количество уникальных пользователей, исключенных из лога: 17 или 0.23 %\n"
     ]
    }
   ],
   "source": [
    "print('Количество уникальных пользователей, исключенных из лога:', \n",
    "      (df['device_id_hash'].nunique() - df_net['device_id_hash'].nunique()), 'или', \n",
    "     round((df['device_id_hash'].nunique() - df_net['device_id_hash'].nunique()) *100 / df['device_id_hash'].nunique(), 2), '%')"
   ]
  },
  {
   "cell_type": "markdown",
   "metadata": {},
   "source": [
    "- Проверим, что в выборке есть пользователи из всех трех экспериментальных групп. "
   ]
  },
  {
   "cell_type": "code",
   "execution_count": 24,
   "metadata": {},
   "outputs": [
    {
     "data": {
      "text/plain": [
       "array([246, 247, 248])"
      ]
     },
     "execution_count": 24,
     "metadata": {},
     "output_type": "execute_result"
    }
   ],
   "source": [
    "df_net['exp_id'].unique()"
   ]
  },
  {
   "cell_type": "markdown",
   "metadata": {},
   "source": [
    "**Вывод**  \n",
    "После очистки данных анализируемый период сократился почти в 2 раза: с 13 до 7 дней, при этом мы потеряли всего 1% событий и 0,23% от всех уникальных пользователей."
   ]
  },
  {
   "cell_type": "markdown",
   "metadata": {},
   "source": [
    "<a name=\"4\"></a>\n",
    "### 4. Анализ воронки событий"
   ]
  },
  {
   "cell_type": "markdown",
   "metadata": {},
   "source": [
    "- Рассмотрим какие события есть в логах и как часто они встречаются."
   ]
  },
  {
   "cell_type": "code",
   "execution_count": 25,
   "metadata": {},
   "outputs": [],
   "source": [
    "df_event = df_net.groupby('event_name').agg({'device_id_hash':'count'}).reset_index()"
   ]
  },
  {
   "cell_type": "code",
   "execution_count": 26,
   "metadata": {},
   "outputs": [],
   "source": [
    "#напишем функцию для создания графиков типа sns.barplot\n",
    "def sns_barplot(x, y, data, x_label=\"\", y_label=\"\", title=\"\"):\n",
    "    plt.figure(figsize=(16,9))\n",
    "    ax = sns.barplot(x=x, y=y, data=data.sort_values(y, ascending=False), palette=sns.color_palette(\"BuGn_r\",  len(data)))\n",
    "\n",
    "    for p in ax.patches:\n",
    "        height = p.get_height()\n",
    "        if np.isnan(height):\n",
    "            height = 0\n",
    "        ax.text(p.get_x() + p.get_width()/2., height, '%d' % int(height), \n",
    "            fontsize=11, color='black', ha='center', va='bottom')\n",
    "    \n",
    "    plt.title(title, fontsize = 15, fontweight=\"bold\", color='green')\n",
    "    plt.xlabel(x_label, fontsize = 13, fontweight=500, color='green')\n",
    "    plt.ylabel(y_label, fontsize = 13, fontweight=500, color='green')"
   ]
  },
  {
   "cell_type": "code",
   "execution_count": 27,
   "metadata": {},
   "outputs": [
    {
     "data": {
      "image/png": "[encoded data removed]",
      "text/plain": [
       "<Figure size 1152x648 with 1 Axes>"
      ]
     },
     "metadata": {
      "needs_background": "light"
     },
     "output_type": "display_data"
    }
   ],
   "source": [
    "sns_barplot('event_name', 'device_id_hash', df_event, \n",
    "            x_label=\"Событие\", y_label=\"Количество событий\", title=\"Количество событий каждого типа в логе\")"
   ]
  },
  {
   "cell_type": "markdown",
   "metadata": {},
   "source": [
    "- Рассмотрим сколько пользователей совершали каждое из этих событий."
   ]
  },
  {
   "cell_type": "code",
   "execution_count": 28,
   "metadata": {},
   "outputs": [],
   "source": [
    "df_id = df_net.groupby('event_name').agg({'device_id_hash':'nunique'}).reset_index()"
   ]
  },
  {
   "cell_type": "code",
   "execution_count": 29,
   "metadata": {},
   "outputs": [
    {
     "data": {
      "image/png": "[encoded data removed]",
      "text/plain": [
       "<Figure size 1152x648 with 1 Axes>"
      ]
     },
     "metadata": {
      "needs_background": "light"
     },
     "output_type": "display_data"
    }
   ],
   "source": [
    "sns_barplot('event_name', 'device_id_hash', df_id, \n",
    "            x_label=\"Событие\", y_label=\"Количество уникальных пользователей\", \n",
    "            title=\"Количество уникальных пользователей, совершивших событие\")"
   ]
  },
  {
   "cell_type": "markdown",
   "metadata": {},
   "source": [
    "Для каждого события рассчитаем количество и долю пользователей, которые хоть раз его совершали."
   ]
  },
  {
   "cell_type": "code",
   "execution_count": 30,
   "metadata": {},
   "outputs": [],
   "source": [
    "df_id['users_share'] = df_id['device_id_hash'] / df_net['device_id_hash'].nunique()"
   ]
  },
  {
   "cell_type": "code",
   "execution_count": 31,
   "metadata": {},
   "outputs": [],
   "source": [
    "df_id.columns = ['event_name', 'users_amount', 'users_share']"
   ]
  },
  {
   "cell_type": "code",
   "execution_count": 32,
   "metadata": {},
   "outputs": [
    {
     "data": {
      "text/html": [
       "<div>\n",
       "<style scoped>\n",
       "    .dataframe tbody tr th:only-of-type {\n",
       "        vertical-align: middle;\n",
       "    }\n",
       "\n",
       "    .dataframe tbody tr th {\n",
       "        vertical-align: top;\n",
       "    }\n",
       "\n",
       "    .dataframe thead th {\n",
       "        text-align: right;\n",
       "    }\n",
       "</style>\n",
       "<table border=\"1\" class=\"dataframe\">\n",
       "  <thead>\n",
       "    <tr style=\"text-align: right;\">\n",
       "      <th></th>\n",
       "      <th>event_name</th>\n",
       "      <th>users_amount</th>\n",
       "      <th>users_share</th>\n",
       "    </tr>\n",
       "  </thead>\n",
       "  <tbody>\n",
       "    <tr>\n",
       "      <td>1</td>\n",
       "      <td>MainScreenAppear</td>\n",
       "      <td>7419</td>\n",
       "      <td>0.98</td>\n",
       "    </tr>\n",
       "    <tr>\n",
       "      <td>2</td>\n",
       "      <td>OffersScreenAppear</td>\n",
       "      <td>4593</td>\n",
       "      <td>0.61</td>\n",
       "    </tr>\n",
       "    <tr>\n",
       "      <td>0</td>\n",
       "      <td>CartScreenAppear</td>\n",
       "      <td>3734</td>\n",
       "      <td>0.50</td>\n",
       "    </tr>\n",
       "    <tr>\n",
       "      <td>3</td>\n",
       "      <td>PaymentScreenSuccessful</td>\n",
       "      <td>3539</td>\n",
       "      <td>0.47</td>\n",
       "    </tr>\n",
       "    <tr>\n",
       "      <td>4</td>\n",
       "      <td>Tutorial</td>\n",
       "      <td>840</td>\n",
       "      <td>0.11</td>\n",
       "    </tr>\n",
       "  </tbody>\n",
       "</table>\n",
       "</div>"
      ],
      "text/plain": [
       "                event_name  users_amount  users_share\n",
       "1         MainScreenAppear          7419         0.98\n",
       "2       OffersScreenAppear          4593         0.61\n",
       "0         CartScreenAppear          3734         0.50\n",
       "3  PaymentScreenSuccessful          3539         0.47\n",
       "4                 Tutorial           840         0.11"
      ]
     },
     "execution_count": 32,
     "metadata": {},
     "output_type": "execute_result"
    }
   ],
   "source": [
    "df_id = df_id.sort_values('users_share', ascending=False)\n",
    "df_id"
   ]
  },
  {
   "cell_type": "markdown",
   "metadata": {},
   "source": [
    "Исходя из полученной информации можно определить логичный порядок событий:\n",
    "    - просмотр главной страницы;\n",
    "    - переход на страницу с товарами;\n",
    "    - переход в корзину;\n",
    "    - оплата.  \n",
    "Этап ознакомление с инструкцией не является обязательным, так как всего 11% пользователей заходят на эту страницу, при этом этот показатель самый низкий среди всех событий. Поскольку чтение инструкции уже после совершения всех действий в мобильном приложении не имеет смысла (что объяснило бы самый низкий охват как для последнего этапа воронки), можно исключить данный пункт при расчете воронки.   "
   ]
  },
  {
   "cell_type": "code",
   "execution_count": 33,
   "metadata": {},
   "outputs": [],
   "source": [
    "df_id = df_id.drop([4])"
   ]
  },
  {
   "cell_type": "markdown",
   "metadata": {},
   "source": [
    "- Определим на каком шаге теряется больше всего пользователей, рассчитав конверсию методом `shift`"
   ]
  },
  {
   "cell_type": "code",
   "execution_count": 34,
   "metadata": {},
   "outputs": [],
   "source": [
    "df_id['conversion'] = df_id.users_amount / df_id.users_amount.shift(1)"
   ]
  },
  {
   "cell_type": "code",
   "execution_count": 35,
   "metadata": {},
   "outputs": [
    {
     "data": {
      "text/html": [
       "<div>\n",
       "<style scoped>\n",
       "    .dataframe tbody tr th:only-of-type {\n",
       "        vertical-align: middle;\n",
       "    }\n",
       "\n",
       "    .dataframe tbody tr th {\n",
       "        vertical-align: top;\n",
       "    }\n",
       "\n",
       "    .dataframe thead th {\n",
       "        text-align: right;\n",
       "    }\n",
       "</style>\n",
       "<table border=\"1\" class=\"dataframe\">\n",
       "  <thead>\n",
       "    <tr style=\"text-align: right;\">\n",
       "      <th></th>\n",
       "      <th>event_name</th>\n",
       "      <th>users_amount</th>\n",
       "      <th>users_share</th>\n",
       "      <th>conversion</th>\n",
       "    </tr>\n",
       "  </thead>\n",
       "  <tbody>\n",
       "    <tr>\n",
       "      <td>1</td>\n",
       "      <td>MainScreenAppear</td>\n",
       "      <td>7419</td>\n",
       "      <td>0.98</td>\n",
       "      <td>NaN</td>\n",
       "    </tr>\n",
       "    <tr>\n",
       "      <td>2</td>\n",
       "      <td>OffersScreenAppear</td>\n",
       "      <td>4593</td>\n",
       "      <td>0.61</td>\n",
       "      <td>0.62</td>\n",
       "    </tr>\n",
       "    <tr>\n",
       "      <td>0</td>\n",
       "      <td>CartScreenAppear</td>\n",
       "      <td>3734</td>\n",
       "      <td>0.50</td>\n",
       "      <td>0.81</td>\n",
       "    </tr>\n",
       "    <tr>\n",
       "      <td>3</td>\n",
       "      <td>PaymentScreenSuccessful</td>\n",
       "      <td>3539</td>\n",
       "      <td>0.47</td>\n",
       "      <td>0.95</td>\n",
       "    </tr>\n",
       "  </tbody>\n",
       "</table>\n",
       "</div>"
      ],
      "text/plain": [
       "                event_name  users_amount  users_share  conversion\n",
       "1         MainScreenAppear          7419         0.98         NaN\n",
       "2       OffersScreenAppear          4593         0.61        0.62\n",
       "0         CartScreenAppear          3734         0.50        0.81\n",
       "3  PaymentScreenSuccessful          3539         0.47        0.95"
      ]
     },
     "execution_count": 35,
     "metadata": {},
     "output_type": "execute_result"
    }
   ],
   "source": [
    "df_id"
   ]
  },
  {
   "cell_type": "markdown",
   "metadata": {},
   "source": [
    "Самая низкая конверсия при переходе от главной страницы к странице с товарами."
   ]
  },
  {
   "cell_type": "code",
   "execution_count": 36,
   "metadata": {},
   "outputs": [
    {
     "name": "stdout",
     "output_type": "stream",
     "text": [
      "Доля пользователей, посетивших главную страницу и дошедших до этапа оплаты заказа: 0.48\n"
     ]
    }
   ],
   "source": [
    "print('Доля пользователей, посетивших главную страницу и дошедших до этапа оплаты заказа:', \n",
    "      np.round((df_id.iloc[3,1] / df_id.iloc[0,1]), 2))"
   ]
  },
  {
   "cell_type": "markdown",
   "metadata": {},
   "source": [
    "**Вывод**  \n",
    "98% всех пользователей заходили на главную страницу, при этом только 62% из них переходили на страницу с товарами. 4 из 5 просмотревших каталог, добавляли товар в корзину и почти каждый пользователь (95%) после этого шага оплатил покупку. Из-за низкой конверсии при переходе от главной страницы к странице с товарами, покупателем становился только каждый второй пользователь (48%), посетивший главную страницу. При этом некоторые пользователи открывали католог минуя главную страницу - их доля составила 2%.  Вероятно, они попадали на сайт через контекстную рекламу сразу на страницу с предлагаемым товаром.  \n",
    "Самый низкий показатель конверсии при переходе от главной страницы к каталогу. Возможно, дело в недостаточно удобной навигации по сайту, из-за которой некоторые пользователи не находят ссылку на страницу с товарами или были технические сбои, непозволившие потенциальным покупателям совершить переход на страницу с катологом. Можно обратить внимание коллег на данный факт, чтобы подробнее изучить логи:  \n",
    "- Проверить время, которое пользователи проводят на главной странице, и если оно слишком большое это может быть признаком проблем с интерфейсом приложения.\n",
    "- Посмотреть как распределена конверсия по дням/операционным системам/типам устройств. Существенное изменение показателя в разрезе дней/операционных систем/типов устройста при прочих равных условиях может говорить о наличии технических проблем."
   ]
  },
  {
   "cell_type": "markdown",
   "metadata": {},
   "source": [
    "<a name=\"5\"></a>\n",
    "### 5. Анализ результатов эксперимента"
   ]
  },
  {
   "cell_type": "markdown",
   "metadata": {},
   "source": [
    "Прежде всего исключим из датафрейма этап по ознакомлению с инструкцией."
   ]
  },
  {
   "cell_type": "code",
   "execution_count": 37,
   "metadata": {},
   "outputs": [],
   "source": [
    "df_net_final = df_net[df_net['event_name'] != 'Tutorial']"
   ]
  },
  {
   "cell_type": "markdown",
   "metadata": {},
   "source": [
    "Рассчитаем количество уникальных пользователей в каждой из трех групп. "
   ]
  },
  {
   "cell_type": "code",
   "execution_count": 38,
   "metadata": {},
   "outputs": [
    {
     "data": {
      "text/html": [
       "<div>\n",
       "<style scoped>\n",
       "    .dataframe tbody tr th:only-of-type {\n",
       "        vertical-align: middle;\n",
       "    }\n",
       "\n",
       "    .dataframe tbody tr th {\n",
       "        vertical-align: top;\n",
       "    }\n",
       "\n",
       "    .dataframe thead th {\n",
       "        text-align: right;\n",
       "    }\n",
       "</style>\n",
       "<table border=\"1\" class=\"dataframe\">\n",
       "  <thead>\n",
       "    <tr style=\"text-align: right;\">\n",
       "      <th></th>\n",
       "      <th>exp_id</th>\n",
       "      <th>device_id_hash</th>\n",
       "    </tr>\n",
       "  </thead>\n",
       "  <tbody>\n",
       "    <tr>\n",
       "      <td>0</td>\n",
       "      <td>246</td>\n",
       "      <td>2483</td>\n",
       "    </tr>\n",
       "    <tr>\n",
       "      <td>1</td>\n",
       "      <td>247</td>\n",
       "      <td>2512</td>\n",
       "    </tr>\n",
       "    <tr>\n",
       "      <td>2</td>\n",
       "      <td>248</td>\n",
       "      <td>2535</td>\n",
       "    </tr>\n",
       "  </tbody>\n",
       "</table>\n",
       "</div>"
      ],
      "text/plain": [
       "   exp_id  device_id_hash\n",
       "0     246            2483\n",
       "1     247            2512\n",
       "2     248            2535"
      ]
     },
     "execution_count": 38,
     "metadata": {},
     "output_type": "execute_result"
    }
   ],
   "source": [
    "check = df_net_final.groupby('exp_id').agg({'device_id_hash':'nunique'}).reset_index()\n",
    "check"
   ]
  },
  {
   "cell_type": "markdown",
   "metadata": {},
   "source": [
    "Проверим данные для А/А-теста:"
   ]
  },
  {
   "cell_type": "markdown",
   "metadata": {},
   "source": [
    "- Убедимся, что каждый пользователь попадает только в одну экспериментальную группу."
   ]
  },
  {
   "cell_type": "code",
   "execution_count": 39,
   "metadata": {},
   "outputs": [
    {
     "data": {
      "text/plain": [
       "1"
      ]
     },
     "execution_count": 39,
     "metadata": {},
     "output_type": "execute_result"
    }
   ],
   "source": [
    "#группируем данные по каждому пользователю, агрегируя по количеству экспериментальных групп \n",
    "#проверяем, что этот показатель ни для одного пользователя не превышает 1\n",
    "check_2 = df_net_final.groupby('device_id_hash').agg({'exp_id':'nunique'}).reset_index()\n",
    "check_2['exp_id'].max()"
   ]
  },
  {
   "cell_type": "markdown",
   "metadata": {},
   "source": [
    "- Получим подтверждение, что количество пользователей в различных группах различается не более, чем на 1%;"
   ]
  },
  {
   "cell_type": "code",
   "execution_count": 40,
   "metadata": {},
   "outputs": [
    {
     "name": "stdout",
     "output_type": "stream",
     "text": [
      "Отношение количества пользователей в группе 246 к количеству пользователей в группе 247: 0.99\n"
     ]
    }
   ],
   "source": [
    "print('Отношение количества пользователей в группе 246 к количеству пользователей в группе 247:', \n",
    "      np.round((check.iloc[0,1] / check.iloc[1,1]), 2))"
   ]
  },
  {
   "cell_type": "markdown",
   "metadata": {},
   "source": [
    "Наши данные подходят для проведения А/А-теста. Приступим к тестированию. \n",
    "\n",
    "Начнем со сводной таблицы, в которой сгруппируем данные по событиям и экспериментальным группам. Агрегировать данные будем по количеству уникальных пользователей."
   ]
  },
  {
   "cell_type": "code",
   "execution_count": 41,
   "metadata": {},
   "outputs": [
    {
     "data": {
      "text/html": [
       "<div>\n",
       "<style scoped>\n",
       "    .dataframe tbody tr th:only-of-type {\n",
       "        vertical-align: middle;\n",
       "    }\n",
       "\n",
       "    .dataframe tbody tr th {\n",
       "        vertical-align: top;\n",
       "    }\n",
       "\n",
       "    .dataframe thead th {\n",
       "        text-align: right;\n",
       "    }\n",
       "</style>\n",
       "<table border=\"1\" class=\"dataframe\">\n",
       "  <thead>\n",
       "    <tr style=\"text-align: right;\">\n",
       "      <th>exp_id</th>\n",
       "      <th>event_name</th>\n",
       "      <th>246</th>\n",
       "      <th>247</th>\n",
       "      <th>248</th>\n",
       "    </tr>\n",
       "  </thead>\n",
       "  <tbody>\n",
       "    <tr>\n",
       "      <td>0</td>\n",
       "      <td>MainScreenAppear</td>\n",
       "      <td>2450</td>\n",
       "      <td>2476</td>\n",
       "      <td>2493</td>\n",
       "    </tr>\n",
       "    <tr>\n",
       "      <td>1</td>\n",
       "      <td>OffersScreenAppear</td>\n",
       "      <td>1542</td>\n",
       "      <td>1520</td>\n",
       "      <td>1531</td>\n",
       "    </tr>\n",
       "    <tr>\n",
       "      <td>2</td>\n",
       "      <td>CartScreenAppear</td>\n",
       "      <td>1266</td>\n",
       "      <td>1238</td>\n",
       "      <td>1230</td>\n",
       "    </tr>\n",
       "    <tr>\n",
       "      <td>3</td>\n",
       "      <td>PaymentScreenSuccessful</td>\n",
       "      <td>1200</td>\n",
       "      <td>1158</td>\n",
       "      <td>1181</td>\n",
       "    </tr>\n",
       "  </tbody>\n",
       "</table>\n",
       "</div>"
      ],
      "text/plain": [
       "exp_id               event_name   246   247   248\n",
       "0              MainScreenAppear  2450  2476  2493\n",
       "1            OffersScreenAppear  1542  1520  1531\n",
       "2              CartScreenAppear  1266  1238  1230\n",
       "3       PaymentScreenSuccessful  1200  1158  1181"
      ]
     },
     "execution_count": 41,
     "metadata": {},
     "output_type": "execute_result"
    }
   ],
   "source": [
    "pivot = df_net_final.pivot_table(index='event_name', columns='exp_id', \n",
    "                         values='device_id_hash', aggfunc='nunique').sort_values(246, ascending=False).reset_index()\n",
    "pivot"
   ]
  },
  {
   "cell_type": "markdown",
   "metadata": {},
   "source": [
    "Создадим столбец `246&247`, в котором объединим данные контрольных групп."
   ]
  },
  {
   "cell_type": "code",
   "execution_count": 42,
   "metadata": {},
   "outputs": [
    {
     "data": {
      "text/html": [
       "<div>\n",
       "<style scoped>\n",
       "    .dataframe tbody tr th:only-of-type {\n",
       "        vertical-align: middle;\n",
       "    }\n",
       "\n",
       "    .dataframe tbody tr th {\n",
       "        vertical-align: top;\n",
       "    }\n",
       "\n",
       "    .dataframe thead th {\n",
       "        text-align: right;\n",
       "    }\n",
       "</style>\n",
       "<table border=\"1\" class=\"dataframe\">\n",
       "  <thead>\n",
       "    <tr style=\"text-align: right;\">\n",
       "      <th>exp_id</th>\n",
       "      <th>event_name</th>\n",
       "      <th>246</th>\n",
       "      <th>247</th>\n",
       "      <th>248</th>\n",
       "      <th>246&amp;247</th>\n",
       "    </tr>\n",
       "  </thead>\n",
       "  <tbody>\n",
       "    <tr>\n",
       "      <td>0</td>\n",
       "      <td>MainScreenAppear</td>\n",
       "      <td>2450</td>\n",
       "      <td>2476</td>\n",
       "      <td>2493</td>\n",
       "      <td>4926</td>\n",
       "    </tr>\n",
       "    <tr>\n",
       "      <td>1</td>\n",
       "      <td>OffersScreenAppear</td>\n",
       "      <td>1542</td>\n",
       "      <td>1520</td>\n",
       "      <td>1531</td>\n",
       "      <td>3062</td>\n",
       "    </tr>\n",
       "    <tr>\n",
       "      <td>2</td>\n",
       "      <td>CartScreenAppear</td>\n",
       "      <td>1266</td>\n",
       "      <td>1238</td>\n",
       "      <td>1230</td>\n",
       "      <td>2504</td>\n",
       "    </tr>\n",
       "    <tr>\n",
       "      <td>3</td>\n",
       "      <td>PaymentScreenSuccessful</td>\n",
       "      <td>1200</td>\n",
       "      <td>1158</td>\n",
       "      <td>1181</td>\n",
       "      <td>2358</td>\n",
       "    </tr>\n",
       "  </tbody>\n",
       "</table>\n",
       "</div>"
      ],
      "text/plain": [
       "exp_id               event_name   246   247   248  246&247\n",
       "0              MainScreenAppear  2450  2476  2493     4926\n",
       "1            OffersScreenAppear  1542  1520  1531     3062\n",
       "2              CartScreenAppear  1266  1238  1230     2504\n",
       "3       PaymentScreenSuccessful  1200  1158  1181     2358"
      ]
     },
     "execution_count": 42,
     "metadata": {},
     "output_type": "execute_result"
    }
   ],
   "source": [
    "pivot['246&247'] = pivot[246] + pivot[247]\n",
    "pivot"
   ]
  },
  {
   "cell_type": "markdown",
   "metadata": {},
   "source": [
    "Пропишем функцию для формулирования и проверки гипотез для различных групп и событий. Ранее мы отметили нормальность распределения данных, поэтому воспользуемся `z-тестом`, который обычно применяют для проверки гипотезы о равенстве долей двух генеральных совокупностей. В качестве параметров функции будут указываться: \n",
    "- номер группы №1, \n",
    "- номер группы №2, \n",
    "- наименование датафрейма,\n",
    "- критический уровень статистической значимости."
   ]
  },
  {
   "cell_type": "code",
   "execution_count": 43,
   "metadata": {},
   "outputs": [],
   "source": [
    "def z_test(group1, group2, data, alpha): \n",
    "    \n",
    "    alpha = alpha # критический уровень статистической значимости\n",
    "    \n",
    "    if group1 == 246 and group2 == 247:\n",
    "        id_amount = [2483, 2512]\n",
    "    elif group1 == 246 and group2 == 248:\n",
    "        id_amount = [2483, 2535]\n",
    "    elif group1 == 247 and group2 == 248:    \n",
    "        id_amount = [2512, 2535]       \n",
    "    else:\n",
    "        id_amount = [2483+2512, 2535]                    \n",
    "     \n",
    "    for event in range(0, len(data)):\n",
    "        successes = np.array([data.loc[event, group1], data.loc[event, group2]])\n",
    "        trials = np.array([id_amount[0], id_amount[1]])\n",
    "\n",
    "    # пропорция успехов в каждой группе:\n",
    "        p1 = successes[0]/trials[0]\n",
    "        p2 = successes[1]/trials[1]\n",
    "\n",
    "    # пропорция успехов в комбинированном датасете:\n",
    "        p_combined = (successes[0] + successes[1]) / (trials[0] + trials[1])\n",
    "\n",
    "    # разница пропорций в датасетах\n",
    "        difference = p1 - p2\n",
    "   \n",
    "    # считаем статистику в ст.отклонениях стандартного нормального распределения\n",
    "        z_value = difference / mth.sqrt(p_combined * (1 - p_combined) * (1/trials[0] + 1/trials[1]))\n",
    "\n",
    "    # задаем стандартное нормальное распределение (среднее 0, ст.отклонение 1)\n",
    "        distr = st.norm(0, 1)\n",
    "        print(distr)\n",
    "        p_value = (1 - distr.cdf(abs(z_value))) * 2\n",
    "\n",
    "        event = data.loc[event, 'event_name']\n",
    "        print('Нулевая гипотеза H₀: конверсии группы', group1, 'и группы', group2, 'по событию', event, 'равны.')\n",
    "        print('Альтернативная гипотеза H₁: конверсии группы', group1, 'и группы', group2,'по событию', event, 'различаются.')\n",
    "        print('p-значение: ', round(p_value, 2))\n",
    "    \n",
    "        if (p_value < alpha):\n",
    "             print(\"Отвергаем нулевую гипотезу: между конверсиями есть значимая разница\")\n",
    "        else:\n",
    "             print(\"Не получилось отвергнуть нулевую гипотезу, нет оснований считать конверсии разными\")\n",
    "        print('---------------------------------------------------------------------------------------------------------------')"
   ]
  },
  {
   "cell_type": "markdown",
   "metadata": {},
   "source": [
    "#### Гипотеза 1: существует статистическая значимость различий в конверсии событий между контрольными группами 246 и 247 (уровень стат. значимости 1%)"
   ]
  },
  {
   "cell_type": "code",
   "execution_count": 44,
   "metadata": {},
   "outputs": [
    {
     "name": "stdout",
     "output_type": "stream",
     "text": [
      "<scipy.stats._distn_infrastructure.rv_frozen object at 0x7fcf959a4190>\n",
      "Нулевая гипотеза H₀: конверсии группы 246 и группы 247 по событию MainScreenAppear равны.\n",
      "Альтернативная гипотеза H₁: конверсии группы 246 и группы 247 по событию MainScreenAppear различаются.\n",
      "p-значение:  0.75\n",
      "Не получилось отвергнуть нулевую гипотезу, нет оснований считать конверсии разными\n",
      "---------------------------------------------------------------------------------------------------------------\n",
      "<scipy.stats._distn_infrastructure.rv_frozen object at 0x7fcf959bfc90>\n",
      "Нулевая гипотеза H₀: конверсии группы 246 и группы 247 по событию OffersScreenAppear равны.\n",
      "Альтернативная гипотеза H₁: конверсии группы 246 и группы 247 по событию OffersScreenAppear различаются.\n",
      "p-значение:  0.25\n",
      "Не получилось отвергнуть нулевую гипотезу, нет оснований считать конверсии разными\n",
      "---------------------------------------------------------------------------------------------------------------\n",
      "<scipy.stats._distn_infrastructure.rv_frozen object at 0x7fcf9595c390>\n",
      "Нулевая гипотеза H₀: конверсии группы 246 и группы 247 по событию CartScreenAppear равны.\n",
      "Альтернативная гипотеза H₁: конверсии группы 246 и группы 247 по событию CartScreenAppear различаются.\n",
      "p-значение:  0.23\n",
      "Не получилось отвергнуть нулевую гипотезу, нет оснований считать конверсии разными\n",
      "---------------------------------------------------------------------------------------------------------------\n",
      "<scipy.stats._distn_infrastructure.rv_frozen object at 0x7fcf959bffd0>\n",
      "Нулевая гипотеза H₀: конверсии группы 246 и группы 247 по событию PaymentScreenSuccessful равны.\n",
      "Альтернативная гипотеза H₁: конверсии группы 246 и группы 247 по событию PaymentScreenSuccessful различаются.\n",
      "p-значение:  0.11\n",
      "Не получилось отвергнуть нулевую гипотезу, нет оснований считать конверсии разными\n",
      "---------------------------------------------------------------------------------------------------------------\n"
     ]
    }
   ],
   "source": [
    "z_test(246, 247, pivot, 0.01)"
   ]
  },
  {
   "cell_type": "markdown",
   "metadata": {},
   "source": [
    "**Вывод**  \n",
    "При 1% уровне значимости нет оснований считать конверсии групп 246 и 247 разными ни по одному из событий. Можно сделать вывод, что разбиение на группы сработало корректно."
   ]
  },
  {
   "cell_type": "markdown",
   "metadata": {},
   "source": [
    "#### Гипотеза 2: существует статистическая значимость различий в конверсии событий между контрольной группой 246 и экспериментальной группой 248 (уровень стат. значимости 1%)"
   ]
  },
  {
   "cell_type": "code",
   "execution_count": 45,
   "metadata": {},
   "outputs": [
    {
     "name": "stdout",
     "output_type": "stream",
     "text": [
      "<scipy.stats._distn_infrastructure.rv_frozen object at 0x7fcf9595b450>\n",
      "Нулевая гипотеза H₀: конверсии группы 246 и группы 248 по событию MainScreenAppear равны.\n",
      "Альтернативная гипотеза H₁: конверсии группы 246 и группы 248 по событию MainScreenAppear различаются.\n",
      "p-значение:  0.34\n",
      "Не получилось отвергнуть нулевую гипотезу, нет оснований считать конверсии разными\n",
      "---------------------------------------------------------------------------------------------------------------\n",
      "<scipy.stats._distn_infrastructure.rv_frozen object at 0x7fcf959bfb90>\n",
      "Нулевая гипотеза H₀: конверсии группы 246 и группы 248 по событию OffersScreenAppear равны.\n",
      "Альтернативная гипотеза H₁: конверсии группы 246 и группы 248 по событию OffersScreenAppear различаются.\n",
      "p-значение:  0.21\n",
      "Не получилось отвергнуть нулевую гипотезу, нет оснований считать конверсии разными\n",
      "---------------------------------------------------------------------------------------------------------------\n",
      "<scipy.stats._distn_infrastructure.rv_frozen object at 0x7fcf959a4910>\n",
      "Нулевая гипотеза H₀: конверсии группы 246 и группы 248 по событию CartScreenAppear равны.\n",
      "Альтернативная гипотеза H₁: конверсии группы 246 и группы 248 по событию CartScreenAppear различаются.\n",
      "p-значение:  0.08\n",
      "Не получилось отвергнуть нулевую гипотезу, нет оснований считать конверсии разными\n",
      "---------------------------------------------------------------------------------------------------------------\n",
      "<scipy.stats._distn_infrastructure.rv_frozen object at 0x7fcf959bf6d0>\n",
      "Нулевая гипотеза H₀: конверсии группы 246 и группы 248 по событию PaymentScreenSuccessful равны.\n",
      "Альтернативная гипотеза H₁: конверсии группы 246 и группы 248 по событию PaymentScreenSuccessful различаются.\n",
      "p-значение:  0.22\n",
      "Не получилось отвергнуть нулевую гипотезу, нет оснований считать конверсии разными\n",
      "---------------------------------------------------------------------------------------------------------------\n"
     ]
    }
   ],
   "source": [
    "z_test(246, 248, pivot, 0.01)"
   ]
  },
  {
   "cell_type": "markdown",
   "metadata": {},
   "source": [
    "**Вывод**  \n",
    "При 1% уровне значимости нет оснований считать конверсии групп 246 и 248 разными ни по одному из событий."
   ]
  },
  {
   "cell_type": "markdown",
   "metadata": {},
   "source": [
    "#### Гипотеза 3: существует статистическая значимость различий в конверсии событий между контрольной группой 247 и экспериментальной группой 248 (уровень стат. значимости 1%)"
   ]
  },
  {
   "cell_type": "code",
   "execution_count": 46,
   "metadata": {},
   "outputs": [
    {
     "name": "stdout",
     "output_type": "stream",
     "text": [
      "<scipy.stats._distn_infrastructure.rv_frozen object at 0x7fcf9595b590>\n",
      "Нулевая гипотеза H₀: конверсии группы 247 и группы 248 по событию MainScreenAppear равны.\n",
      "Альтернативная гипотеза H₁: конверсии группы 247 и группы 248 по событию MainScreenAppear различаются.\n",
      "p-значение:  0.52\n",
      "Не получилось отвергнуть нулевую гипотезу, нет оснований считать конверсии разными\n",
      "---------------------------------------------------------------------------------------------------------------\n",
      "<scipy.stats._distn_infrastructure.rv_frozen object at 0x7fcf959531d0>\n",
      "Нулевая гипотеза H₀: конверсии группы 247 и группы 248 по событию OffersScreenAppear равны.\n",
      "Альтернативная гипотеза H₁: конверсии группы 247 и группы 248 по событию OffersScreenAppear различаются.\n",
      "p-значение:  0.93\n",
      "Не получилось отвергнуть нулевую гипотезу, нет оснований считать конверсии разными\n",
      "---------------------------------------------------------------------------------------------------------------\n",
      "<scipy.stats._distn_infrastructure.rv_frozen object at 0x7fcf95a9ead0>\n",
      "Нулевая гипотеза H₀: конверсии группы 247 и группы 248 по событию CartScreenAppear равны.\n",
      "Альтернативная гипотеза H₁: конверсии группы 247 и группы 248 по событию CartScreenAppear различаются.\n",
      "p-значение:  0.59\n",
      "Не получилось отвергнуть нулевую гипотезу, нет оснований считать конверсии разными\n",
      "---------------------------------------------------------------------------------------------------------------\n",
      "<scipy.stats._distn_infrastructure.rv_frozen object at 0x7fcf959b5790>\n",
      "Нулевая гипотеза H₀: конверсии группы 247 и группы 248 по событию PaymentScreenSuccessful равны.\n",
      "Альтернативная гипотеза H₁: конверсии группы 247 и группы 248 по событию PaymentScreenSuccessful различаются.\n",
      "p-значение:  0.73\n",
      "Не получилось отвергнуть нулевую гипотезу, нет оснований считать конверсии разными\n",
      "---------------------------------------------------------------------------------------------------------------\n"
     ]
    }
   ],
   "source": [
    "z_test(247, 248, pivot, 0.01)"
   ]
  },
  {
   "cell_type": "markdown",
   "metadata": {},
   "source": [
    "**Вывод**  \n",
    "При 1% уровне значимости нет оснований считать конверсии групп 247 и 248 разными ни по одному из событий."
   ]
  },
  {
   "cell_type": "markdown",
   "metadata": {},
   "source": [
    "#### Гипотеза 4: существует статистическая значимость различий в конверсии событий между объединенными контрольными группами 246 и 247 и экспериментальной группой 248 (уровень стат. значимости 1%)"
   ]
  },
  {
   "cell_type": "code",
   "execution_count": 47,
   "metadata": {},
   "outputs": [
    {
     "name": "stdout",
     "output_type": "stream",
     "text": [
      "<scipy.stats._distn_infrastructure.rv_frozen object at 0x7fcf95953a90>\n",
      "Нулевая гипотеза H₀: конверсии группы 246&247 и группы 248 по событию MainScreenAppear равны.\n",
      "Альтернативная гипотеза H₁: конверсии группы 246&247 и группы 248 по событию MainScreenAppear различаются.\n",
      "p-значение:  0.35\n",
      "Не получилось отвергнуть нулевую гипотезу, нет оснований считать конверсии разными\n",
      "---------------------------------------------------------------------------------------------------------------\n",
      "<scipy.stats._distn_infrastructure.rv_frozen object at 0x7fcf959a45d0>\n",
      "Нулевая гипотеза H₀: конверсии группы 246&247 и группы 248 по событию OffersScreenAppear равны.\n",
      "Альтернативная гипотеза H₁: конверсии группы 246&247 и группы 248 по событию OffersScreenAppear различаются.\n",
      "p-значение:  0.45\n",
      "Не получилось отвергнуть нулевую гипотезу, нет оснований считать конверсии разными\n",
      "---------------------------------------------------------------------------------------------------------------\n",
      "<scipy.stats._distn_infrastructure.rv_frozen object at 0x7fcf9595bf10>\n",
      "Нулевая гипотеза H₀: конверсии группы 246&247 и группы 248 по событию CartScreenAppear равны.\n",
      "Альтернативная гипотеза H₁: конверсии группы 246&247 и группы 248 по событию CartScreenAppear различаются.\n",
      "p-значение:  0.19\n",
      "Не получилось отвергнуть нулевую гипотезу, нет оснований считать конверсии разными\n",
      "---------------------------------------------------------------------------------------------------------------\n",
      "<scipy.stats._distn_infrastructure.rv_frozen object at 0x7fcf9595b0d0>\n",
      "Нулевая гипотеза H₀: конверсии группы 246&247 и группы 248 по событию PaymentScreenSuccessful равны.\n",
      "Альтернативная гипотеза H₁: конверсии группы 246&247 и группы 248 по событию PaymentScreenSuccessful различаются.\n",
      "p-значение:  0.61\n",
      "Не получилось отвергнуть нулевую гипотезу, нет оснований считать конверсии разными\n",
      "---------------------------------------------------------------------------------------------------------------\n"
     ]
    }
   ],
   "source": [
    "z_test('246&247', 248, pivot, 0.01)"
   ]
  },
  {
   "cell_type": "markdown",
   "metadata": {},
   "source": [
    "**Вывод**  \n",
    "При 1% уровне значимости нет оснований считать конверсии групп 246&247 и 248 разными ни по одному из событий."
   ]
  },
  {
   "cell_type": "markdown",
   "metadata": {},
   "source": [
    "Полученные результаты z-теста говорят нам о том, что при 1% уровне значимости изменение шрифта во всем приложении не оказало влияния на показатели конверсии, при этом значения p-value достаточно велики, чтобы не давать оснований отклонять нулевые гипотезы даже при повышении уровня значимости до 5%, и только при уровне значимости в 10% будут основания отвергнуть нулевую гипотезу по одному из 16 тестов: о том, что конверсии группы 246 и группы 248 по событию CartScreenAppear равны (p-value = 0.08).  \n",
    "Важно отметить, что увеличение уровня статистической значимости теста также увеличит и вероятность ошибки первого рода: т.е. вероятность ошибочно отклонить нулевую гипотезу, когда различий на самом деле нет, поэтому оснований для увеличения уровня значимости нет. Изменения результатов, полученные вследствие этого шага, скорее всего будут некорректными."
   ]
  },
  {
   "cell_type": "markdown",
   "metadata": {},
   "source": [
    "<a name=\"h6\"></a>\n",
    "### 6. Общий вывод и рекомендации"
   ]
  },
  {
   "cell_type": "markdown",
   "metadata": {},
   "source": [
    "В ходе исследования были получены результаты и предложены рекомендации ниже:\n",
    "- *Определена воронка событий и выявлены ее слабые места*   \n",
    "Наименьшая конверсия зафиксирована от перехода с главной страницы на страницу с товарами. Необходимо провести дополнительные исследования, чтобы убедиться, что интерфейс приложения дружественный и пользователи легко могут найти нужную информацию. Анализ логов позволит исключить или подтвердить наличие возможных технических сбоев/ошибок, которые негативно влияют на конверсию приложения.\n",
    "- *Изучены результаты А/А/В-эксперимента по внесению изменений в приложение*  \n",
    "Результаты теста не выявили значимых различий между конверсиями до и после изменения шрифта во всем приложении. Возможно, решение проблемы низкой конверсии кроется не в визуальной составляющей приложения, а в его технической части."
   ]
  }
 ],
 "metadata": {
  "kernelspec": {
   "display_name": "Python 3",
   "language": "python",
   "name": "python3"
  },
  "language_info": {
   "codemirror_mode": {
    "name": "ipython",
    "version": 3
   },
   "file_extension": ".py",
   "mimetype": "text/x-python",
   "name": "python",
   "nbconvert_exporter": "python",
   "pygments_lexer": "ipython3",
   "version": "3.8.3"
  },
  "toc": {
   "base_numbering": 1,
   "nav_menu": {},
   "number_sections": true,
   "sideBar": true,
   "skip_h1_title": true,
   "title_cell": "Table of Contents",
   "title_sidebar": "Contents",
   "toc_cell": false,
   "toc_position": {},
   "toc_section_display": true,
   "toc_window_display": false
  }
 },
 "nbformat": 4,
 "nbformat_minor": 2
}
