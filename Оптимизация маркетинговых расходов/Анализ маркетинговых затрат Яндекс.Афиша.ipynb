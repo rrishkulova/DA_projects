{
 "cells": [
  {
   "cell_type": "markdown",
   "metadata": {},
   "source": [
    "# Оптимизация маркетинговых расходов Яндекс.Афиша"
   ]
  },
  {
   "cell_type": "markdown",
   "metadata": {},
   "source": [
    "Яндекс.Афиша — русскоязычный сервис по продаже билетов на развлекательные мероприятия: театры, концерты, кино, мюзиклы, шоу и другие события. Необходимо оптимизировать маркетинговые затраты, проанализировав данные от Яндекс.Афиши с июня 2017 по конец мая 2018 года:\n",
    "- лог сервера с данными о посещениях сайта Яндекс.Афиши,\n",
    "- выгрузка всех заказов за этот период,\n",
    "- статистика рекламных расходов.  \n",
    "\n",
    "В рамках исследования мы изучим как люди пользуются продуктом, когда они начинают покупать, сколько денег приносит каждый клиент и когда клиент окупается."
   ]
  },
  {
   "attachments": {},
   "cell_type": "markdown",
   "metadata": {},
   "source": [
    "**Этапы исследования:**\n",
    "\n",
    "1. Обзор данных\n",
    "2. Предварительная обработка данных\n",
    "3. Построение отчетов и расчет метрик\n",
    "    3.1. Анализ пользовательской активности\n",
    "    3.1. Анализ продаж\n",
    "    3.1. Анализ маркетинга\n",
    "4. Вывод и рекомендации"
   ]
  },
  {
   "cell_type": "markdown",
   "metadata": {},
   "source": [
    "<a name=\"h1\"></a>\n",
    "### 1. Обзор данных"
   ]
  },
  {
   "cell_type": "markdown",
   "metadata": {},
   "source": [
    "#### Импорт библиотек"
   ]
  },
  {
   "cell_type": "code",
   "execution_count": 1,
   "metadata": {},
   "outputs": [],
   "source": [
    "import pandas as pd\n",
    "\n",
    "import numpy as np\n",
    "\n",
    "import matplotlib.pyplot as plt\n",
    "import matplotlib.patches as patches\n",
    "import matplotlib.ticker as ticker\n",
    "\n",
    "import seaborn as sns"
   ]
  },
  {
   "cell_type": "markdown",
   "metadata": {},
   "source": [
    "#### Настройка"
   ]
  },
  {
   "cell_type": "code",
   "execution_count": 2,
   "metadata": {},
   "outputs": [],
   "source": [
    "#отключение предупреждений\n",
    "import warnings\n",
    "warnings.filterwarnings('ignore')\n",
    "\n",
    "#отображение данных до двух знаков после запятой\n",
    "pd.set_option('display.precision', 2)\n",
    "\n",
    "from IPython.core.interactiveshell import InteractiveShell\n",
    "InteractiveShell.ast_node_interactivity = \"all\""
   ]
  },
  {
   "cell_type": "markdown",
   "metadata": {},
   "source": [
    "#### Анализ файлов"
   ]
  },
  {
   "cell_type": "code",
   "execution_count": 3,
   "metadata": {},
   "outputs": [],
   "source": [
    "visits = pd.read_csv('visits_log.csv')\n",
    "orders = pd.read_csv('orders_log.csv')\n",
    "costs = pd.read_csv('costs.csv')"
   ]
  },
  {
   "cell_type": "markdown",
   "metadata": {},
   "source": [
    "##### Лог сервера с данными о посещениях сайта Яндекс.Афиши"
   ]
  },
  {
   "cell_type": "code",
   "execution_count": 4,
   "metadata": {},
   "outputs": [
    {
     "data": {
      "text/html": [
       "<div>\n",
       "<style scoped>\n",
       "    .dataframe tbody tr th:only-of-type {\n",
       "        vertical-align: middle;\n",
       "    }\n",
       "\n",
       "    .dataframe tbody tr th {\n",
       "        vertical-align: top;\n",
       "    }\n",
       "\n",
       "    .dataframe thead th {\n",
       "        text-align: right;\n",
       "    }\n",
       "</style>\n",
       "<table border=\"1\" class=\"dataframe\">\n",
       "  <thead>\n",
       "    <tr style=\"text-align: right;\">\n",
       "      <th></th>\n",
       "      <th>Device</th>\n",
       "      <th>End Ts</th>\n",
       "      <th>Source Id</th>\n",
       "      <th>Start Ts</th>\n",
       "      <th>Uid</th>\n",
       "    </tr>\n",
       "  </thead>\n",
       "  <tbody>\n",
       "    <tr>\n",
       "      <th>0</th>\n",
       "      <td>touch</td>\n",
       "      <td>2017-12-20 17:38:00</td>\n",
       "      <td>4</td>\n",
       "      <td>2017-12-20 17:20:00</td>\n",
       "      <td>16879256277535980062</td>\n",
       "    </tr>\n",
       "    <tr>\n",
       "      <th>1</th>\n",
       "      <td>desktop</td>\n",
       "      <td>2018-02-19 17:21:00</td>\n",
       "      <td>2</td>\n",
       "      <td>2018-02-19 16:53:00</td>\n",
       "      <td>104060357244891740</td>\n",
       "    </tr>\n",
       "    <tr>\n",
       "      <th>2</th>\n",
       "      <td>touch</td>\n",
       "      <td>2017-07-01 01:54:00</td>\n",
       "      <td>5</td>\n",
       "      <td>2017-07-01 01:54:00</td>\n",
       "      <td>7459035603376831527</td>\n",
       "    </tr>\n",
       "    <tr>\n",
       "      <th>3</th>\n",
       "      <td>desktop</td>\n",
       "      <td>2018-05-20 11:23:00</td>\n",
       "      <td>9</td>\n",
       "      <td>2018-05-20 10:59:00</td>\n",
       "      <td>16174680259334210214</td>\n",
       "    </tr>\n",
       "    <tr>\n",
       "      <th>4</th>\n",
       "      <td>desktop</td>\n",
       "      <td>2017-12-27 14:06:00</td>\n",
       "      <td>3</td>\n",
       "      <td>2017-12-27 14:06:00</td>\n",
       "      <td>9969694820036681168</td>\n",
       "    </tr>\n",
       "  </tbody>\n",
       "</table>\n",
       "</div>"
      ],
      "text/plain": [
       "    Device               End Ts  Source Id             Start Ts  \\\n",
       "0    touch  2017-12-20 17:38:00          4  2017-12-20 17:20:00   \n",
       "1  desktop  2018-02-19 17:21:00          2  2018-02-19 16:53:00   \n",
       "2    touch  2017-07-01 01:54:00          5  2017-07-01 01:54:00   \n",
       "3  desktop  2018-05-20 11:23:00          9  2018-05-20 10:59:00   \n",
       "4  desktop  2017-12-27 14:06:00          3  2017-12-27 14:06:00   \n",
       "\n",
       "                    Uid  \n",
       "0  16879256277535980062  \n",
       "1    104060357244891740  \n",
       "2   7459035603376831527  \n",
       "3  16174680259334210214  \n",
       "4   9969694820036681168  "
      ]
     },
     "execution_count": 4,
     "metadata": {},
     "output_type": "execute_result"
    }
   ],
   "source": [
    "visits.head()"
   ]
  },
  {
   "cell_type": "code",
   "execution_count": 5,
   "metadata": {},
   "outputs": [
    {
     "name": "stdout",
     "output_type": "stream",
     "text": [
      "<class 'pandas.core.frame.DataFrame'>\n",
      "RangeIndex: 359400 entries, 0 to 359399\n",
      "Data columns (total 5 columns):\n",
      " #   Column     Non-Null Count   Dtype \n",
      "---  ------     --------------   ----- \n",
      " 0   Device     359400 non-null  object\n",
      " 1   End Ts     359400 non-null  object\n",
      " 2   Source Id  359400 non-null  int64 \n",
      " 3   Start Ts   359400 non-null  object\n",
      " 4   Uid        359400 non-null  uint64\n",
      "dtypes: int64(1), object(3), uint64(1)\n",
      "memory usage: 13.7+ MB\n"
     ]
    }
   ],
   "source": [
    "visits.info()"
   ]
  },
  {
   "cell_type": "markdown",
   "metadata": {},
   "source": [
    "##### Выгрузка заказов"
   ]
  },
  {
   "cell_type": "code",
   "execution_count": 6,
   "metadata": {},
   "outputs": [
    {
     "data": {
      "text/html": [
       "<div>\n",
       "<style scoped>\n",
       "    .dataframe tbody tr th:only-of-type {\n",
       "        vertical-align: middle;\n",
       "    }\n",
       "\n",
       "    .dataframe tbody tr th {\n",
       "        vertical-align: top;\n",
       "    }\n",
       "\n",
       "    .dataframe thead th {\n",
       "        text-align: right;\n",
       "    }\n",
       "</style>\n",
       "<table border=\"1\" class=\"dataframe\">\n",
       "  <thead>\n",
       "    <tr style=\"text-align: right;\">\n",
       "      <th></th>\n",
       "      <th>Buy Ts</th>\n",
       "      <th>Revenue</th>\n",
       "      <th>Uid</th>\n",
       "    </tr>\n",
       "  </thead>\n",
       "  <tbody>\n",
       "    <tr>\n",
       "      <th>0</th>\n",
       "      <td>2017-06-01 00:10:00</td>\n",
       "      <td>17.00</td>\n",
       "      <td>10329302124590727494</td>\n",
       "    </tr>\n",
       "    <tr>\n",
       "      <th>1</th>\n",
       "      <td>2017-06-01 00:25:00</td>\n",
       "      <td>0.55</td>\n",
       "      <td>11627257723692907447</td>\n",
       "    </tr>\n",
       "    <tr>\n",
       "      <th>2</th>\n",
       "      <td>2017-06-01 00:27:00</td>\n",
       "      <td>0.37</td>\n",
       "      <td>17903680561304213844</td>\n",
       "    </tr>\n",
       "    <tr>\n",
       "      <th>3</th>\n",
       "      <td>2017-06-01 00:29:00</td>\n",
       "      <td>0.55</td>\n",
       "      <td>16109239769442553005</td>\n",
       "    </tr>\n",
       "    <tr>\n",
       "      <th>4</th>\n",
       "      <td>2017-06-01 07:58:00</td>\n",
       "      <td>0.37</td>\n",
       "      <td>14200605875248379450</td>\n",
       "    </tr>\n",
       "  </tbody>\n",
       "</table>\n",
       "</div>"
      ],
      "text/plain": [
       "                Buy Ts  Revenue                   Uid\n",
       "0  2017-06-01 00:10:00    17.00  10329302124590727494\n",
       "1  2017-06-01 00:25:00     0.55  11627257723692907447\n",
       "2  2017-06-01 00:27:00     0.37  17903680561304213844\n",
       "3  2017-06-01 00:29:00     0.55  16109239769442553005\n",
       "4  2017-06-01 07:58:00     0.37  14200605875248379450"
      ]
     },
     "execution_count": 6,
     "metadata": {},
     "output_type": "execute_result"
    }
   ],
   "source": [
    "orders.head()"
   ]
  },
  {
   "cell_type": "code",
   "execution_count": 7,
   "metadata": {},
   "outputs": [
    {
     "name": "stdout",
     "output_type": "stream",
     "text": [
      "<class 'pandas.core.frame.DataFrame'>\n",
      "RangeIndex: 50415 entries, 0 to 50414\n",
      "Data columns (total 3 columns):\n",
      " #   Column   Non-Null Count  Dtype  \n",
      "---  ------   --------------  -----  \n",
      " 0   Buy Ts   50415 non-null  object \n",
      " 1   Revenue  50415 non-null  float64\n",
      " 2   Uid      50415 non-null  uint64 \n",
      "dtypes: float64(1), object(1), uint64(1)\n",
      "memory usage: 1.2+ MB\n"
     ]
    }
   ],
   "source": [
    "orders.info()"
   ]
  },
  {
   "cell_type": "markdown",
   "metadata": {},
   "source": [
    "##### Статистика рекламных расходов"
   ]
  },
  {
   "cell_type": "code",
   "execution_count": 8,
   "metadata": {},
   "outputs": [
    {
     "data": {
      "text/html": [
       "<div>\n",
       "<style scoped>\n",
       "    .dataframe tbody tr th:only-of-type {\n",
       "        vertical-align: middle;\n",
       "    }\n",
       "\n",
       "    .dataframe tbody tr th {\n",
       "        vertical-align: top;\n",
       "    }\n",
       "\n",
       "    .dataframe thead th {\n",
       "        text-align: right;\n",
       "    }\n",
       "</style>\n",
       "<table border=\"1\" class=\"dataframe\">\n",
       "  <thead>\n",
       "    <tr style=\"text-align: right;\">\n",
       "      <th></th>\n",
       "      <th>source_id</th>\n",
       "      <th>dt</th>\n",
       "      <th>costs</th>\n",
       "    </tr>\n",
       "  </thead>\n",
       "  <tbody>\n",
       "    <tr>\n",
       "      <th>0</th>\n",
       "      <td>1</td>\n",
       "      <td>2017-06-01</td>\n",
       "      <td>75.20</td>\n",
       "    </tr>\n",
       "    <tr>\n",
       "      <th>1</th>\n",
       "      <td>1</td>\n",
       "      <td>2017-06-02</td>\n",
       "      <td>62.25</td>\n",
       "    </tr>\n",
       "    <tr>\n",
       "      <th>2</th>\n",
       "      <td>1</td>\n",
       "      <td>2017-06-03</td>\n",
       "      <td>36.53</td>\n",
       "    </tr>\n",
       "    <tr>\n",
       "      <th>3</th>\n",
       "      <td>1</td>\n",
       "      <td>2017-06-04</td>\n",
       "      <td>55.00</td>\n",
       "    </tr>\n",
       "    <tr>\n",
       "      <th>4</th>\n",
       "      <td>1</td>\n",
       "      <td>2017-06-05</td>\n",
       "      <td>57.08</td>\n",
       "    </tr>\n",
       "  </tbody>\n",
       "</table>\n",
       "</div>"
      ],
      "text/plain": [
       "   source_id          dt  costs\n",
       "0          1  2017-06-01  75.20\n",
       "1          1  2017-06-02  62.25\n",
       "2          1  2017-06-03  36.53\n",
       "3          1  2017-06-04  55.00\n",
       "4          1  2017-06-05  57.08"
      ]
     },
     "execution_count": 8,
     "metadata": {},
     "output_type": "execute_result"
    }
   ],
   "source": [
    "costs.head()"
   ]
  },
  {
   "cell_type": "code",
   "execution_count": 9,
   "metadata": {},
   "outputs": [
    {
     "name": "stdout",
     "output_type": "stream",
     "text": [
      "<class 'pandas.core.frame.DataFrame'>\n",
      "RangeIndex: 2542 entries, 0 to 2541\n",
      "Data columns (total 3 columns):\n",
      " #   Column     Non-Null Count  Dtype  \n",
      "---  ------     --------------  -----  \n",
      " 0   source_id  2542 non-null   int64  \n",
      " 1   dt         2542 non-null   object \n",
      " 2   costs      2542 non-null   float64\n",
      "dtypes: float64(1), int64(1), object(1)\n",
      "memory usage: 59.7+ KB\n"
     ]
    }
   ],
   "source": [
    "costs.info()"
   ]
  },
  {
   "cell_type": "markdown",
   "metadata": {},
   "source": [
    "**Вывод**  \n",
    "Представлены данные о посещениях и заказах, совершенных на сайте Яндекс.Афиша с июня 2017 по конец мая 2018 года. За рассматриваемый период сайт посетили 359 400 раз, при этом было совершено 50 415 заказов, т.е. в среднем в день на сайт заходили почти 1 000 человек, при этом  примерно каждый 7 визит заканчивался покупкой. Для дальнейшего анализа нам необходимо подготовить данные:  \n",
    "\n",
    "1. преобразовать названия столбцов (привести к нижнему регистру и избавиться от пробелов);\n",
    "2. изменить тип данных в датах."
   ]
  },
  {
   "cell_type": "markdown",
   "metadata": {},
   "source": [
    "<a name=\"h2\"></a>\n",
    "### 2. Предварительная обработка данных"
   ]
  },
  {
   "cell_type": "markdown",
   "metadata": {},
   "source": [
    "#### Преобразование названий столбцов"
   ]
  },
  {
   "cell_type": "markdown",
   "metadata": {},
   "source": [
    "Чтобы переименовать столбцы воспользуемся атрибутом *columns*."
   ]
  },
  {
   "cell_type": "code",
   "execution_count": 10,
   "metadata": {},
   "outputs": [
    {
     "data": {
      "text/plain": [
       "Index(['Device', 'End Ts', 'Source Id', 'Start Ts', 'Uid'], dtype='object')"
      ]
     },
     "execution_count": 10,
     "metadata": {},
     "output_type": "execute_result"
    }
   ],
   "source": [
    "visits.columns"
   ]
  },
  {
   "cell_type": "code",
   "execution_count": 11,
   "metadata": {},
   "outputs": [
    {
     "data": {
      "text/plain": [
       "Index(['Buy Ts', 'Revenue', 'Uid'], dtype='object')"
      ]
     },
     "execution_count": 11,
     "metadata": {},
     "output_type": "execute_result"
    }
   ],
   "source": [
    "orders.columns"
   ]
  },
  {
   "cell_type": "code",
   "execution_count": 12,
   "metadata": {},
   "outputs": [],
   "source": [
    "visits.columns = ['device', 'end_ts', 'source_id', 'start_ts', 'uid']"
   ]
  },
  {
   "cell_type": "code",
   "execution_count": 13,
   "metadata": {},
   "outputs": [],
   "source": [
    "orders.columns = ['buy_ts', 'revenue', 'uid']"
   ]
  },
  {
   "cell_type": "markdown",
   "metadata": {},
   "source": [
    "#### Изменение типа данных"
   ]
  },
  {
   "cell_type": "markdown",
   "metadata": {},
   "source": [
    "Для правильного указания параметров функции для изменения типа данных еще раз выведем строки из таблиц."
   ]
  },
  {
   "cell_type": "code",
   "execution_count": 14,
   "metadata": {},
   "outputs": [
    {
     "data": {
      "text/html": [
       "<div>\n",
       "<style scoped>\n",
       "    .dataframe tbody tr th:only-of-type {\n",
       "        vertical-align: middle;\n",
       "    }\n",
       "\n",
       "    .dataframe tbody tr th {\n",
       "        vertical-align: top;\n",
       "    }\n",
       "\n",
       "    .dataframe thead th {\n",
       "        text-align: right;\n",
       "    }\n",
       "</style>\n",
       "<table border=\"1\" class=\"dataframe\">\n",
       "  <thead>\n",
       "    <tr style=\"text-align: right;\">\n",
       "      <th></th>\n",
       "      <th>device</th>\n",
       "      <th>end_ts</th>\n",
       "      <th>source_id</th>\n",
       "      <th>start_ts</th>\n",
       "      <th>uid</th>\n",
       "    </tr>\n",
       "  </thead>\n",
       "  <tbody>\n",
       "    <tr>\n",
       "      <th>46113</th>\n",
       "      <td>desktop</td>\n",
       "      <td>2017-12-28 13:07:00</td>\n",
       "      <td>4</td>\n",
       "      <td>2017-12-28 13:05:00</td>\n",
       "      <td>7236094862565539187</td>\n",
       "    </tr>\n",
       "  </tbody>\n",
       "</table>\n",
       "</div>"
      ],
      "text/plain": [
       "        device               end_ts  source_id             start_ts  \\\n",
       "46113  desktop  2017-12-28 13:07:00          4  2017-12-28 13:05:00   \n",
       "\n",
       "                       uid  \n",
       "46113  7236094862565539187  "
      ]
     },
     "execution_count": 14,
     "metadata": {},
     "output_type": "execute_result"
    },
    {
     "data": {
      "text/html": [
       "<div>\n",
       "<style scoped>\n",
       "    .dataframe tbody tr th:only-of-type {\n",
       "        vertical-align: middle;\n",
       "    }\n",
       "\n",
       "    .dataframe tbody tr th {\n",
       "        vertical-align: top;\n",
       "    }\n",
       "\n",
       "    .dataframe thead th {\n",
       "        text-align: right;\n",
       "    }\n",
       "</style>\n",
       "<table border=\"1\" class=\"dataframe\">\n",
       "  <thead>\n",
       "    <tr style=\"text-align: right;\">\n",
       "      <th></th>\n",
       "      <th>buy_ts</th>\n",
       "      <th>revenue</th>\n",
       "      <th>uid</th>\n",
       "    </tr>\n",
       "  </thead>\n",
       "  <tbody>\n",
       "    <tr>\n",
       "      <th>19600</th>\n",
       "      <td>2017-11-24 18:32:00</td>\n",
       "      <td>4.03</td>\n",
       "      <td>1077804651417205618</td>\n",
       "    </tr>\n",
       "  </tbody>\n",
       "</table>\n",
       "</div>"
      ],
      "text/plain": [
       "                    buy_ts  revenue                  uid\n",
       "19600  2017-11-24 18:32:00     4.03  1077804651417205618"
      ]
     },
     "execution_count": 14,
     "metadata": {},
     "output_type": "execute_result"
    },
    {
     "data": {
      "text/html": [
       "<div>\n",
       "<style scoped>\n",
       "    .dataframe tbody tr th:only-of-type {\n",
       "        vertical-align: middle;\n",
       "    }\n",
       "\n",
       "    .dataframe tbody tr th {\n",
       "        vertical-align: top;\n",
       "    }\n",
       "\n",
       "    .dataframe thead th {\n",
       "        text-align: right;\n",
       "    }\n",
       "</style>\n",
       "<table border=\"1\" class=\"dataframe\">\n",
       "  <thead>\n",
       "    <tr style=\"text-align: right;\">\n",
       "      <th></th>\n",
       "      <th>source_id</th>\n",
       "      <th>dt</th>\n",
       "      <th>costs</th>\n",
       "    </tr>\n",
       "  </thead>\n",
       "  <tbody>\n",
       "    <tr>\n",
       "      <th>1292</th>\n",
       "      <td>4</td>\n",
       "      <td>2017-12-21</td>\n",
       "      <td>219.21</td>\n",
       "    </tr>\n",
       "  </tbody>\n",
       "</table>\n",
       "</div>"
      ],
      "text/plain": [
       "      source_id          dt   costs\n",
       "1292          4  2017-12-21  219.21"
      ]
     },
     "execution_count": 14,
     "metadata": {},
     "output_type": "execute_result"
    }
   ],
   "source": [
    "visits.sample(1)\n",
    "orders.sample(1)\n",
    "costs.sample(1)"
   ]
  },
  {
   "cell_type": "markdown",
   "metadata": {},
   "source": [
    "Воспользуемся *pd.to_datetime* для изменения формата дат."
   ]
  },
  {
   "cell_type": "code",
   "execution_count": 15,
   "metadata": {},
   "outputs": [],
   "source": [
    "visits['end_ts'] = pd.to_datetime(visits['end_ts'], format=\"%Y-%m-%d %H:%M:%S\")"
   ]
  },
  {
   "cell_type": "code",
   "execution_count": 16,
   "metadata": {},
   "outputs": [],
   "source": [
    "visits['start_ts'] = pd.to_datetime(visits['start_ts'], format=\"%Y-%m-%d %H:%M:%S\")"
   ]
  },
  {
   "cell_type": "code",
   "execution_count": 17,
   "metadata": {},
   "outputs": [],
   "source": [
    "orders['buy_ts'] = pd.to_datetime(orders['buy_ts'], format=\"%Y-%m-%d %H:%M:%S\")"
   ]
  },
  {
   "cell_type": "code",
   "execution_count": 18,
   "metadata": {},
   "outputs": [],
   "source": [
    "costs['dt'] = pd.to_datetime(costs['dt'], format=\"%Y-%m-%d\")"
   ]
  },
  {
   "cell_type": "markdown",
   "metadata": {},
   "source": [
    "Проверим результат с помощью *dtypes*."
   ]
  },
  {
   "cell_type": "code",
   "execution_count": 19,
   "metadata": {},
   "outputs": [
    {
     "data": {
      "text/plain": [
       "device               object\n",
       "end_ts       datetime64[ns]\n",
       "source_id             int64\n",
       "start_ts     datetime64[ns]\n",
       "uid                  uint64\n",
       "dtype: object"
      ]
     },
     "execution_count": 19,
     "metadata": {},
     "output_type": "execute_result"
    }
   ],
   "source": [
    "visits.dtypes"
   ]
  },
  {
   "cell_type": "code",
   "execution_count": 20,
   "metadata": {},
   "outputs": [
    {
     "data": {
      "text/plain": [
       "buy_ts     datetime64[ns]\n",
       "revenue           float64\n",
       "uid                uint64\n",
       "dtype: object"
      ]
     },
     "execution_count": 20,
     "metadata": {},
     "output_type": "execute_result"
    }
   ],
   "source": [
    "orders.dtypes"
   ]
  },
  {
   "cell_type": "code",
   "execution_count": 21,
   "metadata": {},
   "outputs": [
    {
     "data": {
      "text/plain": [
       "source_id             int64\n",
       "dt           datetime64[ns]\n",
       "costs               float64\n",
       "dtype: object"
      ]
     },
     "execution_count": 21,
     "metadata": {},
     "output_type": "execute_result"
    }
   ],
   "source": [
    "costs.dtypes"
   ]
  },
  {
   "cell_type": "markdown",
   "metadata": {},
   "source": [
    "Типы данных и названия столбцов корректны. Можно приступать к анализу."
   ]
  },
  {
   "cell_type": "markdown",
   "metadata": {},
   "source": [
    "<a name=\"h3\"></a>\n",
    "### 3. Построение отчетов и расчет метрик"
   ]
  },
  {
   "cell_type": "markdown",
   "metadata": {},
   "source": [
    "<a name=\"h3.1\"></a>\n",
    "#### 3.1 Анализ пользовательской активности"
   ]
  },
  {
   "cell_type": "markdown",
   "metadata": {},
   "source": [
    "Необходимо ответить на следующие вопросы:  \n",
    "- [Сколько людей пользуются в день, неделю, месяц?](#h3.1.1)\n",
    "- [Сколько сессий в день?](#h3.1.2)\n",
    "- [Сколько длится одна сессия?](#h3.1.3)\n",
    "- [Как часто люди возвращаются?](#h3.1.4)"
   ]
  },
  {
   "cell_type": "markdown",
   "metadata": {},
   "source": [
    "<a name=\"h3.1.1\"></a>\n",
    "###### Активность пользователей"
   ]
  },
  {
   "cell_type": "markdown",
   "metadata": {},
   "source": [
    "Для анализа пользовательской активности выделим в отдельные столбцы полную дату, неделю, месяц и год визита. Также добавим столбец с продолжительностью каждой сессии."
   ]
  },
  {
   "cell_type": "code",
   "execution_count": 22,
   "metadata": {},
   "outputs": [],
   "source": [
    "visits['session_date'] = visits['start_ts'].dt.date"
   ]
  },
  {
   "cell_type": "code",
   "execution_count": 23,
   "metadata": {},
   "outputs": [],
   "source": [
    "visits['session_week'] = visits['start_ts'].dt.week"
   ]
  },
  {
   "cell_type": "code",
   "execution_count": 24,
   "metadata": {},
   "outputs": [],
   "source": [
    "visits['session_month'] = visits['start_ts'].dt.month"
   ]
  },
  {
   "cell_type": "code",
   "execution_count": 25,
   "metadata": {},
   "outputs": [],
   "source": [
    "visits['session_year'] = visits['start_ts'].dt.year"
   ]
  },
  {
   "cell_type": "code",
   "execution_count": 26,
   "metadata": {},
   "outputs": [],
   "source": [
    "visits['session_duration'] = (visits['end_ts'] - visits['start_ts']).dt.total_seconds()"
   ]
  },
  {
   "cell_type": "markdown",
   "metadata": {},
   "source": [
    "Сгруппируем данные по периодам и подсчитаем количество уникальных пользователей."
   ]
  },
  {
   "cell_type": "code",
   "execution_count": 27,
   "metadata": {},
   "outputs": [],
   "source": [
    "dau = visits.groupby('session_date').agg({'uid': 'nunique'})"
   ]
  },
  {
   "cell_type": "code",
   "execution_count": 28,
   "metadata": {},
   "outputs": [],
   "source": [
    "wau = visits.groupby(['session_year', 'session_week']).agg({'uid': 'nunique'})"
   ]
  },
  {
   "cell_type": "code",
   "execution_count": 29,
   "metadata": {},
   "outputs": [],
   "source": [
    "mau = visits.groupby(['session_year', 'session_month']).agg({'uid': 'nunique'})"
   ]
  },
  {
   "cell_type": "code",
   "execution_count": 30,
   "metadata": {},
   "outputs": [
    {
     "name": "stdout",
     "output_type": "stream",
     "text": [
      "Количество уникальных пользователей в день: 907\n",
      "Количество уникальных пользователей в неделю: 5716\n",
      "Количество уникальных пользователей в месяц: 23228\n"
     ]
    }
   ],
   "source": [
    "print('Количество уникальных пользователей в день:', int(dau.mean()))\n",
    "print('Количество уникальных пользователей в неделю:', int(wau.mean()))\n",
    "print('Количество уникальных пользователей в месяц:', int(mau.mean()))"
   ]
  },
  {
   "cell_type": "markdown",
   "metadata": {},
   "source": [
    "<a name=\"h3.1.2\"></a>\n",
    "###### Количество сессий в день"
   ]
  },
  {
   "cell_type": "code",
   "execution_count": 31,
   "metadata": {},
   "outputs": [
    {
     "name": "stdout",
     "output_type": "stream",
     "text": [
      "Количество сессий в день: 987\n"
     ]
    }
   ],
   "source": [
    "print('Количество сессий в день:', int(visits.groupby('session_date').agg({'uid': 'count'}).mean()))"
   ]
  },
  {
   "cell_type": "markdown",
   "metadata": {},
   "source": [
    "Почти 1 000 раз в день пользователи заходят на сайт Яндекс.Афиша. Рассмотрим с каких устройств посетители чаще заходят на сайт и какой рекламный источник работает эффективнее."
   ]
  },
  {
   "cell_type": "code",
   "execution_count": 32,
   "metadata": {},
   "outputs": [
    {
     "data": {
      "image/png": "[encoded data removed]",
      "text/plain": [
       "<Figure size 432x360 with 1 Axes>"
      ]
     },
     "metadata": {},
     "output_type": "display_data"
    }
   ],
   "source": [
    "#с помощью круговой диаграммы проиллюстрируем распределение сессий по категориям устройств\n",
    "report = visits.groupby('device').agg({'uid': 'count'}).reset_index()\n",
    "fig, ax = plt.subplots(figsize=(6, 5), subplot_kw=dict(aspect=\"equal\"))\n",
    "ax.pie(report['uid'], labels=report['device'], autopct='%1.f%%', textprops=dict(color=\"w\"),\n",
    "       pctdistance=0.6, colors=['green', 'lightgreen'])\n",
    "\n",
    "#оформление\n",
    "ax.set_title(\"Распределение сессий по категориям устройств\", fontsize=13, pad = 14)\n",
    "ax.legend(title=\"device\", loc=\"upper right\", frameon=False)\n",
    "plt.rcParams['font.size'] = 12\n",
    "ax.axis(\"equal\");"
   ]
  },
  {
   "cell_type": "code",
   "execution_count": 33,
   "metadata": {},
   "outputs": [
    {
     "data": {
      "text/html": [
       "<div>\n",
       "<style scoped>\n",
       "    .dataframe tbody tr th:only-of-type {\n",
       "        vertical-align: middle;\n",
       "    }\n",
       "\n",
       "    .dataframe tbody tr th {\n",
       "        vertical-align: top;\n",
       "    }\n",
       "\n",
       "    .dataframe thead th {\n",
       "        text-align: right;\n",
       "    }\n",
       "</style>\n",
       "<table border=\"1\" class=\"dataframe\">\n",
       "  <thead>\n",
       "    <tr style=\"text-align: right;\">\n",
       "      <th></th>\n",
       "      <th>device</th>\n",
       "      <th>uid</th>\n",
       "    </tr>\n",
       "  </thead>\n",
       "  <tbody>\n",
       "    <tr>\n",
       "      <th>0</th>\n",
       "      <td>desktop</td>\n",
       "      <td>262567</td>\n",
       "    </tr>\n",
       "    <tr>\n",
       "      <th>1</th>\n",
       "      <td>touch</td>\n",
       "      <td>96833</td>\n",
       "    </tr>\n",
       "  </tbody>\n",
       "</table>\n",
       "</div>"
      ],
      "text/plain": [
       "    device     uid\n",
       "0  desktop  262567\n",
       "1    touch   96833"
      ]
     },
     "execution_count": 33,
     "metadata": {},
     "output_type": "execute_result"
    }
   ],
   "source": [
    "report"
   ]
  },
  {
   "cell_type": "markdown",
   "metadata": {},
   "source": [
    "Пропишем функцию для создания столбчатых графиков"
   ]
  },
  {
   "cell_type": "code",
   "execution_count": 34,
   "metadata": {},
   "outputs": [],
   "source": [
    "def sns_barplot(data, x, y):\n",
    "    plt.figure(figsize=(16,6))\n",
    "    ax = sns.barplot(x=x, y=y, data=data, palette=sns.color_palette(\"GnBu\", 13))\n",
    "    ax.grid(b=True, which='major', color='#d3d3d3', linewidth=1.0)\n",
    "\n",
    "    for p in ax.patches:\n",
    "        height = p.get_height()\n",
    "        if np.isnan(height):\n",
    "            height = 0\n",
    "        ax.text(p.get_x() + p.get_width()/2., height, '%d' % int(height), \n",
    "            fontsize=11, ha='center', va='bottom')"
   ]
  },
  {
   "cell_type": "markdown",
   "metadata": {},
   "source": [
    "Сгруппируем данные таблицы `visits` по рекламным источникам и отобразим информацию на графике"
   ]
  },
  {
   "cell_type": "code",
   "execution_count": 35,
   "metadata": {},
   "outputs": [],
   "source": [
    "visits_by_source_id = visits.groupby('source_id')['uid'].count().reset_index()"
   ]
  },
  {
   "cell_type": "code",
   "execution_count": 36,
   "metadata": {},
   "outputs": [
    {
     "data": {
      "image/png": "[encoded data removed]",
      "text/plain": [
       "<Figure size 1152x432 with 1 Axes>"
      ]
     },
     "metadata": {
      "needs_background": "light"
     },
     "output_type": "display_data"
    }
   ],
   "source": [
    "sns_barplot(visits_by_source_id, 'source_id', 'uid')\n",
    "\n",
    "plt.title(\"Количество сессий по каждому рекламному источнику\", fontsize = 15)\n",
    "plt.xlabel(\"Рекламный источник\", fontsize = 12, fontweight=500)\n",
    "plt.ylabel('Количество сессий', fontsize = 12, fontweight=500);"
   ]
  },
  {
   "cell_type": "markdown",
   "metadata": {},
   "source": [
    "Больше всего посетителей было привлечено рекламными источниками №4 и 3."
   ]
  },
  {
   "cell_type": "markdown",
   "metadata": {},
   "source": [
    "<a name=\"h3.1.3\"></a>\n",
    "###### Продолжительность сессий"
   ]
  },
  {
   "cell_type": "markdown",
   "metadata": {},
   "source": [
    "Прежде чем анализировать продолжительность сессий, исключим из выборки посещения продолжительностью 0 секунд, поскольку по факту пользователь не взаимодействовал с сайтом."
   ]
  },
  {
   "cell_type": "code",
   "execution_count": 37,
   "metadata": {},
   "outputs": [],
   "source": [
    "visits_with_duration = visits[visits['session_duration'] != 0]"
   ]
  },
  {
   "cell_type": "code",
   "execution_count": 38,
   "metadata": {},
   "outputs": [],
   "source": [
    "#разделим датафрейм по категориям устройств\n",
    "desktop_visits = visits_with_duration[visits_with_duration['device'] == 'desktop']\n",
    "touch_visits = visits_with_duration[visits_with_duration['device'] == 'touch']"
   ]
  },
  {
   "cell_type": "code",
   "execution_count": 39,
   "metadata": {},
   "outputs": [
    {
     "data": {
      "image/png": "[encoded data removed]",
      "text/plain": [
       "<Figure size 864x360 with 1 Axes>"
      ]
     },
     "metadata": {
      "needs_background": "light"
     },
     "output_type": "display_data"
    }
   ],
   "source": [
    "#построим гистограммы в разрезе устройств\n",
    "fig, ax = plt.subplots(figsize=(12,5))\n",
    "sns.distplot(touch_visits['session_duration'], hist = True, kde = False, rug = False,\n",
    "             label=\"Touch\", color = 'blue', rug_kws={'color': 'red'})\n",
    "\n",
    "sns.distplot(desktop_visits['session_duration'], hist = True, kde = False, rug = False,\n",
    "             label=\"Desktop\", color = 'green', rug_kws={'color': 'green'})\n",
    "\n",
    "plt.title('Гистограмма плотности продолжительности сессий')\n",
    "plt.xlabel('Продолжительность сессий, сек.')\n",
    "plt.ylabel('Количество сессий')\n",
    "plt.legend();"
   ]
  },
  {
   "cell_type": "markdown",
   "metadata": {},
   "source": [
    "Гистограммы смещены влево, поэтому для расчета метрики **ASL** лучше использовать моду, а не среднее значение."
   ]
  },
  {
   "cell_type": "code",
   "execution_count": 40,
   "metadata": {},
   "outputs": [
    {
     "name": "stdout",
     "output_type": "stream",
     "text": [
      "Средняя продолжительность сессии: 60 сек.\n",
      "Средняя продолжительность сессии на устройствах touch: 60 сек.\n",
      "Средняя продолжительность сессии на устройствах desktop: 60 сек.\n"
     ]
    }
   ],
   "source": [
    "print('Средняя продолжительность сессии:', int(visits_with_duration['session_duration'].mode()), 'сек.')\n",
    "print('Средняя продолжительность сессии на устройствах touch:', int(touch_visits['session_duration'].mode()),'сек.')\n",
    "print('Средняя продолжительность сессии на устройствах desktop:', int(desktop_visits['session_duration'].mode()),'сек.')"
   ]
  },
  {
   "cell_type": "markdown",
   "metadata": {},
   "source": [
    "Обычно пользователю достаточно 1 мин., чтобы найти необходимую информацию на сайте, при этом не имеет значения какое устройство он использует для этого."
   ]
  },
  {
   "cell_type": "markdown",
   "metadata": {},
   "source": [
    "<a name=\"h3.1.4\"></a>\n",
    "###### Стабильность пользовательской базы"
   ]
  },
  {
   "cell_type": "code",
   "execution_count": 41,
   "metadata": {},
   "outputs": [],
   "source": [
    "sticky_wau = dau.mean() / wau.mean() * 100\n",
    "sticky_mau = dau.mean() / mau.mean() * 100"
   ]
  },
  {
   "cell_type": "code",
   "execution_count": 42,
   "metadata": {},
   "outputs": [
    {
     "name": "stdout",
     "output_type": "stream",
     "text": [
      "Доля уникальных пользователей в день среди уникальных пользователей в неделю: 15 %\n",
      "Доля уникальных пользователей в день среди уникальных пользователей в месяц: 3 %\n"
     ]
    }
   ],
   "source": [
    "print('Доля уникальных пользователей в день среди уникальных пользователей в неделю:', int(sticky_wau), '%')\n",
    "print('Доля уникальных пользователей в день среди уникальных пользователей в месяц:', int(sticky_mau), '%')"
   ]
  },
  {
   "cell_type": "markdown",
   "metadata": {},
   "source": [
    "Рассчитаем коэффициент удержания - **Retention Rate в разрезе когорт**"
   ]
  },
  {
   "cell_type": "code",
   "execution_count": 43,
   "metadata": {},
   "outputs": [],
   "source": [
    "visits['session_month'] = visits['start_ts'].astype('datetime64[M]')"
   ]
  },
  {
   "cell_type": "code",
   "execution_count": 44,
   "metadata": {},
   "outputs": [],
   "source": [
    "#определим месяц, когда пользователи впервые совершали активность на сайте и добавим эту информацию в исходный файл\n",
    "first_activity_month = visits.groupby(['uid'])['session_month'].min()\n",
    "first_activity_month.name = 'first_activity_month'"
   ]
  },
  {
   "cell_type": "code",
   "execution_count": 45,
   "metadata": {},
   "outputs": [],
   "source": [
    "visits = visits.join(first_activity_month, on='uid')"
   ]
  },
  {
   "cell_type": "code",
   "execution_count": 46,
   "metadata": {},
   "outputs": [],
   "source": [
    "#рассчитаем возраст когорт в месяцах\n",
    "visits['cohort_lifetime'] = ((\n",
    "    visits['session_month'] - visits['first_activity_month']) / np.timedelta64(1, 'M')).round().astype('int')"
   ]
  },
  {
   "cell_type": "code",
   "execution_count": 47,
   "metadata": {},
   "outputs": [],
   "source": [
    "#сгруппируем данные по когорте и lifetime\n",
    "#посчитаем для каждой когорты количество активных пользователей на определенный «месяц жизни»\n",
    "cohorts_visits = visits.groupby(['first_activity_month','cohort_lifetime']).agg({'uid':'nunique'}).reset_index()"
   ]
  },
  {
   "cell_type": "code",
   "execution_count": 48,
   "metadata": {},
   "outputs": [],
   "source": [
    "#найдем исходное количество пользователей в когорте\n",
    "initial_users_count = cohorts_visits[cohorts_visits['cohort_lifetime'] == 0][['first_activity_month','uid']]"
   ]
  },
  {
   "cell_type": "code",
   "execution_count": 49,
   "metadata": {},
   "outputs": [],
   "source": [
    "#переименуем столбцы\n",
    "initial_users_count = initial_users_count.rename(columns={'uid':'cohort_users'})"
   ]
  },
  {
   "cell_type": "code",
   "execution_count": 50,
   "metadata": {},
   "outputs": [],
   "source": [
    "#добавим информацию о первом визите\n",
    "cohorts_visits = cohorts_visits.merge(initial_users_count,on='first_activity_month')"
   ]
  },
  {
   "cell_type": "code",
   "execution_count": 51,
   "metadata": {},
   "outputs": [],
   "source": [
    "#рассчитаем Retention Rate\n",
    "cohorts_visits['retention'] = cohorts_visits['uid']/cohorts_visits['cohort_users']"
   ]
  },
  {
   "cell_type": "code",
   "execution_count": 52,
   "metadata": {},
   "outputs": [],
   "source": [
    "#для корректного отражения даты заказа на графике, изменим тип данных в столбце first_activity_month\n",
    "cohorts_visits['first_activity_month'] = cohorts_visits['first_activity_month'].dt.strftime('%Y-%m')"
   ]
  },
  {
   "cell_type": "code",
   "execution_count": 53,
   "metadata": {},
   "outputs": [],
   "source": [
    "retention_pivot = cohorts_visits.pivot_table(index='first_activity_month',columns='cohort_lifetime',\n",
    "                                             values='retention',aggfunc='sum')"
   ]
  },
  {
   "cell_type": "code",
   "execution_count": 54,
   "metadata": {},
   "outputs": [
    {
     "data": {
      "image/png": "[encoded data removed]",
      "text/plain": [
       "<Figure size 1008x504 with 1 Axes>"
      ]
     },
     "metadata": {
      "needs_background": "light"
     },
     "output_type": "display_data"
    }
   ],
   "source": [
    "plt.figure(figsize=(14, 7))\n",
    "sns.heatmap(retention_pivot, annot=True, fmt='.1%', linewidths=0.2, linecolor='gray', cmap='BuGn', cbar=False)\n",
    "plt.title('Retention Rate в разрезе когорт')\n",
    "plt.xlabel('Возраст когорты, мес.', fontsize = 12, fontweight=500)\n",
    "plt.ylabel('Когорта', fontsize = 12, fontweight=500);"
   ]
  },
  {
   "cell_type": "markdown",
   "metadata": {},
   "source": [
    "**Retention Rate** очень низкий, что обусловлено спецификой предоставляемых услуг. Наиболее активные пользователи входят в июньскую когорту."
   ]
  },
  {
   "cell_type": "markdown",
   "metadata": {},
   "source": [
    "**Вывод**  \n",
    "В среднем в день Яндекс.Афиша посещают 907 уникальных пользователей. С учетом общего количества сессий в день (987) можно сделать вывод, что больше 90% посетителей ограничиваются однократным посещением сайта. Почти три четверти пользователей использовали устройства категории *desktop*, а основной приток посетителей обеспечили рекламные источники *№4* и *3*.  \n",
    "Как правило, пользователю достаточно 1 минуты, чтобы найти нужную информацию на сайте, при этом продолжительность сеанса не зависит от категории используемого устройства. В данном исследовании такая маленькая длительность визита не является негативным показателем, поскольку сервис нацелен на решение конкретных и простых задач, а посетители чаще всего заходят на сайт уже с пониманием того, какое именно мероприятие их интересует, что упрощает процесс и экономит время.   \n",
    "Значения показателей **retention rate, sticky wau** и **sticky mau** не очень высокие - один и тот же пользователь очень редко заходит на сайт повторно в течение недели или даже месяца. Однако, учитывая специфику сервиса, такой результат ожидаем, поскольку люди редко посещают развлекательные мероприятия чаще одного раза в месяц. "
   ]
  },
  {
   "cell_type": "markdown",
   "metadata": {},
   "source": [
    "<a name=\"h3.2\"></a>\n",
    "#### 3.2 Анализ продаж"
   ]
  },
  {
   "cell_type": "markdown",
   "metadata": {},
   "source": [
    "Необходимо ответить на следующие вопросы:  \n",
    "- [Когда люди начинают покупать?](#h3.2.1)\n",
    "- [Сколько раз покупают за период?](#h3.2.2)\n",
    "- [Какой средний чек?](#h3.2.3)\n",
    "- [Сколько денег приносят?](#h3.2.4)"
   ]
  },
  {
   "cell_type": "markdown",
   "metadata": {},
   "source": [
    "<a name=\"h3.2.1\"></a>\n",
    "###### Время, прошедшее с момента первого визита до первой покупки"
   ]
  },
  {
   "cell_type": "markdown",
   "metadata": {},
   "source": [
    "Добавим столбец с годом и месяцем даты продажи для помесячного анализа данных."
   ]
  },
  {
   "cell_type": "code",
   "execution_count": 55,
   "metadata": {},
   "outputs": [],
   "source": [
    "orders['purchase_month'] = orders['buy_ts'].dt.strftime('%Y-%m')"
   ]
  },
  {
   "cell_type": "markdown",
   "metadata": {},
   "source": [
    "Для того, чтобы определить сколько времени требуется пользователям, чтобы совершить первую покупку, необходимо выполнить несколько шагов:\n",
    "- на основании таблицы `visits` создать датафрейм с перечнем всех уникальных пользователей с указанием даты первого посещения, рекламного источника и категории устройства;\n",
    "- дополнить таблицу `orders` данными об уникальных пользователях и рассчитать для каждого время, необходимое для совершения первой покупки;\n",
    "- создать датафрейм со списком всех уникальных покупателей:\n",
    "- определить среднее время."
   ]
  },
  {
   "cell_type": "markdown",
   "metadata": {},
   "source": [
    "1. Создание таблицы `users` с данными по уникальным пользователям"
   ]
  },
  {
   "cell_type": "code",
   "execution_count": 56,
   "metadata": {},
   "outputs": [],
   "source": [
    "users = (visits.sort_values(by = ['uid', 'start_ts']).groupby('uid')\n",
    "               .agg({'start_ts' : 'first', 'source_id': 'first', 'device': 'first'})).reset_index()"
   ]
  },
  {
   "cell_type": "code",
   "execution_count": 57,
   "metadata": {},
   "outputs": [
    {
     "data": {
      "text/plain": [
       "228169"
      ]
     },
     "execution_count": 57,
     "metadata": {},
     "output_type": "execute_result"
    },
    {
     "data": {
      "text/plain": [
       "228169"
      ]
     },
     "execution_count": 57,
     "metadata": {},
     "output_type": "execute_result"
    }
   ],
   "source": [
    "#проверим, что число строк в датафрейме соответствует количеству уникальных пользователей в исходной таблице\n",
    "len(users)\n",
    "visits['uid'].nunique()"
   ]
  },
  {
   "cell_type": "markdown",
   "metadata": {},
   "source": [
    "2. Добавление в таблицу `orders` данных об уникальных пользователях и расчет времени, необходимого для совершения первой покупки"
   ]
  },
  {
   "cell_type": "code",
   "execution_count": 58,
   "metadata": {},
   "outputs": [],
   "source": [
    "orders_new = orders.merge(users, on='uid', how='left')"
   ]
  },
  {
   "cell_type": "code",
   "execution_count": 59,
   "metadata": {},
   "outputs": [
    {
     "name": "stdout",
     "output_type": "stream",
     "text": [
      "<class 'pandas.core.frame.DataFrame'>\n",
      "Int64Index: 50415 entries, 0 to 50414\n",
      "Data columns (total 7 columns):\n",
      " #   Column          Non-Null Count  Dtype         \n",
      "---  ------          --------------  -----         \n",
      " 0   buy_ts          50415 non-null  datetime64[ns]\n",
      " 1   revenue         50415 non-null  float64       \n",
      " 2   uid             50415 non-null  uint64        \n",
      " 3   purchase_month  50415 non-null  object        \n",
      " 4   start_ts        50415 non-null  datetime64[ns]\n",
      " 5   source_id       50415 non-null  int64         \n",
      " 6   device          50415 non-null  object        \n",
      "dtypes: datetime64[ns](2), float64(1), int64(1), object(2), uint64(1)\n",
      "memory usage: 3.1+ MB\n"
     ]
    }
   ],
   "source": [
    "#проверим, что пропущенные данные отсутствуют\n",
    "orders_new.info()"
   ]
  },
  {
   "cell_type": "code",
   "execution_count": 60,
   "metadata": {},
   "outputs": [],
   "source": [
    "#добавим столбец с указанием времени, которое прошло с момента первого посещения и до момента покупки (в сек.)\n",
    "orders_new['time_for_buy'] = (orders_new['buy_ts'] - orders_new['start_ts']).dt.total_seconds()"
   ]
  },
  {
   "cell_type": "markdown",
   "metadata": {},
   "source": [
    "3. Создание таблицы `buyers` с данными по уникальным покупателям"
   ]
  },
  {
   "cell_type": "code",
   "execution_count": 61,
   "metadata": {},
   "outputs": [],
   "source": [
    "#создадим на основе обновленной таблицы с заказами датафрейм с уникальными покупателями и их первой покупкой\n",
    "buyers = (orders_new.sort_values(by = ['uid', 'buy_ts']).groupby('uid')\n",
    "               .agg({'buy_ts':'first', 'time_for_buy':'first', 'source_id':'first', 'device':'first'})).reset_index()"
   ]
  },
  {
   "cell_type": "code",
   "execution_count": 62,
   "metadata": {},
   "outputs": [
    {
     "data": {
      "text/plain": [
       "36523"
      ]
     },
     "execution_count": 62,
     "metadata": {},
     "output_type": "execute_result"
    },
    {
     "data": {
      "text/plain": [
       "36523"
      ]
     },
     "execution_count": 62,
     "metadata": {},
     "output_type": "execute_result"
    }
   ],
   "source": [
    "#проверим, что число строк в датафрейме соответствует количеству уникальных покупателей в исходной таблице\n",
    "len(buyers)\n",
    "orders['uid'].nunique()"
   ]
  },
  {
   "cell_type": "markdown",
   "metadata": {},
   "source": [
    "4. Расчет среднего времени"
   ]
  },
  {
   "cell_type": "code",
   "execution_count": 63,
   "metadata": {},
   "outputs": [],
   "source": [
    "#разделим данные по видам устройств\n",
    "orders_new_desktop = orders_new[orders_new['device'] == 'desktop']\n",
    "orders_new_touch = orders_new[orders_new['device'] == 'touch']"
   ]
  },
  {
   "cell_type": "code",
   "execution_count": 64,
   "metadata": {},
   "outputs": [
    {
     "data": {
      "image/png": "[encoded data removed]",
      "text/plain": [
       "<Figure size 864x360 with 1 Axes>"
      ]
     },
     "metadata": {
      "needs_background": "light"
     },
     "output_type": "display_data"
    }
   ],
   "source": [
    "#построим гистограммы в разрезе устройств\n",
    "fig, ax = plt.subplots(figsize=(12,5))\n",
    "sns.distplot(orders_new_touch['time_for_buy'], hist = True, kde = False, rug = False,\n",
    "             label=\"Touch\", color = 'blue', rug_kws={'color': 'red'})\n",
    "\n",
    "sns.distplot(orders_new_desktop['time_for_buy'], hist = True, kde = False, rug = False,\n",
    "             label=\"Desktop\", color = 'green', rug_kws={'color': 'green'})\n",
    "\n",
    "plt.title('Гистограмма плотности времени, прошедшего с первого посещения до первой покупки')\n",
    "plt.xlabel('Время, прошедшее с первого посещения до первой покупки, сек.')\n",
    "plt.ylabel('Количество сессий')\n",
    "plt.legend();"
   ]
  },
  {
   "cell_type": "markdown",
   "metadata": {},
   "source": [
    "Гистограма смещена влево, при этом большая часть значений приближена к 0, поэтому для расчета метрики лучше использовать моду, а не среднее значение или медиану, поскольку первая гораздо лучше отразит типичное поведение пользователей."
   ]
  },
  {
   "cell_type": "code",
   "execution_count": 65,
   "metadata": {},
   "outputs": [
    {
     "name": "stdout",
     "output_type": "stream",
     "text": [
      "Среднее время между первым посещением сайта и первой покупкой: 60 сек.\n",
      "Среднее время между первым посещением сайта и первой покупкой на устройствах desktop: 60 сек.\n",
      "Среднее время между первым посещением сайта и первой покупкой на устройствах touch: 0 сек.\n"
     ]
    }
   ],
   "source": [
    "print('Среднее время между первым посещением сайта и первой покупкой:', int(orders_new['time_for_buy'].mode()),'сек.')\n",
    "print('Среднее время между первым посещением сайта и первой покупкой на устройствах desktop:', \n",
    "      int(orders_new_desktop['time_for_buy'].mode()),'сек.')\n",
    "print('Среднее время между первым посещением сайта и первой покупкой на устройствах touch:', \n",
    "      int(orders_new_touch['time_for_buy'].mode()),'сек.')"
   ]
  },
  {
   "cell_type": "markdown",
   "metadata": {},
   "source": [
    "Судя по всему пользователи устройств категории *touch* переходя на сайт сразу попадают на страницу покупки нужного билета, в то время как пользователи *desktop* еще некоторое время \"блуждают\" по странице. Возможно, дело в том, что интерфейс для устройств *touch* удобнее, что позволяет экономить время."
   ]
  },
  {
   "cell_type": "markdown",
   "metadata": {},
   "source": [
    "<a name=\"h3.2.2\"></a>\n",
    "###### Количество заказов"
   ]
  },
  {
   "cell_type": "code",
   "execution_count": 66,
   "metadata": {},
   "outputs": [
    {
     "name": "stdout",
     "output_type": "stream",
     "text": [
      "Количество заказов с июня 2017 по конец мая 2018 года: 50415\n"
     ]
    }
   ],
   "source": [
    "print('Количество заказов с июня 2017 по конец мая 2018 года:', len(orders))"
   ]
  },
  {
   "cell_type": "code",
   "execution_count": 67,
   "metadata": {},
   "outputs": [
    {
     "name": "stdout",
     "output_type": "stream",
     "text": [
      "Среднее количество заказов с июня 2017 по конец мая 2018 года на одного покупателя: 1.38\n"
     ]
    }
   ],
   "source": [
    "print('Среднее количество заказов с июня 2017 по конец мая 2018 года на одного покупателя:', \n",
    "      round(\n",
    "          len(orders) / orders['uid'].nunique(),\n",
    "          2))"
   ]
  },
  {
   "cell_type": "markdown",
   "metadata": {},
   "source": [
    "Рассмотрим как распределяется **количество заказов** помесячно."
   ]
  },
  {
   "cell_type": "code",
   "execution_count": 68,
   "metadata": {},
   "outputs": [],
   "source": [
    "orders_by_month = orders.groupby(['purchase_month']).agg({'uid' : 'count', 'revenue': 'sum'}).reset_index()"
   ]
  },
  {
   "cell_type": "code",
   "execution_count": 69,
   "metadata": {},
   "outputs": [
    {
     "data": {
      "image/png": "[encoded data removed]",
      "text/plain": [
       "<Figure size 1152x432 with 1 Axes>"
      ]
     },
     "metadata": {
      "needs_background": "light"
     },
     "output_type": "display_data"
    }
   ],
   "source": [
    "#отобразим на графике помесячное количество заказов\n",
    "sns_barplot(orders_by_month, 'purchase_month', 'uid')\n",
    "\n",
    "plt.title(\"Количество заказов помесячно\", fontsize = 15)\n",
    "plt.xlabel(\"Месяц\", fontsize = 12, fontweight=500)\n",
    "plt.ylabel('Количество заказов', fontsize = 12, fontweight=500);"
   ]
  },
  {
   "cell_type": "markdown",
   "metadata": {},
   "source": [
    "Ожидаемо самыми урожайными оказались праздничные и предпраздничные месяцы: октябрь-декабрь и февраль-март. В целом на графике отмечается динамика увеличения количества заказов с течением времени."
   ]
  },
  {
   "cell_type": "markdown",
   "metadata": {},
   "source": [
    "Рассчитаем **количество заказов по когортам** нарастающим итогом. Для этого необходимо:\n",
    "- найти месяц первой покупки для каждого покупателя и добавить его в таблицу с заказами (новая таблица `orders_new`);\n",
    "- сгруппировать таблицу с заказами по месяцу первой покупки и рассчитать возраст когорт;\n",
    "- отобразить на графике `heatmap` динамику количество заказов в зависимости от возраста различных когорт."
   ]
  },
  {
   "cell_type": "markdown",
   "metadata": {},
   "source": [
    "1. Определение месяца первой покупки для каждого покупателя и добавление его в таблицу с заказами"
   ]
  },
  {
   "cell_type": "code",
   "execution_count": 70,
   "metadata": {},
   "outputs": [],
   "source": [
    "#выделим месяц из столбца с датами покупок\n",
    "orders['order_month'] = orders['buy_ts'].astype('datetime64[M]')"
   ]
  },
  {
   "cell_type": "code",
   "execution_count": 71,
   "metadata": {},
   "outputs": [],
   "source": [
    "#определим месяц первой покупки для каждого покупателя\n",
    "first_orders = orders.groupby('uid').agg({'order_month': 'min'}).reset_index()\n",
    "first_orders.columns = ['uid', 'first_order_month']"
   ]
  },
  {
   "cell_type": "code",
   "execution_count": 72,
   "metadata": {},
   "outputs": [],
   "source": [
    "first_orders = first_orders.merge(users, on='uid')"
   ]
  },
  {
   "cell_type": "code",
   "execution_count": 73,
   "metadata": {},
   "outputs": [
    {
     "data": {
      "text/html": [
       "<div>\n",
       "<style scoped>\n",
       "    .dataframe tbody tr th:only-of-type {\n",
       "        vertical-align: middle;\n",
       "    }\n",
       "\n",
       "    .dataframe tbody tr th {\n",
       "        vertical-align: top;\n",
       "    }\n",
       "\n",
       "    .dataframe thead th {\n",
       "        text-align: right;\n",
       "    }\n",
       "</style>\n",
       "<table border=\"1\" class=\"dataframe\">\n",
       "  <thead>\n",
       "    <tr style=\"text-align: right;\">\n",
       "      <th></th>\n",
       "      <th>buy_ts</th>\n",
       "      <th>revenue</th>\n",
       "      <th>uid</th>\n",
       "      <th>purchase_month</th>\n",
       "      <th>order_month</th>\n",
       "      <th>first_order_month</th>\n",
       "      <th>start_ts</th>\n",
       "      <th>source_id</th>\n",
       "      <th>device</th>\n",
       "    </tr>\n",
       "  </thead>\n",
       "  <tbody>\n",
       "    <tr>\n",
       "      <th>0</th>\n",
       "      <td>2017-06-01 00:10:00</td>\n",
       "      <td>17.00</td>\n",
       "      <td>10329302124590727494</td>\n",
       "      <td>2017-06</td>\n",
       "      <td>2017-06-01</td>\n",
       "      <td>2017-06-01</td>\n",
       "      <td>2017-06-01 00:09:00</td>\n",
       "      <td>1</td>\n",
       "      <td>desktop</td>\n",
       "    </tr>\n",
       "    <tr>\n",
       "      <th>1</th>\n",
       "      <td>2017-06-01 00:25:00</td>\n",
       "      <td>0.55</td>\n",
       "      <td>11627257723692907447</td>\n",
       "      <td>2017-06</td>\n",
       "      <td>2017-06-01</td>\n",
       "      <td>2017-06-01</td>\n",
       "      <td>2017-06-01 00:14:00</td>\n",
       "      <td>2</td>\n",
       "      <td>desktop</td>\n",
       "    </tr>\n",
       "    <tr>\n",
       "      <th>2</th>\n",
       "      <td>2017-06-01 00:27:00</td>\n",
       "      <td>0.37</td>\n",
       "      <td>17903680561304213844</td>\n",
       "      <td>2017-06</td>\n",
       "      <td>2017-06-01</td>\n",
       "      <td>2017-06-01</td>\n",
       "      <td>2017-06-01 00:25:00</td>\n",
       "      <td>2</td>\n",
       "      <td>desktop</td>\n",
       "    </tr>\n",
       "  </tbody>\n",
       "</table>\n",
       "</div>"
      ],
      "text/plain": [
       "               buy_ts  revenue                   uid purchase_month  \\\n",
       "0 2017-06-01 00:10:00    17.00  10329302124590727494        2017-06   \n",
       "1 2017-06-01 00:25:00     0.55  11627257723692907447        2017-06   \n",
       "2 2017-06-01 00:27:00     0.37  17903680561304213844        2017-06   \n",
       "\n",
       "  order_month first_order_month            start_ts  source_id   device  \n",
       "0  2017-06-01        2017-06-01 2017-06-01 00:09:00          1  desktop  \n",
       "1  2017-06-01        2017-06-01 2017-06-01 00:14:00          2  desktop  \n",
       "2  2017-06-01        2017-06-01 2017-06-01 00:25:00          2  desktop  "
      ]
     },
     "execution_count": 73,
     "metadata": {},
     "output_type": "execute_result"
    }
   ],
   "source": [
    "#добавим месяц первой покупки в таблицу с заказами\n",
    "orders_new = pd.merge(orders,first_orders, on='uid')\n",
    "orders_new.head(3)"
   ]
  },
  {
   "cell_type": "markdown",
   "metadata": {},
   "source": [
    "2. Группировка таблицы с заказами по месяцу первой покупки и определение возраста когорт"
   ]
  },
  {
   "cell_type": "code",
   "execution_count": 74,
   "metadata": {},
   "outputs": [],
   "source": [
    "cohorts = orders_new.groupby(['first_order_month','order_month']).agg({'revenue': 'count'}).reset_index()"
   ]
  },
  {
   "cell_type": "code",
   "execution_count": 75,
   "metadata": {},
   "outputs": [],
   "source": [
    "cohorts['age'] = ((cohorts['order_month'] - cohorts['first_order_month']) / np.timedelta64(1, 'M')).round().astype('int')"
   ]
  },
  {
   "cell_type": "markdown",
   "metadata": {},
   "source": [
    "3. Динамика количества заказов в зависимости от возраста различных когорт на графике `heatmap`"
   ]
  },
  {
   "cell_type": "code",
   "execution_count": 76,
   "metadata": {},
   "outputs": [],
   "source": [
    "#для корректного отражения даты заказа на графике, изменим тип данных в столбце first_order_month\n",
    "cohorts['first_order_month'] = cohorts['first_order_month'].dt.strftime('%Y-%m')"
   ]
  },
  {
   "cell_type": "code",
   "execution_count": 77,
   "metadata": {},
   "outputs": [],
   "source": [
    "#сводная таблица по количеству заказов различных когорт нарастающим итогом\n",
    "output_q_orders = cohorts.pivot_table(\n",
    "        index='first_order_month', \n",
    "        columns='age', \n",
    "        values='revenue', \n",
    "        aggfunc= 'sum')\n",
    "\n",
    "output_q_orders_cum = output_q_orders.cumsum(axis=1)"
   ]
  },
  {
   "cell_type": "code",
   "execution_count": 78,
   "metadata": {},
   "outputs": [
    {
     "data": {
      "image/png": "[encoded data removed]",
      "text/plain": [
       "<Figure size 1008x504 with 1 Axes>"
      ]
     },
     "metadata": {
      "needs_background": "light"
     },
     "output_type": "display_data"
    }
   ],
   "source": [
    "#график heatmap по когортам\n",
    "plt.figure(figsize=(14, 7))\n",
    "sns.heatmap(output_q_orders_cum, annot=True, fmt='.0f', linewidths=0.2, linecolor='gray', cmap='BuGn', cbar=False)\n",
    "plt.title('Количество заказов')\n",
    "plt.xlabel('Возраст когорты, мес.', fontsize = 12, fontweight=500)\n",
    "plt.ylabel('Когорта', fontsize = 12, fontweight=500);"
   ]
  },
  {
   "cell_type": "markdown",
   "metadata": {},
   "source": [
    "Наиболее активными покупателями являются пользователи из когорт последнего квартала 2017 года - за 6 месяцев с момента первой покупки ими было сделано больше всего заказов по сравнению со всеми остальными покупателями. Скорее всего это объясняется тем, что на горизонте в 6 месяцев эти когорты захватили все основные праздники: новый год, 23 февраля и 8 марта. Второй причиной может быть изначально большее количество новых покупателей в указанный период по сравнению с другими когортами."
   ]
  },
  {
   "cell_type": "markdown",
   "metadata": {},
   "source": [
    "<a name=\"h3.2.3\"></a>\n",
    "###### Средний чек"
   ]
  },
  {
   "cell_type": "code",
   "execution_count": 79,
   "metadata": {},
   "outputs": [
    {
     "name": "stdout",
     "output_type": "stream",
     "text": [
      "Средний чек за период с июня 2017 по конец мая 2018 года: 5 тыс.руб.\n"
     ]
    }
   ],
   "source": [
    "print('Средний чек за период с июня 2017 по конец мая 2018 года:', round(orders['revenue'].mean()),'тыс.руб.')"
   ]
  },
  {
   "cell_type": "markdown",
   "metadata": {},
   "source": [
    "Рассмотрим как меняется размер **среднего чека в зависимости от месяца продаж**, добавив в таблицу `orders_by_month` новый столбец:"
   ]
  },
  {
   "cell_type": "code",
   "execution_count": 80,
   "metadata": {},
   "outputs": [],
   "source": [
    "orders_by_month['average_check'] = orders_by_month['revenue'] / orders_by_month['uid']"
   ]
  },
  {
   "cell_type": "code",
   "execution_count": 81,
   "metadata": {},
   "outputs": [
    {
     "data": {
      "image/png": "[encoded data removed]",
      "text/plain": [
       "<Figure size 1152x432 with 1 Axes>"
      ]
     },
     "metadata": {
      "needs_background": "light"
     },
     "output_type": "display_data"
    }
   ],
   "source": [
    "#отразим на графике помесячно размер среднего чека\n",
    "sns_barplot(orders_by_month, 'purchase_month', 'average_check')\n",
    " \n",
    "plt.title(\"Средний чек помесячно\", fontsize = 15)\n",
    "plt.xlabel(\"Месяц\", fontsize = 12, fontweight=500)\n",
    "plt.ylabel('Средний чек, тыс. руб.', fontsize = 12, fontweight=500)\n",
    "plt.show();"
   ]
  },
  {
   "cell_type": "markdown",
   "metadata": {},
   "source": [
    "Величина среднего чека меняется от месяца к месяцу, при этом в целом роста показателя не наблюдается."
   ]
  },
  {
   "cell_type": "markdown",
   "metadata": {},
   "source": [
    "Рассчитаем **средний чек** по когортам. Для этого необходимо:  \n",
    "- сгруппировать новую таблицу с заказами `orders_new` по месяцу первой покупки и рассчитать возраст когорт;\n",
    "- отобразить на графике `heatmap` динамику среднего чека в зависимости от возраста различных когорт."
   ]
  },
  {
   "cell_type": "markdown",
   "metadata": {},
   "source": [
    "1. Группировка таблицы с заказами по месяцу первой покупки и определение возраста когорт"
   ]
  },
  {
   "cell_type": "code",
   "execution_count": 82,
   "metadata": {},
   "outputs": [],
   "source": [
    "cohorts = orders_new.groupby(['first_order_month','order_month']).agg({'revenue': 'mean'}).reset_index()"
   ]
  },
  {
   "cell_type": "code",
   "execution_count": 83,
   "metadata": {},
   "outputs": [],
   "source": [
    "cohorts['age'] = ((cohorts['order_month'] - cohorts['first_order_month']) / np.timedelta64(1, 'M')).round().astype('int')"
   ]
  },
  {
   "cell_type": "markdown",
   "metadata": {},
   "source": [
    "2. Динамика среднего чека в зависимости от возраста различных когорт на графике `heatmap`"
   ]
  },
  {
   "cell_type": "code",
   "execution_count": 84,
   "metadata": {},
   "outputs": [],
   "source": [
    "#для корректного отражения даты заказа на графике, изменим тип данных в столбце first_order_month\n",
    "cohorts['first_order_month'] = cohorts['first_order_month'].dt.strftime('%Y-%m')"
   ]
  },
  {
   "cell_type": "code",
   "execution_count": 85,
   "metadata": {},
   "outputs": [],
   "source": [
    "#сводная таблица по показателю \"Средний чек\"\n",
    "output_av_check = cohorts.pivot_table(\n",
    "        index='first_order_month', \n",
    "        columns='age', \n",
    "        values='revenue', \n",
    "        aggfunc= 'mean')"
   ]
  },
  {
   "cell_type": "code",
   "execution_count": 86,
   "metadata": {},
   "outputs": [
    {
     "data": {
      "image/png": "[encoded data removed]",
      "text/plain": [
       "<Figure size 936x432 with 1 Axes>"
      ]
     },
     "metadata": {
      "needs_background": "light"
     },
     "output_type": "display_data"
    }
   ],
   "source": [
    "#график heatmap по когортам\n",
    "plt.figure(figsize=(13, 6))\n",
    "sns.heatmap(output_av_check, annot=True, fmt='.2f', linewidths=0.2, linecolor='gray', cmap='BuGn', cbar=False)\n",
    "plt.title('Средний чек по когортам, тыс.руб.')\n",
    "plt.xlabel('Возраст когорты, мес.', fontsize = 12, fontweight=500)\n",
    "plt.ylabel('Когорта', fontsize = 12, fontweight=500);"
   ]
  },
  {
   "cell_type": "markdown",
   "metadata": {},
   "source": [
    "На графике явно выделяются две когорты: сентбярь и декабрь 2017. Их средние чеки в отдельные месяцы в разы превышают средние чеки остальных когорт. Возможно, в этих когортах среди покупателей есть организации, приобретающие подарки своим сотрудникам или клиентам в виде билетов или сертификатов, так как самые крупные заказы приходятся на декабрь, февраль и март."
   ]
  },
  {
   "cell_type": "markdown",
   "metadata": {},
   "source": [
    "Рассчитаем **средний чек по рекламным источникам**:"
   ]
  },
  {
   "cell_type": "code",
   "execution_count": 87,
   "metadata": {},
   "outputs": [],
   "source": [
    "#группируем заказы по рекламным источникам\n",
    "revenue_by_source = orders_new.groupby(['source_id']).agg({'revenue':'sum', 'uid':'count'}).reset_index()"
   ]
  },
  {
   "cell_type": "code",
   "execution_count": 88,
   "metadata": {},
   "outputs": [],
   "source": [
    "#рассчитываем размер среднего чека\n",
    "revenue_by_source['av_check'] = revenue_by_source['revenue'] / revenue_by_source['uid']"
   ]
  },
  {
   "cell_type": "code",
   "execution_count": 89,
   "metadata": {},
   "outputs": [
    {
     "data": {
      "image/png": "[encoded data removed]",
      "text/plain": [
       "<Figure size 1152x432 with 1 Axes>"
      ]
     },
     "metadata": {
      "needs_background": "light"
     },
     "output_type": "display_data"
    }
   ],
   "source": [
    "#отразим на графике полученный результат\n",
    "sns_barplot(revenue_by_source, 'source_id', 'av_check')\n",
    " \n",
    "plt.title(\"Средний чек по каждому рекламному источнику\", fontsize = 15)\n",
    "plt.xlabel(\"Рекламный источник\", fontsize = 12, fontweight=500)\n",
    "plt.ylabel('Средний чек, тыс. руб.', fontsize = 12, fontweight=500)\n",
    "plt.show();"
   ]
  },
  {
   "cell_type": "markdown",
   "metadata": {},
   "source": [
    "Рекламный источник *№2* заметно выделяется среди остальных размером среднего чека. Стоит обратить на него внимание."
   ]
  },
  {
   "cell_type": "markdown",
   "metadata": {},
   "source": [
    "<a name=\"h3.2.4\"></a>\n",
    "###### Показатель LTV"
   ]
  },
  {
   "cell_type": "code",
   "execution_count": 90,
   "metadata": {},
   "outputs": [
    {
     "name": "stdout",
     "output_type": "stream",
     "text": [
      "Общий LTV: 7.0 тыс.руб.\n"
     ]
    }
   ],
   "source": [
    "print('Общий LTV:', round(orders['revenue'].sum() / orders['uid'].nunique()),'тыс.руб.')"
   ]
  },
  {
   "cell_type": "markdown",
   "metadata": {},
   "source": [
    "Рассчитаем **LTV по когортам**. Для этого необходимо:  \n",
    "- вычислить число новых покупателей в месяц;\n",
    "- добавить дату первой покупки в таблицу с заказами;\n",
    "- сгруппировать таблицу и посчитать выручку."
   ]
  },
  {
   "cell_type": "markdown",
   "metadata": {},
   "source": [
    "Посчитаем количество новых покупателей за каждый месяц на основании таблицы с информацией о первых заказах `first_orders`:"
   ]
  },
  {
   "cell_type": "code",
   "execution_count": 91,
   "metadata": {},
   "outputs": [],
   "source": [
    "cohort_sizes = first_orders.groupby('first_order_month').agg({'uid': 'nunique'}).reset_index()\n",
    "cohort_sizes.columns = ['first_order_month', 'n_buyers']"
   ]
  },
  {
   "cell_type": "markdown",
   "metadata": {},
   "source": [
    "Сгруппируем таблицу заказов по месяцу первой покупки и месяцу каждого заказа и сложим выручку:"
   ]
  },
  {
   "cell_type": "code",
   "execution_count": 92,
   "metadata": {},
   "outputs": [],
   "source": [
    "cohorts = orders_new.groupby(['first_order_month','order_month']).agg({'revenue': 'sum', 'source_id': 'first'}).reset_index()"
   ]
  },
  {
   "cell_type": "markdown",
   "metadata": {},
   "source": [
    "Добавим в таблицу cohorts данные о том, сколько людей первый раз совершили покупку в каждый месяц:"
   ]
  },
  {
   "cell_type": "code",
   "execution_count": 93,
   "metadata": {},
   "outputs": [
    {
     "data": {
      "text/html": [
       "<div>\n",
       "<style scoped>\n",
       "    .dataframe tbody tr th:only-of-type {\n",
       "        vertical-align: middle;\n",
       "    }\n",
       "\n",
       "    .dataframe tbody tr th {\n",
       "        vertical-align: top;\n",
       "    }\n",
       "\n",
       "    .dataframe thead th {\n",
       "        text-align: right;\n",
       "    }\n",
       "</style>\n",
       "<table border=\"1\" class=\"dataframe\">\n",
       "  <thead>\n",
       "    <tr style=\"text-align: right;\">\n",
       "      <th></th>\n",
       "      <th>first_order_month</th>\n",
       "      <th>n_buyers</th>\n",
       "      <th>order_month</th>\n",
       "      <th>revenue</th>\n",
       "      <th>source_id</th>\n",
       "    </tr>\n",
       "  </thead>\n",
       "  <tbody>\n",
       "    <tr>\n",
       "      <th>0</th>\n",
       "      <td>2017-06-01</td>\n",
       "      <td>2023</td>\n",
       "      <td>2017-06-01</td>\n",
       "      <td>9557.49</td>\n",
       "      <td>1</td>\n",
       "    </tr>\n",
       "    <tr>\n",
       "      <th>1</th>\n",
       "      <td>2017-06-01</td>\n",
       "      <td>2023</td>\n",
       "      <td>2017-07-01</td>\n",
       "      <td>981.82</td>\n",
       "      <td>1</td>\n",
       "    </tr>\n",
       "    <tr>\n",
       "      <th>2</th>\n",
       "      <td>2017-06-01</td>\n",
       "      <td>2023</td>\n",
       "      <td>2017-08-01</td>\n",
       "      <td>885.34</td>\n",
       "      <td>1</td>\n",
       "    </tr>\n",
       "    <tr>\n",
       "      <th>3</th>\n",
       "      <td>2017-06-01</td>\n",
       "      <td>2023</td>\n",
       "      <td>2017-09-01</td>\n",
       "      <td>1931.30</td>\n",
       "      <td>1</td>\n",
       "    </tr>\n",
       "    <tr>\n",
       "      <th>4</th>\n",
       "      <td>2017-06-01</td>\n",
       "      <td>2023</td>\n",
       "      <td>2017-10-01</td>\n",
       "      <td>2068.58</td>\n",
       "      <td>1</td>\n",
       "    </tr>\n",
       "  </tbody>\n",
       "</table>\n",
       "</div>"
      ],
      "text/plain": [
       "  first_order_month  n_buyers order_month  revenue  source_id\n",
       "0        2017-06-01      2023  2017-06-01  9557.49          1\n",
       "1        2017-06-01      2023  2017-07-01   981.82          1\n",
       "2        2017-06-01      2023  2017-08-01   885.34          1\n",
       "3        2017-06-01      2023  2017-09-01  1931.30          1\n",
       "4        2017-06-01      2023  2017-10-01  2068.58          1"
      ]
     },
     "execution_count": 93,
     "metadata": {},
     "output_type": "execute_result"
    }
   ],
   "source": [
    "report = pd.merge(cohort_sizes, cohorts, on='first_order_month')\n",
    "report.head()"
   ]
  },
  {
   "cell_type": "markdown",
   "metadata": {},
   "source": [
    "Добавим столбец с возрастом когорт на момент заказа:"
   ]
  },
  {
   "cell_type": "code",
   "execution_count": 94,
   "metadata": {},
   "outputs": [],
   "source": [
    "report['age'] = (report['order_month'] - report['first_order_month']) / np.timedelta64(1, 'M')\n",
    "report['age'] = report['age'].round().astype('int')"
   ]
  },
  {
   "cell_type": "markdown",
   "metadata": {},
   "source": [
    "Рассчитаем **LTV**:"
   ]
  },
  {
   "cell_type": "code",
   "execution_count": 95,
   "metadata": {},
   "outputs": [],
   "source": [
    "report['ltv'] = report['revenue'] / report['n_buyers']"
   ]
  },
  {
   "cell_type": "markdown",
   "metadata": {},
   "source": [
    "Для корректного отражения даты заказа в heatmap, изменим тип данных в столбце `first_order_month`:"
   ]
  },
  {
   "cell_type": "code",
   "execution_count": 96,
   "metadata": {},
   "outputs": [],
   "source": [
    "#создазим копию данных для дальнейших изменений\n",
    "report_copy = report.copy()"
   ]
  },
  {
   "cell_type": "markdown",
   "metadata": {},
   "source": [
    "Ограничим выборку данными по когортам, прожившим хотя бы 6 месяцев."
   ]
  },
  {
   "cell_type": "code",
   "execution_count": 97,
   "metadata": {},
   "outputs": [],
   "source": [
    "report_copy = report_copy[report_copy['first_order_month'] < '2018-01-01']"
   ]
  },
  {
   "cell_type": "code",
   "execution_count": 98,
   "metadata": {},
   "outputs": [],
   "source": [
    "report_copy_6m = report_copy[report_copy['age'] <= 5]"
   ]
  },
  {
   "cell_type": "code",
   "execution_count": 99,
   "metadata": {},
   "outputs": [],
   "source": [
    "report_copy_6m['first_order_month'] = report_copy_6m['first_order_month'].dt.strftime('%Y-%m')"
   ]
  },
  {
   "cell_type": "markdown",
   "metadata": {},
   "source": [
    "И соберем сводную таблицу по показателю **LTV**"
   ]
  },
  {
   "cell_type": "code",
   "execution_count": 100,
   "metadata": {},
   "outputs": [],
   "source": [
    "LTV_cogorts = report_copy_6m.pivot_table(\n",
    "        index='first_order_month', \n",
    "        columns='age', \n",
    "        values='ltv', \n",
    "        aggfunc= 'mean').cumsum(axis=1)"
   ]
  },
  {
   "cell_type": "code",
   "execution_count": 101,
   "metadata": {},
   "outputs": [
    {
     "data": {
      "image/png": "[encoded data removed]",
      "text/plain": [
       "<Figure size 720x288 with 1 Axes>"
      ]
     },
     "metadata": {
      "needs_background": "light"
     },
     "output_type": "display_data"
    }
   ],
   "source": [
    "plt.figure(figsize=(10, 4))\n",
    "sns.heatmap(LTV_cogorts, annot=True, fmt='.2f', linewidths=0.2, linecolor='gray', cmap='BuGn', cbar=False)\n",
    "plt.title('LTV, тыс.руб.')\n",
    "plt.xlabel('Возраст когорты, мес.', fontsize = 12, fontweight=500)\n",
    "plt.ylabel('Когорта', fontsize = 12, fontweight=500);"
   ]
  },
  {
   "cell_type": "markdown",
   "metadata": {},
   "source": [
    "Наиболее доходными покупателями являются пользователи когорты от сентября 2017. "
   ]
  },
  {
   "cell_type": "markdown",
   "metadata": {},
   "source": [
    "Рассчитаем **LTV по рекламным источникам**. Для этого необходимо:\n",
    "\n",
    "- вычислить число новых покупателей за каждую дату;\n",
    "- добавить дату первой покупки в таблицу с заказами;\n",
    "- сгруппировать таблицу и посчитать выручку."
   ]
  },
  {
   "cell_type": "code",
   "execution_count": 102,
   "metadata": {},
   "outputs": [
    {
     "data": {
      "text/html": [
       "<div>\n",
       "<style scoped>\n",
       "    .dataframe tbody tr th:only-of-type {\n",
       "        vertical-align: middle;\n",
       "    }\n",
       "\n",
       "    .dataframe tbody tr th {\n",
       "        vertical-align: top;\n",
       "    }\n",
       "\n",
       "    .dataframe thead th {\n",
       "        text-align: right;\n",
       "    }\n",
       "</style>\n",
       "<table border=\"1\" class=\"dataframe\">\n",
       "  <thead>\n",
       "    <tr style=\"text-align: right;\">\n",
       "      <th></th>\n",
       "      <th>buy_ts</th>\n",
       "      <th>revenue</th>\n",
       "      <th>uid</th>\n",
       "      <th>purchase_month</th>\n",
       "      <th>order_month</th>\n",
       "      <th>first_order_month</th>\n",
       "      <th>start_ts</th>\n",
       "      <th>source_id</th>\n",
       "      <th>device</th>\n",
       "    </tr>\n",
       "  </thead>\n",
       "  <tbody>\n",
       "    <tr>\n",
       "      <th>0</th>\n",
       "      <td>2017-06-01 00:10:00</td>\n",
       "      <td>17.00</td>\n",
       "      <td>10329302124590727494</td>\n",
       "      <td>2017-06</td>\n",
       "      <td>2017-06-01</td>\n",
       "      <td>2017-06-01</td>\n",
       "      <td>2017-06-01 00:09:00</td>\n",
       "      <td>1</td>\n",
       "      <td>desktop</td>\n",
       "    </tr>\n",
       "    <tr>\n",
       "      <th>1</th>\n",
       "      <td>2017-06-01 00:25:00</td>\n",
       "      <td>0.55</td>\n",
       "      <td>11627257723692907447</td>\n",
       "      <td>2017-06</td>\n",
       "      <td>2017-06-01</td>\n",
       "      <td>2017-06-01</td>\n",
       "      <td>2017-06-01 00:14:00</td>\n",
       "      <td>2</td>\n",
       "      <td>desktop</td>\n",
       "    </tr>\n",
       "    <tr>\n",
       "      <th>2</th>\n",
       "      <td>2017-06-01 00:27:00</td>\n",
       "      <td>0.37</td>\n",
       "      <td>17903680561304213844</td>\n",
       "      <td>2017-06</td>\n",
       "      <td>2017-06-01</td>\n",
       "      <td>2017-06-01</td>\n",
       "      <td>2017-06-01 00:25:00</td>\n",
       "      <td>2</td>\n",
       "      <td>desktop</td>\n",
       "    </tr>\n",
       "  </tbody>\n",
       "</table>\n",
       "</div>"
      ],
      "text/plain": [
       "               buy_ts  revenue                   uid purchase_month  \\\n",
       "0 2017-06-01 00:10:00    17.00  10329302124590727494        2017-06   \n",
       "1 2017-06-01 00:25:00     0.55  11627257723692907447        2017-06   \n",
       "2 2017-06-01 00:27:00     0.37  17903680561304213844        2017-06   \n",
       "\n",
       "  order_month first_order_month            start_ts  source_id   device  \n",
       "0  2017-06-01        2017-06-01 2017-06-01 00:09:00          1  desktop  \n",
       "1  2017-06-01        2017-06-01 2017-06-01 00:14:00          2  desktop  \n",
       "2  2017-06-01        2017-06-01 2017-06-01 00:25:00          2  desktop  "
      ]
     },
     "execution_count": 102,
     "metadata": {},
     "output_type": "execute_result"
    }
   ],
   "source": [
    "orders_new.head(3)"
   ]
  },
  {
   "cell_type": "code",
   "execution_count": 103,
   "metadata": {},
   "outputs": [],
   "source": [
    "orders_new_copy = orders_new.copy()"
   ]
  },
  {
   "cell_type": "code",
   "execution_count": 104,
   "metadata": {},
   "outputs": [],
   "source": [
    "orders_new_copy_source = orders_new_copy.groupby(['source_id','first_order_month']).agg({'uid':'nunique'}).reset_index()"
   ]
  },
  {
   "cell_type": "code",
   "execution_count": 105,
   "metadata": {},
   "outputs": [],
   "source": [
    "orders_new_copy_source['source_month'] = orders_new_copy_source.source_id.astype(str).str.cat(\n",
    "    orders_new_copy_source.first_order_month.astype(str), sep='-')"
   ]
  },
  {
   "cell_type": "code",
   "execution_count": 106,
   "metadata": {},
   "outputs": [
    {
     "data": {
      "text/html": [
       "<div>\n",
       "<style scoped>\n",
       "    .dataframe tbody tr th:only-of-type {\n",
       "        vertical-align: middle;\n",
       "    }\n",
       "\n",
       "    .dataframe tbody tr th {\n",
       "        vertical-align: top;\n",
       "    }\n",
       "\n",
       "    .dataframe thead th {\n",
       "        text-align: right;\n",
       "    }\n",
       "</style>\n",
       "<table border=\"1\" class=\"dataframe\">\n",
       "  <thead>\n",
       "    <tr style=\"text-align: right;\">\n",
       "      <th></th>\n",
       "      <th>source_id</th>\n",
       "      <th>first_order_month</th>\n",
       "      <th>uid</th>\n",
       "      <th>source_month</th>\n",
       "    </tr>\n",
       "  </thead>\n",
       "  <tbody>\n",
       "    <tr>\n",
       "      <th>0</th>\n",
       "      <td>1</td>\n",
       "      <td>2017-06-01</td>\n",
       "      <td>190</td>\n",
       "      <td>1-2017-06-01</td>\n",
       "    </tr>\n",
       "    <tr>\n",
       "      <th>1</th>\n",
       "      <td>1</td>\n",
       "      <td>2017-07-01</td>\n",
       "      <td>160</td>\n",
       "      <td>1-2017-07-01</td>\n",
       "    </tr>\n",
       "    <tr>\n",
       "      <th>2</th>\n",
       "      <td>1</td>\n",
       "      <td>2017-08-01</td>\n",
       "      <td>113</td>\n",
       "      <td>1-2017-08-01</td>\n",
       "    </tr>\n",
       "  </tbody>\n",
       "</table>\n",
       "</div>"
      ],
      "text/plain": [
       "   source_id first_order_month  uid  source_month\n",
       "0          1        2017-06-01  190  1-2017-06-01\n",
       "1          1        2017-07-01  160  1-2017-07-01\n",
       "2          1        2017-08-01  113  1-2017-08-01"
      ]
     },
     "execution_count": 106,
     "metadata": {},
     "output_type": "execute_result"
    }
   ],
   "source": [
    "orders_new_copy_source.head(3)"
   ]
  },
  {
   "cell_type": "code",
   "execution_count": 107,
   "metadata": {},
   "outputs": [],
   "source": [
    "cohorts_source = orders_new.groupby(['source_id','order_month']).agg({'revenue': 'sum'}).reset_index()"
   ]
  },
  {
   "cell_type": "code",
   "execution_count": 108,
   "metadata": {},
   "outputs": [],
   "source": [
    "cohorts_source['source_month'] = cohorts_source.source_id.astype(str).str.cat(\n",
    "    cohorts_source.order_month.astype(str), sep='-')"
   ]
  },
  {
   "cell_type": "code",
   "execution_count": 109,
   "metadata": {},
   "outputs": [],
   "source": [
    "report_2 = pd.merge(orders_new_copy_source, cohorts_source, on='source_month')"
   ]
  },
  {
   "cell_type": "code",
   "execution_count": 110,
   "metadata": {},
   "outputs": [
    {
     "data": {
      "text/html": [
       "<div>\n",
       "<style scoped>\n",
       "    .dataframe tbody tr th:only-of-type {\n",
       "        vertical-align: middle;\n",
       "    }\n",
       "\n",
       "    .dataframe tbody tr th {\n",
       "        vertical-align: top;\n",
       "    }\n",
       "\n",
       "    .dataframe thead th {\n",
       "        text-align: right;\n",
       "    }\n",
       "</style>\n",
       "<table border=\"1\" class=\"dataframe\">\n",
       "  <thead>\n",
       "    <tr style=\"text-align: right;\">\n",
       "      <th></th>\n",
       "      <th>source_id_x</th>\n",
       "      <th>first_order_month</th>\n",
       "      <th>uid</th>\n",
       "      <th>source_month</th>\n",
       "      <th>source_id_y</th>\n",
       "      <th>order_month</th>\n",
       "      <th>revenue</th>\n",
       "    </tr>\n",
       "  </thead>\n",
       "  <tbody>\n",
       "    <tr>\n",
       "      <th>0</th>\n",
       "      <td>1</td>\n",
       "      <td>2017-06-01</td>\n",
       "      <td>190</td>\n",
       "      <td>1-2017-06-01</td>\n",
       "      <td>1</td>\n",
       "      <td>2017-06-01</td>\n",
       "      <td>1378.70</td>\n",
       "    </tr>\n",
       "    <tr>\n",
       "      <th>1</th>\n",
       "      <td>1</td>\n",
       "      <td>2017-07-01</td>\n",
       "      <td>160</td>\n",
       "      <td>1-2017-07-01</td>\n",
       "      <td>1</td>\n",
       "      <td>2017-07-01</td>\n",
       "      <td>1581.68</td>\n",
       "    </tr>\n",
       "    <tr>\n",
       "      <th>2</th>\n",
       "      <td>1</td>\n",
       "      <td>2017-08-01</td>\n",
       "      <td>113</td>\n",
       "      <td>1-2017-08-01</td>\n",
       "      <td>1</td>\n",
       "      <td>2017-08-01</td>\n",
       "      <td>1441.49</td>\n",
       "    </tr>\n",
       "  </tbody>\n",
       "</table>\n",
       "</div>"
      ],
      "text/plain": [
       "   source_id_x first_order_month  uid  source_month  source_id_y order_month  \\\n",
       "0            1        2017-06-01  190  1-2017-06-01            1  2017-06-01   \n",
       "1            1        2017-07-01  160  1-2017-07-01            1  2017-07-01   \n",
       "2            1        2017-08-01  113  1-2017-08-01            1  2017-08-01   \n",
       "\n",
       "   revenue  \n",
       "0  1378.70  \n",
       "1  1581.68  \n",
       "2  1441.49  "
      ]
     },
     "execution_count": 110,
     "metadata": {},
     "output_type": "execute_result"
    }
   ],
   "source": [
    "report_2.head(3)"
   ]
  },
  {
   "cell_type": "code",
   "execution_count": 111,
   "metadata": {},
   "outputs": [],
   "source": [
    "report_2 = report_2.drop(['source_month', 'source_id_y'], axis=1)"
   ]
  },
  {
   "cell_type": "code",
   "execution_count": 112,
   "metadata": {},
   "outputs": [
    {
     "data": {
      "text/plain": [
       "Index(['source_id_x', 'first_order_month', 'uid', 'order_month', 'revenue'], dtype='object')"
      ]
     },
     "execution_count": 112,
     "metadata": {},
     "output_type": "execute_result"
    }
   ],
   "source": [
    "report_2.columns"
   ]
  },
  {
   "cell_type": "code",
   "execution_count": 113,
   "metadata": {},
   "outputs": [],
   "source": [
    "report_2.columns = ['source_id', 'first_order_month', 'n_buyers', 'order_month', 'revenue']"
   ]
  },
  {
   "cell_type": "code",
   "execution_count": 114,
   "metadata": {},
   "outputs": [],
   "source": [
    "#для корректного отражения даты заказа на графике, изменим тип данных в столбце order_month\n",
    "report_2['order_month'] = report_2['order_month'].dt.strftime('%Y-%m')"
   ]
  },
  {
   "cell_type": "code",
   "execution_count": 115,
   "metadata": {},
   "outputs": [],
   "source": [
    "report_2['ltv'] = report_2['revenue'] / report_2['n_buyers']"
   ]
  },
  {
   "cell_type": "code",
   "execution_count": 116,
   "metadata": {},
   "outputs": [],
   "source": [
    "LTV_source = report_2.pivot_table(\n",
    "        index='source_id', \n",
    "        columns='order_month', \n",
    "        values='ltv', \n",
    "        aggfunc= 'mean')#.cumsum(axis=1)"
   ]
  },
  {
   "cell_type": "code",
   "execution_count": 117,
   "metadata": {},
   "outputs": [],
   "source": [
    "LTV_source = LTV_source.drop(['2018-06'], axis=1)"
   ]
  },
  {
   "cell_type": "code",
   "execution_count": 118,
   "metadata": {},
   "outputs": [
    {
     "data": {
      "image/png": "[encoded data removed]",
      "text/plain": [
       "<Figure size 936x360 with 1 Axes>"
      ]
     },
     "metadata": {
      "needs_background": "light"
     },
     "output_type": "display_data"
    }
   ],
   "source": [
    "plt.figure(figsize=(13, 5))\n",
    "sns.heatmap(LTV_source, annot=True, fmt='.2f', linewidths=0.2, linecolor='gray', cmap='BuGn', cbar=False)\n",
    "plt.title('LTV, тыс.руб.')\n",
    "plt.xlabel('Год и месяц заказа', fontsize = 12, fontweight=500)\n",
    "plt.ylabel('Рекламный источник', fontsize = 12, fontweight=500);"
   ]
  },
  {
   "cell_type": "markdown",
   "metadata": {},
   "source": [
    "Рекламные источники *№2* и *1* привлекают более дорогих клиентов по сравнению с другими источниками."
   ]
  },
  {
   "cell_type": "markdown",
   "metadata": {},
   "source": [
    "Ранее мы определили, что наибольшее количество заказов делают когорты последнего квартала 2017. Проверим, не связано ли это с количеством новых покупателей в указанный период."
   ]
  },
  {
   "cell_type": "code",
   "execution_count": 119,
   "metadata": {},
   "outputs": [],
   "source": [
    "#для корректного отражения даты заказа на графике, изменим тип данных в столбце first_order_month в таблице cohort_sizes\n",
    "cohort_sizes['first_order_month'] = cohort_sizes['first_order_month'].dt.strftime('%Y-%m')"
   ]
  },
  {
   "cell_type": "code",
   "execution_count": 120,
   "metadata": {},
   "outputs": [
    {
     "data": {
      "image/png": "[encoded data removed]",
      "text/plain": [
       "<Figure size 1152x432 with 1 Axes>"
      ]
     },
     "metadata": {
      "needs_background": "light"
     },
     "output_type": "display_data"
    }
   ],
   "source": [
    "sns_barplot(cohort_sizes, 'first_order_month', 'n_buyers')\n",
    "\n",
    "#заголовок графика и подписи осей    \n",
    "plt.title(\"Количество новых покупателей помесячно\", fontsize = 15)\n",
    "plt.xlabel(\"Месяц\", fontsize = 12, fontweight=500)\n",
    "plt.ylabel('Количество новых покупателей', fontsize = 12, fontweight=500)\n",
    "plt.show();"
   ]
  },
  {
   "cell_type": "markdown",
   "metadata": {},
   "source": [
    "**Вывод**  \n",
    "Обычно с момента первого посещения сайта до первой покупки проходит всего 1 минута - пользователи точно знают чего хотят, когда обращаются к сервису. Учитывая специфику сайта такое значение показателя не выглядит необычным.   \n",
    "В течение года из трех покупателей только один сделал второй заказ - среднее количество заказов за год на одного пользователя составило всего 1.38.  На графике также четко прослеживается увеличение спроса в праздничные и предпраздничные месяцы (максимальное число заказов достигнуто в октябре-декабре, феврале и марте). При этом можно отметить, что на горизонте в 6 месяцев после совершения первой покупки больше остальных заказывают когорты последнего квартала 2017 года, что обусловлено как наличием праздников, так и большим размером самих когорт указанного периода.  \n",
    "Средний чек за год не превысил 5 тыс. руб., хотя этот показатель заметно колеблется от месяца к месяцу, в зависимости от праздников и популярности ожидаемых мероприятий. Наиболее доходным выдался декабрь 2017 года, что скорее всего объясняется новогодними мероприятиями и приобретением подарков.   \n",
    "Показатель ценности клиентов - LTV - также указывает на то, что покупатели редко делают повторные заказы. Только у двух когорт: 2017-06 и 2017-09 показатель LTV спустя 6 мес. удвоился относительно первого месяца. Возможно, эффективно сработал один из рекламных источников, удачно определивший целевую аудиторию или именно в эти периоды для новых покупателей проводилась акция, распространявшаяся на дальнейшие заказы. "
   ]
  },
  {
   "cell_type": "markdown",
   "metadata": {},
   "source": [
    "<a name=\"h3.3\"></a>\n",
    "#### 3.3 Анализ маркетинга"
   ]
  },
  {
   "cell_type": "markdown",
   "metadata": {},
   "source": [
    "Необходимо ответить на вопросы ниже:  \n",
    "- [Сколько денег потратили? Всего / на каждый источник / по времени.](#h3.3.1)\n",
    "- [Сколько стоило привлечение одного покупателя из каждого источника?](#h3.3.2)\n",
    "- [На сколько окупились расходы? (ROI)](#h3.3.3)"
   ]
  },
  {
   "cell_type": "markdown",
   "metadata": {},
   "source": [
    "<a name=\"h3.3.1\"></a>\n",
    "##### Расходы на рекламу"
   ]
  },
  {
   "cell_type": "markdown",
   "metadata": {},
   "source": [
    "Выделим год и месяц из дат в таблице с расходами на рекламу и создадим копию датафрейма для дальнейших изменений:"
   ]
  },
  {
   "cell_type": "code",
   "execution_count": 121,
   "metadata": {},
   "outputs": [],
   "source": [
    "costs['dt_month'] = costs['dt'].astype('datetime64[M]')"
   ]
  },
  {
   "cell_type": "code",
   "execution_count": 122,
   "metadata": {},
   "outputs": [],
   "source": [
    "costs_copy = costs.copy()"
   ]
  },
  {
   "cell_type": "code",
   "execution_count": 123,
   "metadata": {},
   "outputs": [],
   "source": [
    "costs_copy['dt_month'] = costs_copy['dt_month'].dt.strftime('%Y-%m')"
   ]
  },
  {
   "cell_type": "code",
   "execution_count": 124,
   "metadata": {},
   "outputs": [
    {
     "name": "stdout",
     "output_type": "stream",
     "text": [
      "Всего потрачено на рекламу с июня 2017 по конец мая 2018 года: 329132.0 руб.\n"
     ]
    }
   ],
   "source": [
    "print('Всего потрачено на рекламу с июня 2017 по конец мая 2018 года:', round(costs['costs'].sum()),'руб.')"
   ]
  },
  {
   "cell_type": "markdown",
   "metadata": {},
   "source": [
    "Сгруппируем расходы на маркетинг по месяцам."
   ]
  },
  {
   "cell_type": "code",
   "execution_count": 125,
   "metadata": {},
   "outputs": [],
   "source": [
    "costs_by_months = costs_copy.groupby('dt_month')['costs'].sum().reset_index()"
   ]
  },
  {
   "cell_type": "code",
   "execution_count": 126,
   "metadata": {},
   "outputs": [
    {
     "data": {
      "image/png": "[encoded data removed]",
      "text/plain": [
       "<Figure size 1152x432 with 1 Axes>"
      ]
     },
     "metadata": {
      "needs_background": "light"
     },
     "output_type": "display_data"
    }
   ],
   "source": [
    "#отразим на графике ежемесячные расходы на маркетинг\n",
    "sns_barplot(costs_by_months, 'dt_month', 'costs')\n",
    " \n",
    "plt.title(\"Расходы на рекламу помесячно\", fontsize = 15)\n",
    "plt.xlabel(\"Месяц\", fontsize = 12, fontweight=500)\n",
    "plt.ylabel('Расходы, тыс.руб.', fontsize = 12, fontweight=500)\n",
    "plt.show();"
   ]
  },
  {
   "cell_type": "markdown",
   "metadata": {},
   "source": [
    "Проанализируем расходы на маркетинг по рекламным источникам."
   ]
  },
  {
   "cell_type": "code",
   "execution_count": 127,
   "metadata": {},
   "outputs": [],
   "source": [
    "costs_by_source_id = costs_copy.groupby('source_id')['costs'].sum().reset_index()"
   ]
  },
  {
   "cell_type": "code",
   "execution_count": 128,
   "metadata": {},
   "outputs": [
    {
     "data": {
      "image/png": "[encoded data removed]",
      "text/plain": [
       "<Figure size 1152x432 with 1 Axes>"
      ]
     },
     "metadata": {
      "needs_background": "light"
     },
     "output_type": "display_data"
    }
   ],
   "source": [
    "sns_barplot(costs_by_source_id, 'source_id', 'costs')\n",
    "    \n",
    "plt.title(\"Расходы на каждый рекламный источник\", fontsize = 15)\n",
    "plt.xlabel(\"Рекламный источник\", fontsize = 12, fontweight=500)\n",
    "plt.ylabel('Расходы, тыс.руб.', fontsize = 12, fontweight=500)\n",
    "plt.show();"
   ]
  },
  {
   "cell_type": "markdown",
   "metadata": {},
   "source": [
    "Больше 40% всех маркетинговых расходов приходится на рекламный источник №3, при этом на источники №6 и 7 деньги не направлялись вообще, что оправдывает низкий приток новых покупателей по этим каналам. Что касается распределения затрат по месяцам, то больше всего денег на рекламу направлялось в праздничные и предпраздничные месяцы: с октября по март. "
   ]
  },
  {
   "cell_type": "markdown",
   "metadata": {},
   "source": [
    "<a name=\"h3.3.2\"></a>\n",
    "##### Стоимость привлечения одного покупателя"
   ]
  },
  {
   "cell_type": "code",
   "execution_count": 129,
   "metadata": {},
   "outputs": [
    {
     "name": "stdout",
     "output_type": "stream",
     "text": [
      "Общий САС: 9.0 тыс.руб.\n"
     ]
    }
   ],
   "source": [
    "print('Общий САС:', round(costs_copy['costs'].sum() / orders['uid'].nunique()),'тыс.руб.')"
   ]
  },
  {
   "cell_type": "markdown",
   "metadata": {},
   "source": [
    "Рассчитаем стоимость привлечения одного покупателя из каждого источника в несколько шагов:  \n",
    "- объединим данные о первых покупках каждого покупателя (таблица `buyers`) с данными о первых сессиях (таблица `users`);\n",
    "- сгруппируем пользователей по рекламным источникам;\n",
    "- объединим с данными о расходах на рекламу (таблица `costs`) сгруппированным по рекламным источникам;\n",
    "- рассчитаем стоимость привлечения одного покупателя из каждого рекламного источника."
   ]
  },
  {
   "cell_type": "markdown",
   "metadata": {},
   "source": [
    "1. Объединение данных о первых покупках и первых сессиях"
   ]
  },
  {
   "cell_type": "code",
   "execution_count": 130,
   "metadata": {},
   "outputs": [
    {
     "data": {
      "text/html": [
       "<div>\n",
       "<style scoped>\n",
       "    .dataframe tbody tr th:only-of-type {\n",
       "        vertical-align: middle;\n",
       "    }\n",
       "\n",
       "    .dataframe tbody tr th {\n",
       "        vertical-align: top;\n",
       "    }\n",
       "\n",
       "    .dataframe thead th {\n",
       "        text-align: right;\n",
       "    }\n",
       "</style>\n",
       "<table border=\"1\" class=\"dataframe\">\n",
       "  <thead>\n",
       "    <tr style=\"text-align: right;\">\n",
       "      <th></th>\n",
       "      <th>uid</th>\n",
       "      <th>buy_ts</th>\n",
       "      <th>time_for_buy</th>\n",
       "      <th>source_id_x</th>\n",
       "      <th>device_x</th>\n",
       "      <th>start_ts</th>\n",
       "      <th>source_id_y</th>\n",
       "      <th>device_y</th>\n",
       "    </tr>\n",
       "  </thead>\n",
       "  <tbody>\n",
       "    <tr>\n",
       "      <th>0</th>\n",
       "      <td>313578113262317</td>\n",
       "      <td>2018-01-03 21:51:00</td>\n",
       "      <td>9.24e+06</td>\n",
       "      <td>2</td>\n",
       "      <td>desktop</td>\n",
       "      <td>2017-09-18 22:49:00</td>\n",
       "      <td>2</td>\n",
       "      <td>desktop</td>\n",
       "    </tr>\n",
       "  </tbody>\n",
       "</table>\n",
       "</div>"
      ],
      "text/plain": [
       "               uid              buy_ts  time_for_buy  source_id_x device_x  \\\n",
       "0  313578113262317 2018-01-03 21:51:00      9.24e+06            2  desktop   \n",
       "\n",
       "             start_ts  source_id_y device_y  \n",
       "0 2017-09-18 22:49:00            2  desktop  "
      ]
     },
     "execution_count": 130,
     "metadata": {},
     "output_type": "execute_result"
    }
   ],
   "source": [
    "data = pd.merge(buyers,users, on='uid')\n",
    "data.head(1)"
   ]
  },
  {
   "cell_type": "code",
   "execution_count": 131,
   "metadata": {},
   "outputs": [],
   "source": [
    "#удалим лишние столбцы и переименуем оставшиеся\n",
    "data = data.drop(['time_for_buy','source_id_y','device_y'], axis=1)"
   ]
  },
  {
   "cell_type": "code",
   "execution_count": 132,
   "metadata": {},
   "outputs": [
    {
     "data": {
      "text/plain": [
       "Index(['uid', 'buy_ts', 'source_id_x', 'device_x', 'start_ts'], dtype='object')"
      ]
     },
     "execution_count": 132,
     "metadata": {},
     "output_type": "execute_result"
    }
   ],
   "source": [
    "data.columns"
   ]
  },
  {
   "cell_type": "code",
   "execution_count": 133,
   "metadata": {},
   "outputs": [],
   "source": [
    "data.columns = ['uid', 'buy_ts', 'source_id', 'device', 'start_ts']"
   ]
  },
  {
   "cell_type": "markdown",
   "metadata": {},
   "source": [
    "2. Группировка пользователей по рекламным источникам"
   ]
  },
  {
   "cell_type": "code",
   "execution_count": 134,
   "metadata": {},
   "outputs": [],
   "source": [
    "data_by_source_id = data.groupby('source_id')['uid'].count().reset_index()"
   ]
  },
  {
   "cell_type": "code",
   "execution_count": 135,
   "metadata": {},
   "outputs": [
    {
     "data": {
      "text/plain": [
       "36523"
      ]
     },
     "execution_count": 135,
     "metadata": {},
     "output_type": "execute_result"
    },
    {
     "data": {
      "text/plain": [
       "36523"
      ]
     },
     "execution_count": 135,
     "metadata": {},
     "output_type": "execute_result"
    }
   ],
   "source": [
    "#проверим, что все покупатели на месте\n",
    "data_by_source_id['uid'].sum()\n",
    "orders['uid'].nunique()"
   ]
  },
  {
   "cell_type": "markdown",
   "metadata": {},
   "source": [
    "3. Объединение с данными о расходах на рекламу (таблица costs) сгруппированным по рекламным источникам"
   ]
  },
  {
   "cell_type": "code",
   "execution_count": 136,
   "metadata": {},
   "outputs": [],
   "source": [
    "#сгруппируем данные в таблице costs по рекламным источникам\n",
    "costs_by_source_id = costs_copy.groupby('source_id')['costs'].sum().reset_index()"
   ]
  },
  {
   "cell_type": "code",
   "execution_count": 137,
   "metadata": {},
   "outputs": [],
   "source": [
    "CAC_by_source_id = pd.merge(data_by_source_id,costs_by_source_id, on='source_id')"
   ]
  },
  {
   "cell_type": "markdown",
   "metadata": {},
   "source": [
    "4. Расчет стоимости привлечения одного покупателя из каждого рекламного источника"
   ]
  },
  {
   "cell_type": "code",
   "execution_count": 138,
   "metadata": {},
   "outputs": [],
   "source": [
    "CAC_by_source_id['CAC'] = CAC_by_source_id['costs'] / CAC_by_source_id['uid']"
   ]
  },
  {
   "cell_type": "code",
   "execution_count": 139,
   "metadata": {},
   "outputs": [
    {
     "data": {
      "image/png": "[encoded data removed]",
      "text/plain": [
       "<Figure size 1152x432 with 1 Axes>"
      ]
     },
     "metadata": {
      "needs_background": "light"
     },
     "output_type": "display_data"
    }
   ],
   "source": [
    "sns_barplot(CAC_by_source_id, 'source_id', 'CAC')\n",
    "  \n",
    "plt.title(\"САС по каждому рекламному источнику\", fontsize = 15)\n",
    "plt.xlabel(\"Рекламный источник\", fontsize = 12, fontweight=500)\n",
    "plt.ylabel('САС, тыс.руб.', fontsize = 12, fontweight=500)\n",
    "plt.show();"
   ]
  },
  {
   "cell_type": "markdown",
   "metadata": {},
   "source": [
    "Рассчитаем помесячную **стоимость привлечения одного покупателя** в разрезе рекламных источников. Для этого необходимо:  \n",
    "- сгруппировать данные в таблице `buyers`по рекламным источникам и месяцам;\n",
    "- сгруппировать данные по расходам на маркетинг по рекламным источникам и месяцам;\n",
    "- объединить данные и построить график."
   ]
  },
  {
   "cell_type": "markdown",
   "metadata": {},
   "source": [
    "1. Группировка таблицы с уникальными покупателями по рекламным источникам и месяцам первой покупки"
   ]
  },
  {
   "cell_type": "code",
   "execution_count": 140,
   "metadata": {},
   "outputs": [],
   "source": [
    "buyers['buy_month'] = buyers['buy_ts'].astype('datetime64[M]')"
   ]
  },
  {
   "cell_type": "code",
   "execution_count": 141,
   "metadata": {},
   "outputs": [],
   "source": [
    "buyers_by_source_month = buyers.groupby(['source_id', 'buy_month'])['uid'].count().reset_index()"
   ]
  },
  {
   "cell_type": "code",
   "execution_count": 142,
   "metadata": {},
   "outputs": [],
   "source": [
    "#объединение столбцов source_id и buy_month для дальнейшей консолидации данных\n",
    "buyers_by_source_month['source_month'] = buyers_by_source_month.source_id.astype(str).str.cat(\n",
    "    buyers_by_source_month.buy_month.astype(str), sep='-')"
   ]
  },
  {
   "cell_type": "markdown",
   "metadata": {},
   "source": [
    "2. Группировка расходов на маркетинг по рекламным источникам и месяцам"
   ]
  },
  {
   "cell_type": "code",
   "execution_count": 143,
   "metadata": {},
   "outputs": [],
   "source": [
    "costs_by_source_mounth = costs.groupby(['source_id', 'dt_month'])['costs'].sum().reset_index()"
   ]
  },
  {
   "cell_type": "code",
   "execution_count": 144,
   "metadata": {},
   "outputs": [],
   "source": [
    "#объединение столбцов source_id и dt_month для дальнейшей консолидации данных\n",
    "costs_by_source_mounth['source_month'] = costs_by_source_mounth.source_id.astype(str).str.cat(\n",
    "    costs_by_source_mounth.dt_month.astype(str), sep='-')"
   ]
  },
  {
   "cell_type": "markdown",
   "metadata": {},
   "source": [
    "3. Объединие данных и построение графика"
   ]
  },
  {
   "cell_type": "code",
   "execution_count": 145,
   "metadata": {},
   "outputs": [],
   "source": [
    "for_CAC = pd.merge(costs_by_source_mounth, buyers_by_source_month, on='source_month')"
   ]
  },
  {
   "cell_type": "code",
   "execution_count": 146,
   "metadata": {},
   "outputs": [
    {
     "data": {
      "text/plain": [
       "Index(['source_id_x', 'dt_month', 'costs', 'source_month', 'source_id_y',\n",
       "       'buy_month', 'uid'],\n",
       "      dtype='object')"
      ]
     },
     "execution_count": 146,
     "metadata": {},
     "output_type": "execute_result"
    }
   ],
   "source": [
    "#удаление лишних столбцов и переименование оставшихся\n",
    "for_CAC.columns"
   ]
  },
  {
   "cell_type": "code",
   "execution_count": 147,
   "metadata": {},
   "outputs": [],
   "source": [
    "for_CAC = for_CAC.drop(['source_id_x', 'dt_month', 'source_month'], axis=1)\n",
    "for_CAC.columns = ['costs', 'source_id', 'month', 'n_buyers']"
   ]
  },
  {
   "cell_type": "code",
   "execution_count": 148,
   "metadata": {},
   "outputs": [],
   "source": [
    "#расчет САС\n",
    "for_CAC['CAC'] = for_CAC['costs'] / for_CAC['n_buyers']"
   ]
  },
  {
   "cell_type": "code",
   "execution_count": 149,
   "metadata": {},
   "outputs": [],
   "source": [
    "#для корректного отражения даты заказа на графике, изменим тип данных в столбце month\n",
    "for_CAC['month'] = for_CAC['month'].dt.strftime('%Y-%m')"
   ]
  },
  {
   "cell_type": "code",
   "execution_count": 150,
   "metadata": {},
   "outputs": [],
   "source": [
    "CAC_source = for_CAC.pivot_table('CAC', index = 'source_id', columns='month', aggfunc='mean')"
   ]
  },
  {
   "cell_type": "code",
   "execution_count": 151,
   "metadata": {},
   "outputs": [
    {
     "data": {
      "image/png": "[encoded data removed]",
      "text/plain": [
       "<Figure size 936x360 with 1 Axes>"
      ]
     },
     "metadata": {
      "needs_background": "light"
     },
     "output_type": "display_data"
    }
   ],
   "source": [
    "plt.figure(figsize=(13, 5))\n",
    "sns.heatmap(CAC_source, annot=True, fmt='.2f', linewidths=0.2, linecolor='gray', cmap='BuGn', cbar=False)\n",
    "plt.title('CAC')\n",
    "plt.xlabel('Год и месяц заказа', fontsize = 12, fontweight=500)\n",
    "plt.ylabel('Рекламный источник', fontsize = 12, fontweight=500);"
   ]
  },
  {
   "cell_type": "markdown",
   "metadata": {},
   "source": [
    "Клиенты из рекламных источников *№2* и *3* самые дорогие, а вот покупатели привлеченные источниками №6 и 7 вообще ничего не стоили бизнесу, правда и денег они не принесли."
   ]
  },
  {
   "cell_type": "markdown",
   "metadata": {},
   "source": [
    "<a name=\"h3.3.3\"></a>\n",
    "##### Окупаемость расходов на рекламу"
   ]
  },
  {
   "cell_type": "markdown",
   "metadata": {},
   "source": [
    "Рассчитаем окупаемость расходов на рекламу в целом, а также по видам рекламных источников."
   ]
  },
  {
   "cell_type": "code",
   "execution_count": 152,
   "metadata": {},
   "outputs": [],
   "source": [
    "#сгруппируем рекламные расходы по месяцам\n",
    "costs_by_months = costs.groupby('dt_month')['costs'].sum().reset_index()"
   ]
  },
  {
   "cell_type": "code",
   "execution_count": 153,
   "metadata": {},
   "outputs": [],
   "source": [
    "#добавим к таблице report рекламные расходы\n",
    "report_new = pd.merge(report, costs_by_months, left_on='first_order_month', right_on='dt_month')"
   ]
  },
  {
   "cell_type": "code",
   "execution_count": 154,
   "metadata": {},
   "outputs": [],
   "source": [
    "#рассчитаем САС и ROMI\n",
    "report_new['cac'] = report_new['costs'] / report_new['n_buyers']\n",
    "report_new['romi'] = report_new['ltv'] / report_new['cac']"
   ]
  },
  {
   "cell_type": "markdown",
   "metadata": {},
   "source": [
    "Ограничим выборку данными по когортам, прожившим хотя бы 6 месяцев."
   ]
  },
  {
   "cell_type": "code",
   "execution_count": 155,
   "metadata": {},
   "outputs": [],
   "source": [
    "report_new_6m = report_new[report_new['first_order_month'] < '2018-01-01']"
   ]
  },
  {
   "cell_type": "code",
   "execution_count": 156,
   "metadata": {},
   "outputs": [],
   "source": [
    "#для корректного отражения даты заказа на графике, изменим тип данных в столбце month\n",
    "report_new_6m['first_order_month'] = report_new_6m['first_order_month'].dt.strftime('%Y-%m')"
   ]
  },
  {
   "cell_type": "code",
   "execution_count": 157,
   "metadata": {},
   "outputs": [],
   "source": [
    "report_new_6m = report_new_6m[report_new_6m['age'] <= 5]"
   ]
  },
  {
   "cell_type": "code",
   "execution_count": 158,
   "metadata": {},
   "outputs": [],
   "source": [
    "output = report_new_6m.pivot_table(\n",
    "        index='first_order_month', \n",
    "        columns='age', \n",
    "        values='romi', \n",
    "        aggfunc='mean').cumsum(axis=1).round(2)"
   ]
  },
  {
   "cell_type": "code",
   "execution_count": 159,
   "metadata": {},
   "outputs": [
    {
     "data": {
      "image/png": "[encoded data removed]",
      "text/plain": [
       "<Figure size 720x288 with 1 Axes>"
      ]
     },
     "metadata": {
      "needs_background": "light"
     },
     "output_type": "display_data"
    }
   ],
   "source": [
    "#отразим общий ROMI на графике heatmap\n",
    "plt.figure(figsize=(10, 4))\n",
    "sns.heatmap(output, annot=True, fmt='.2f', linewidths=0.2, linecolor='gray', cmap='BuGn', cbar=False)\n",
    "plt.title('ROMI')\n",
    "plt.xlabel('Возраст когорты, мес.', fontsize = 12, fontweight=500)\n",
    "plt.ylabel('Когорта', fontsize = 12, fontweight=500);"
   ]
  },
  {
   "cell_type": "markdown",
   "metadata": {},
   "source": [
    "Окупилась только сентябрьская когорта на четвертый месяц. Окупаемость остальных когорт в ближайшем будущем под большим вопросом, учитывая темпы изменения **ROMI** в динамике, хотя у июньской когорты есть потенциал. "
   ]
  },
  {
   "cell_type": "markdown",
   "metadata": {},
   "source": [
    "Рассчитаем показатель **ROMI** по рекламным источникам"
   ]
  },
  {
   "cell_type": "code",
   "execution_count": 160,
   "metadata": {},
   "outputs": [
    {
     "name": "stdout",
     "output_type": "stream",
     "text": [
      "ROMI по рекламному источнику № 1\n"
     ]
    },
    {
     "data": {
      "text/html": [
       "<div>\n",
       "<style scoped>\n",
       "    .dataframe tbody tr th:only-of-type {\n",
       "        vertical-align: middle;\n",
       "    }\n",
       "\n",
       "    .dataframe tbody tr th {\n",
       "        vertical-align: top;\n",
       "    }\n",
       "\n",
       "    .dataframe thead th {\n",
       "        text-align: right;\n",
       "    }\n",
       "</style>\n",
       "<table border=\"1\" class=\"dataframe\">\n",
       "  <thead>\n",
       "    <tr style=\"text-align: right;\">\n",
       "      <th>age</th>\n",
       "      <th>0</th>\n",
       "      <th>1</th>\n",
       "      <th>2</th>\n",
       "      <th>3</th>\n",
       "      <th>4</th>\n",
       "      <th>5</th>\n",
       "      <th>6</th>\n",
       "      <th>7</th>\n",
       "      <th>8</th>\n",
       "      <th>9</th>\n",
       "      <th>10</th>\n",
       "      <th>11</th>\n",
       "    </tr>\n",
       "    <tr>\n",
       "      <th>first_order_month</th>\n",
       "      <th></th>\n",
       "      <th></th>\n",
       "      <th></th>\n",
       "      <th></th>\n",
       "      <th></th>\n",
       "      <th></th>\n",
       "      <th></th>\n",
       "      <th></th>\n",
       "      <th></th>\n",
       "      <th></th>\n",
       "      <th></th>\n",
       "      <th></th>\n",
       "    </tr>\n",
       "  </thead>\n",
       "  <tbody>\n",
       "    <tr>\n",
       "      <th>2017-06-01</th>\n",
       "      <td>0.53</td>\n",
       "      <td>0.59</td>\n",
       "      <td>0.63</td>\n",
       "      <td>0.74</td>\n",
       "      <td>0.86</td>\n",
       "      <td>0.94</td>\n",
       "      <td>1</td>\n",
       "      <td>1.1</td>\n",
       "      <td>1.2</td>\n",
       "      <td>1.2</td>\n",
       "      <td>1.3</td>\n",
       "      <td>1.3</td>\n",
       "    </tr>\n",
       "    <tr>\n",
       "      <th>2017-07-01</th>\n",
       "      <td></td>\n",
       "      <td></td>\n",
       "      <td></td>\n",
       "      <td></td>\n",
       "      <td>0.019</td>\n",
       "      <td></td>\n",
       "      <td></td>\n",
       "      <td></td>\n",
       "      <td></td>\n",
       "      <td></td>\n",
       "      <td></td>\n",
       "      <td></td>\n",
       "    </tr>\n",
       "    <tr>\n",
       "      <th>2017-10-01</th>\n",
       "      <td></td>\n",
       "      <td></td>\n",
       "      <td></td>\n",
       "      <td></td>\n",
       "      <td></td>\n",
       "      <td></td>\n",
       "      <td>0.01</td>\n",
       "      <td></td>\n",
       "      <td></td>\n",
       "      <td></td>\n",
       "      <td></td>\n",
       "      <td></td>\n",
       "    </tr>\n",
       "    <tr>\n",
       "      <th>2017-12-01</th>\n",
       "      <td></td>\n",
       "      <td></td>\n",
       "      <td></td>\n",
       "      <td>0.12</td>\n",
       "      <td></td>\n",
       "      <td></td>\n",
       "      <td></td>\n",
       "      <td></td>\n",
       "      <td></td>\n",
       "      <td></td>\n",
       "      <td></td>\n",
       "      <td></td>\n",
       "    </tr>\n",
       "    <tr>\n",
       "      <th>2018-02-01</th>\n",
       "      <td></td>\n",
       "      <td></td>\n",
       "      <td>0.0088</td>\n",
       "      <td>0.017</td>\n",
       "      <td></td>\n",
       "      <td></td>\n",
       "      <td></td>\n",
       "      <td></td>\n",
       "      <td></td>\n",
       "      <td></td>\n",
       "      <td></td>\n",
       "      <td></td>\n",
       "    </tr>\n",
       "    <tr>\n",
       "      <th>2018-03-01</th>\n",
       "      <td></td>\n",
       "      <td>0.035</td>\n",
       "      <td></td>\n",
       "      <td></td>\n",
       "      <td></td>\n",
       "      <td></td>\n",
       "      <td></td>\n",
       "      <td></td>\n",
       "      <td></td>\n",
       "      <td></td>\n",
       "      <td></td>\n",
       "      <td></td>\n",
       "    </tr>\n",
       "  </tbody>\n",
       "</table>\n",
       "</div>"
      ],
      "text/plain": [
       "age                  0      1       2      3      4     5     6    7    8   \\\n",
       "first_order_month                                                            \n",
       "2017-06-01         0.53   0.59    0.63   0.74   0.86  0.94     1  1.1  1.2   \n",
       "2017-07-01                                     0.019                         \n",
       "2017-10-01                                                  0.01             \n",
       "2017-12-01                               0.12                                \n",
       "2018-02-01                      0.0088  0.017                                \n",
       "2018-03-01               0.035                                               \n",
       "\n",
       "age                 9    10   11  \n",
       "first_order_month                 \n",
       "2017-06-01         1.2  1.3  1.3  \n",
       "2017-07-01                        \n",
       "2017-10-01                        \n",
       "2017-12-01                        \n",
       "2018-02-01                        \n",
       "2018-03-01                        "
      ]
     },
     "execution_count": 160,
     "metadata": {},
     "output_type": "execute_result"
    },
    {
     "name": "stdout",
     "output_type": "stream",
     "text": [
      "ROMI по рекламному источнику № 4\n"
     ]
    },
    {
     "data": {
      "text/html": [
       "<div>\n",
       "<style scoped>\n",
       "    .dataframe tbody tr th:only-of-type {\n",
       "        vertical-align: middle;\n",
       "    }\n",
       "\n",
       "    .dataframe tbody tr th {\n",
       "        vertical-align: top;\n",
       "    }\n",
       "\n",
       "    .dataframe thead th {\n",
       "        text-align: right;\n",
       "    }\n",
       "</style>\n",
       "<table border=\"1\" class=\"dataframe\">\n",
       "  <thead>\n",
       "    <tr style=\"text-align: right;\">\n",
       "      <th>age</th>\n",
       "      <th>0</th>\n",
       "      <th>1</th>\n",
       "      <th>2</th>\n",
       "      <th>3</th>\n",
       "      <th>4</th>\n",
       "      <th>6</th>\n",
       "      <th>8</th>\n",
       "      <th>9</th>\n",
       "    </tr>\n",
       "    <tr>\n",
       "      <th>first_order_month</th>\n",
       "      <th></th>\n",
       "      <th></th>\n",
       "      <th></th>\n",
       "      <th></th>\n",
       "      <th></th>\n",
       "      <th></th>\n",
       "      <th></th>\n",
       "      <th></th>\n",
       "    </tr>\n",
       "  </thead>\n",
       "  <tbody>\n",
       "    <tr>\n",
       "      <th>2017-07-01</th>\n",
       "      <td>0.63</td>\n",
       "      <td></td>\n",
       "      <td></td>\n",
       "      <td></td>\n",
       "      <td></td>\n",
       "      <td>0.65</td>\n",
       "      <td></td>\n",
       "      <td></td>\n",
       "    </tr>\n",
       "    <tr>\n",
       "      <th>2017-08-01</th>\n",
       "      <td></td>\n",
       "      <td>0.044</td>\n",
       "      <td></td>\n",
       "      <td>0.08</td>\n",
       "      <td>0.13</td>\n",
       "      <td></td>\n",
       "      <td>0.15</td>\n",
       "      <td>0.17</td>\n",
       "    </tr>\n",
       "    <tr>\n",
       "      <th>2017-09-01</th>\n",
       "      <td>0.6</td>\n",
       "      <td></td>\n",
       "      <td>0.65</td>\n",
       "      <td></td>\n",
       "      <td></td>\n",
       "      <td></td>\n",
       "      <td></td>\n",
       "      <td></td>\n",
       "    </tr>\n",
       "    <tr>\n",
       "      <th>2017-10-01</th>\n",
       "      <td>0.6</td>\n",
       "      <td></td>\n",
       "      <td></td>\n",
       "      <td></td>\n",
       "      <td>0.62</td>\n",
       "      <td></td>\n",
       "      <td></td>\n",
       "      <td></td>\n",
       "    </tr>\n",
       "    <tr>\n",
       "      <th>2017-11-01</th>\n",
       "      <td>0.55</td>\n",
       "      <td>0.6</td>\n",
       "      <td></td>\n",
       "      <td></td>\n",
       "      <td></td>\n",
       "      <td></td>\n",
       "      <td></td>\n",
       "      <td></td>\n",
       "    </tr>\n",
       "    <tr>\n",
       "      <th>2017-12-01</th>\n",
       "      <td>0.54</td>\n",
       "      <td></td>\n",
       "      <td></td>\n",
       "      <td></td>\n",
       "      <td></td>\n",
       "      <td></td>\n",
       "      <td></td>\n",
       "      <td></td>\n",
       "    </tr>\n",
       "    <tr>\n",
       "      <th>2018-02-01</th>\n",
       "      <td></td>\n",
       "      <td>0.031</td>\n",
       "      <td></td>\n",
       "      <td></td>\n",
       "      <td></td>\n",
       "      <td></td>\n",
       "      <td></td>\n",
       "      <td></td>\n",
       "    </tr>\n",
       "    <tr>\n",
       "      <th>2018-04-01</th>\n",
       "      <td>0.48</td>\n",
       "      <td></td>\n",
       "      <td></td>\n",
       "      <td></td>\n",
       "      <td></td>\n",
       "      <td></td>\n",
       "      <td></td>\n",
       "      <td></td>\n",
       "    </tr>\n",
       "    <tr>\n",
       "      <th>2018-05-01</th>\n",
       "      <td>0.63</td>\n",
       "      <td></td>\n",
       "      <td></td>\n",
       "      <td></td>\n",
       "      <td></td>\n",
       "      <td></td>\n",
       "      <td></td>\n",
       "      <td></td>\n",
       "    </tr>\n",
       "  </tbody>\n",
       "</table>\n",
       "</div>"
      ],
      "text/plain": [
       "age                   0      1     2     3     4     6     8     9\n",
       "first_order_month                                                 \n",
       "2017-07-01         0.63                           0.65            \n",
       "2017-08-01               0.044        0.08  0.13        0.15  0.17\n",
       "2017-09-01          0.6         0.65                              \n",
       "2017-10-01          0.6                     0.62                  \n",
       "2017-11-01         0.55    0.6                                    \n",
       "2017-12-01         0.54                                           \n",
       "2018-02-01               0.031                                    \n",
       "2018-04-01         0.48                                           \n",
       "2018-05-01         0.63                                           "
      ]
     },
     "execution_count": 160,
     "metadata": {},
     "output_type": "execute_result"
    },
    {
     "name": "stdout",
     "output_type": "stream",
     "text": [
      "ROMI по рекламному источнику № 5\n"
     ]
    },
    {
     "data": {
      "text/html": [
       "<div>\n",
       "<style scoped>\n",
       "    .dataframe tbody tr th:only-of-type {\n",
       "        vertical-align: middle;\n",
       "    }\n",
       "\n",
       "    .dataframe tbody tr th {\n",
       "        vertical-align: top;\n",
       "    }\n",
       "\n",
       "    .dataframe thead th {\n",
       "        text-align: right;\n",
       "    }\n",
       "</style>\n",
       "<table border=\"1\" class=\"dataframe\">\n",
       "  <thead>\n",
       "    <tr style=\"text-align: right;\">\n",
       "      <th>age</th>\n",
       "      <th>0</th>\n",
       "      <th>1</th>\n",
       "      <th>3</th>\n",
       "      <th>5</th>\n",
       "      <th>6</th>\n",
       "      <th>7</th>\n",
       "      <th>9</th>\n",
       "    </tr>\n",
       "    <tr>\n",
       "      <th>first_order_month</th>\n",
       "      <th></th>\n",
       "      <th></th>\n",
       "      <th></th>\n",
       "      <th></th>\n",
       "      <th></th>\n",
       "      <th></th>\n",
       "      <th></th>\n",
       "    </tr>\n",
       "  </thead>\n",
       "  <tbody>\n",
       "    <tr>\n",
       "      <th>2017-07-01</th>\n",
       "      <td></td>\n",
       "      <td>0.035</td>\n",
       "      <td>0.073</td>\n",
       "      <td>0.09</td>\n",
       "      <td></td>\n",
       "      <td>0.1</td>\n",
       "      <td>0.12</td>\n",
       "    </tr>\n",
       "    <tr>\n",
       "      <th>2017-08-01</th>\n",
       "      <td></td>\n",
       "      <td></td>\n",
       "      <td></td>\n",
       "      <td></td>\n",
       "      <td>0.02</td>\n",
       "      <td></td>\n",
       "      <td></td>\n",
       "    </tr>\n",
       "    <tr>\n",
       "      <th>2017-10-01</th>\n",
       "      <td></td>\n",
       "      <td>0.064</td>\n",
       "      <td></td>\n",
       "      <td>0.078</td>\n",
       "      <td></td>\n",
       "      <td>0.092</td>\n",
       "      <td></td>\n",
       "    </tr>\n",
       "    <tr>\n",
       "      <th>2018-03-01</th>\n",
       "      <td>0.56</td>\n",
       "      <td></td>\n",
       "      <td></td>\n",
       "      <td></td>\n",
       "      <td></td>\n",
       "      <td></td>\n",
       "      <td></td>\n",
       "    </tr>\n",
       "  </tbody>\n",
       "</table>\n",
       "</div>"
      ],
      "text/plain": [
       "age                   0      1      3      5     6      7     9\n",
       "first_order_month                                              \n",
       "2017-07-01               0.035  0.073   0.09          0.1  0.12\n",
       "2017-08-01                                    0.02             \n",
       "2017-10-01               0.064         0.078        0.092      \n",
       "2018-03-01         0.56                                        "
      ]
     },
     "execution_count": 160,
     "metadata": {},
     "output_type": "execute_result"
    },
    {
     "name": "stdout",
     "output_type": "stream",
     "text": [
      "ROMI по рекламному источнику № 3\n"
     ]
    },
    {
     "data": {
      "text/html": [
       "<div>\n",
       "<style scoped>\n",
       "    .dataframe tbody tr th:only-of-type {\n",
       "        vertical-align: middle;\n",
       "    }\n",
       "\n",
       "    .dataframe tbody tr th {\n",
       "        vertical-align: top;\n",
       "    }\n",
       "\n",
       "    .dataframe thead th {\n",
       "        text-align: right;\n",
       "    }\n",
       "</style>\n",
       "<table border=\"1\" class=\"dataframe\">\n",
       "  <thead>\n",
       "    <tr style=\"text-align: right;\">\n",
       "      <th>age</th>\n",
       "      <th>0</th>\n",
       "      <th>1</th>\n",
       "      <th>2</th>\n",
       "      <th>4</th>\n",
       "      <th>5</th>\n",
       "      <th>6</th>\n",
       "      <th>7</th>\n",
       "      <th>8</th>\n",
       "      <th>10</th>\n",
       "    </tr>\n",
       "    <tr>\n",
       "      <th>first_order_month</th>\n",
       "      <th></th>\n",
       "      <th></th>\n",
       "      <th></th>\n",
       "      <th></th>\n",
       "      <th></th>\n",
       "      <th></th>\n",
       "      <th></th>\n",
       "      <th></th>\n",
       "      <th></th>\n",
       "    </tr>\n",
       "  </thead>\n",
       "  <tbody>\n",
       "    <tr>\n",
       "      <th>2017-07-01</th>\n",
       "      <td></td>\n",
       "      <td></td>\n",
       "      <td>0.066</td>\n",
       "      <td></td>\n",
       "      <td></td>\n",
       "      <td></td>\n",
       "      <td></td>\n",
       "      <td>0.083</td>\n",
       "      <td>0.099</td>\n",
       "    </tr>\n",
       "    <tr>\n",
       "      <th>2017-08-01</th>\n",
       "      <td></td>\n",
       "      <td></td>\n",
       "      <td>0.042</td>\n",
       "      <td></td>\n",
       "      <td>0.069</td>\n",
       "      <td></td>\n",
       "      <td>0.11</td>\n",
       "      <td></td>\n",
       "      <td></td>\n",
       "    </tr>\n",
       "    <tr>\n",
       "      <th>2017-10-01</th>\n",
       "      <td></td>\n",
       "      <td></td>\n",
       "      <td>0.023</td>\n",
       "      <td></td>\n",
       "      <td></td>\n",
       "      <td></td>\n",
       "      <td></td>\n",
       "      <td></td>\n",
       "      <td></td>\n",
       "    </tr>\n",
       "    <tr>\n",
       "      <th>2017-11-01</th>\n",
       "      <td></td>\n",
       "      <td></td>\n",
       "      <td>0.021</td>\n",
       "      <td>0.037</td>\n",
       "      <td>0.043</td>\n",
       "      <td>0.056</td>\n",
       "      <td></td>\n",
       "      <td></td>\n",
       "      <td></td>\n",
       "    </tr>\n",
       "    <tr>\n",
       "      <th>2017-12-01</th>\n",
       "      <td></td>\n",
       "      <td></td>\n",
       "      <td>0.11</td>\n",
       "      <td>0.14</td>\n",
       "      <td>0.18</td>\n",
       "      <td></td>\n",
       "      <td></td>\n",
       "      <td></td>\n",
       "      <td></td>\n",
       "    </tr>\n",
       "    <tr>\n",
       "      <th>2018-01-01</th>\n",
       "      <td>0.42</td>\n",
       "      <td>0.45</td>\n",
       "      <td>0.48</td>\n",
       "      <td>0.48</td>\n",
       "      <td></td>\n",
       "      <td></td>\n",
       "      <td></td>\n",
       "      <td></td>\n",
       "      <td></td>\n",
       "    </tr>\n",
       "    <tr>\n",
       "      <th>2018-02-01</th>\n",
       "      <td>0.46</td>\n",
       "      <td></td>\n",
       "      <td></td>\n",
       "      <td></td>\n",
       "      <td></td>\n",
       "      <td></td>\n",
       "      <td></td>\n",
       "      <td></td>\n",
       "      <td></td>\n",
       "    </tr>\n",
       "    <tr>\n",
       "      <th>2018-03-01</th>\n",
       "      <td></td>\n",
       "      <td></td>\n",
       "      <td>0.037</td>\n",
       "      <td></td>\n",
       "      <td></td>\n",
       "      <td></td>\n",
       "      <td></td>\n",
       "      <td></td>\n",
       "      <td></td>\n",
       "    </tr>\n",
       "  </tbody>\n",
       "</table>\n",
       "</div>"
      ],
      "text/plain": [
       "age                  0     1      2      4      5      6     7      8      10\n",
       "first_order_month                                                            \n",
       "2017-07-01                     0.066                             0.083  0.099\n",
       "2017-08-01                     0.042         0.069         0.11              \n",
       "2017-10-01                     0.023                                         \n",
       "2017-11-01                     0.021  0.037  0.043  0.056                    \n",
       "2017-12-01                      0.11   0.14   0.18                           \n",
       "2018-01-01         0.42  0.45   0.48   0.48                                  \n",
       "2018-02-01         0.46                                                      \n",
       "2018-03-01                     0.037                                         "
      ]
     },
     "execution_count": 160,
     "metadata": {},
     "output_type": "execute_result"
    },
    {
     "name": "stdout",
     "output_type": "stream",
     "text": [
      "ROMI по рекламному источнику № 10\n"
     ]
    },
    {
     "data": {
      "text/html": [
       "<div>\n",
       "<style scoped>\n",
       "    .dataframe tbody tr th:only-of-type {\n",
       "        vertical-align: middle;\n",
       "    }\n",
       "\n",
       "    .dataframe tbody tr th {\n",
       "        vertical-align: top;\n",
       "    }\n",
       "\n",
       "    .dataframe thead th {\n",
       "        text-align: right;\n",
       "    }\n",
       "</style>\n",
       "<table border=\"1\" class=\"dataframe\">\n",
       "  <thead>\n",
       "    <tr style=\"text-align: right;\">\n",
       "      <th>age</th>\n",
       "      <th>0</th>\n",
       "      <th>1</th>\n",
       "      <th>3</th>\n",
       "    </tr>\n",
       "    <tr>\n",
       "      <th>first_order_month</th>\n",
       "      <th></th>\n",
       "      <th></th>\n",
       "      <th></th>\n",
       "    </tr>\n",
       "  </thead>\n",
       "  <tbody>\n",
       "    <tr>\n",
       "      <th>2017-08-01</th>\n",
       "      <td>0.49</td>\n",
       "      <td></td>\n",
       "      <td></td>\n",
       "    </tr>\n",
       "    <tr>\n",
       "      <th>2017-11-01</th>\n",
       "      <td></td>\n",
       "      <td></td>\n",
       "      <td>0.035</td>\n",
       "    </tr>\n",
       "    <tr>\n",
       "      <th>2017-12-01</th>\n",
       "      <td></td>\n",
       "      <td>0.03</td>\n",
       "      <td></td>\n",
       "    </tr>\n",
       "  </tbody>\n",
       "</table>\n",
       "</div>"
      ],
      "text/plain": [
       "age                   0     1      3\n",
       "first_order_month                   \n",
       "2017-08-01         0.49             \n",
       "2017-11-01                     0.035\n",
       "2017-12-01               0.03       "
      ]
     },
     "execution_count": 160,
     "metadata": {},
     "output_type": "execute_result"
    },
    {
     "name": "stdout",
     "output_type": "stream",
     "text": [
      "ROMI по рекламному источнику № 2\n"
     ]
    },
    {
     "data": {
      "text/html": [
       "<div>\n",
       "<style scoped>\n",
       "    .dataframe tbody tr th:only-of-type {\n",
       "        vertical-align: middle;\n",
       "    }\n",
       "\n",
       "    .dataframe tbody tr th {\n",
       "        vertical-align: top;\n",
       "    }\n",
       "\n",
       "    .dataframe thead th {\n",
       "        text-align: right;\n",
       "    }\n",
       "</style>\n",
       "<table border=\"1\" class=\"dataframe\">\n",
       "  <thead>\n",
       "    <tr style=\"text-align: right;\">\n",
       "      <th>age</th>\n",
       "      <th>1</th>\n",
       "      <th>3</th>\n",
       "      <th>4</th>\n",
       "      <th>5</th>\n",
       "      <th>6</th>\n",
       "      <th>7</th>\n",
       "      <th>8</th>\n",
       "    </tr>\n",
       "    <tr>\n",
       "      <th>first_order_month</th>\n",
       "      <th></th>\n",
       "      <th></th>\n",
       "      <th></th>\n",
       "      <th></th>\n",
       "      <th></th>\n",
       "      <th></th>\n",
       "      <th></th>\n",
       "    </tr>\n",
       "  </thead>\n",
       "  <tbody>\n",
       "    <tr>\n",
       "      <th>2017-09-01</th>\n",
       "      <td>0.12</td>\n",
       "      <td>0.54</td>\n",
       "      <td>0.58</td>\n",
       "      <td>0.65</td>\n",
       "      <td>0.72</td>\n",
       "      <td>0.75</td>\n",
       "      <td>0.77</td>\n",
       "    </tr>\n",
       "    <tr>\n",
       "      <th>2018-01-01</th>\n",
       "      <td></td>\n",
       "      <td>0.01</td>\n",
       "      <td></td>\n",
       "      <td></td>\n",
       "      <td></td>\n",
       "      <td></td>\n",
       "      <td></td>\n",
       "    </tr>\n",
       "  </tbody>\n",
       "</table>\n",
       "</div>"
      ],
      "text/plain": [
       "age                   1     3     4     5     6     7     8\n",
       "first_order_month                                          \n",
       "2017-09-01         0.12  0.54  0.58  0.65  0.72  0.75  0.77\n",
       "2018-01-01               0.01                              "
      ]
     },
     "execution_count": 160,
     "metadata": {},
     "output_type": "execute_result"
    },
    {
     "name": "stdout",
     "output_type": "stream",
     "text": [
      "ROMI по рекламному источнику № 9\n"
     ]
    },
    {
     "data": {
      "text/html": [
       "<div>\n",
       "<style scoped>\n",
       "    .dataframe tbody tr th:only-of-type {\n",
       "        vertical-align: middle;\n",
       "    }\n",
       "\n",
       "    .dataframe tbody tr th {\n",
       "        vertical-align: top;\n",
       "    }\n",
       "\n",
       "    .dataframe thead th {\n",
       "        text-align: right;\n",
       "    }\n",
       "</style>\n",
       "<table border=\"1\" class=\"dataframe\">\n",
       "  <thead>\n",
       "    <tr style=\"text-align: right;\">\n",
       "      <th>age</th>\n",
       "      <th>1</th>\n",
       "      <th>3</th>\n",
       "    </tr>\n",
       "    <tr>\n",
       "      <th>first_order_month</th>\n",
       "      <th></th>\n",
       "      <th></th>\n",
       "    </tr>\n",
       "  </thead>\n",
       "  <tbody>\n",
       "    <tr>\n",
       "      <th>2017-10-01</th>\n",
       "      <td></td>\n",
       "      <td>0.019</td>\n",
       "    </tr>\n",
       "    <tr>\n",
       "      <th>2018-04-01</th>\n",
       "      <td>0.054</td>\n",
       "      <td></td>\n",
       "    </tr>\n",
       "  </tbody>\n",
       "</table>\n",
       "</div>"
      ],
      "text/plain": [
       "age                    1      3\n",
       "first_order_month              \n",
       "2017-10-01                0.019\n",
       "2018-04-01         0.054       "
      ]
     },
     "execution_count": 160,
     "metadata": {},
     "output_type": "execute_result"
    }
   ],
   "source": [
    "source_id = pd.unique(report_new['source_id']).tolist()\n",
    "for element in source_id:\n",
    "    output = report_new[report_new['source_id'] == element].pivot_table(\n",
    "            index='first_order_month', \n",
    "            columns='age', \n",
    "            values='romi', \n",
    "            aggfunc='mean')\n",
    "    print('ROMI по рекламному источнику №', element)\n",
    "    output.cumsum(axis=1).fillna('')"
   ]
  },
  {
   "cell_type": "markdown",
   "metadata": {},
   "source": [
    "Вычислим какую часть расходов на рекламу перекрыла полученная выручка за рассматриваемый период."
   ]
  },
  {
   "cell_type": "code",
   "execution_count": 161,
   "metadata": {},
   "outputs": [
    {
     "name": "stdout",
     "output_type": "stream",
     "text": [
      "Доля расходов на рекламу, которая была возмещена полученной выручкой: 76 %\n"
     ]
    }
   ],
   "source": [
    "print('Доля расходов на рекламу, которая была возмещена полученной выручкой:', \n",
    "      int(orders['revenue'].sum() * 100 / costs['costs'].sum()), '%')"
   ]
  },
  {
   "cell_type": "markdown",
   "metadata": {},
   "source": [
    "На горизонте в 12 мес. расходы на маркетинг в разрезе рекламных источников практически не окупились. Оправдал себя только источник №1 благодаря июньской когорте 2017 года. Неплохой потенциал показал источник №4  - в первый же месяц полученная выручка перекрывала более 50% расходов на рекламу, однако в дальнейшем повторные заказы практически не совершались."
   ]
  },
  {
   "cell_type": "markdown",
   "metadata": {},
   "source": [
    "**Вывод**  \n",
    "В целом выбранная стратегия рекламной кампании себя не оправдала. Несмотря на то, что с увеличением расходов на рекламу с октября по март наблюдался рост числа новых покупателей и заказов, приток клиентов не окупил вложений. Из всех привлеченных рекламных источников есть смысл обратить внимание на №1 и 4 - их показатель **ROMI** выглядит лучше, чем у других."
   ]
  },
  {
   "cell_type": "markdown",
   "metadata": {},
   "source": [
    "<a name=\"h4\"></a>\n",
    "### 4. Вывод и рекомендации"
   ]
  },
  {
   "cell_type": "markdown",
   "metadata": {},
   "source": [
    "За 12 месяцев полученная выручка составила всего 76% от понесенных расходов на рекламу. При этом помимо маркетинговых расходов компания несет и другие затраты, которые тоже должны окупаться, чтобы бизнес вышел хотя бы в точку безубыточности.  \n",
    "В ходе исследования было обнаружено, что наиболее эффективными, согласно показателю **ROMI**, являются рекламные источники №1 и 4, хотя даже их окупаемость достигается не раньше 7 месяца. Отдельного внимания заслуживает источник №2, по которому средний чек покупателей заметно выше, чем по другим источникам, однако по причине высокой стоимости рекламных услуг и небольшого количества заказов, вложения не окупились. Если удастся договориться о снижении стоимости услуг, показатель **ROMI** может значительно улучшится.  \n",
    "Также есть смысл обратить внимание на развитие платформы для устройств категории *desktop* - сейчас на них приходится 73% всех посещений, однако время с момента первого визита до первого заказа гораздо меньше на устройствах категории *touch*. Возможно последняя платформа обладает более удобным интерфейсом по сравнению с первой."
   ]
  }
 ],
 "metadata": {
  "kernelspec": {
   "display_name": "Python 3",
   "language": "python",
   "name": "python3"
  },
  "language_info": {
   "codemirror_mode": {
    "name": "ipython",
    "version": 3
   },
   "file_extension": ".py",
   "mimetype": "text/x-python",
   "name": "python",
   "nbconvert_exporter": "python",
   "pygments_lexer": "ipython3",
   "version": "3.8.3"
  },
  "toc": {
   "base_numbering": 1,
   "nav_menu": {},
   "number_sections": true,
   "sideBar": true,
   "skip_h1_title": true,
   "title_cell": "Table of Contents",
   "title_sidebar": "Contents",
   "toc_cell": false,
   "toc_position": {},
   "toc_section_display": true,
   "toc_window_display": false
  }
 },
 "nbformat": 4,
 "nbformat_minor": 2
}
